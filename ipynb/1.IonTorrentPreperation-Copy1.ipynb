{
 "cells": [
  {
   "cell_type": "markdown",
   "id": "859fae62-1d76-4bbb-b37e-943e3fae6b90",
   "metadata": {},
   "source": [
    "**Author**: JW Debelius (justine.debelius@ki.se)<br>\n",
    "**Date**: September 2021<br>\n",
    "**Enviroment**: `qiime2-2021.8-dev`<br>\n",
    "**Python version**: 3.8<br>\n",
    "**Extra packages**: None<br>\n",
    "**QIIME version**: 2021.8-dev<br>\n",
    "**Extra Plugins**: q2-sidle (memory refactor); RESCRIPt (v. )"
   ]
  },
  {
   "cell_type": "markdown",
   "id": "fe1d8979-99df-43ba-9fb2-34431fbfb3c2",
   "metadata": {
    "tags": []
   },
   "source": [
    "# Mock Community Data Preperation\n",
    "\n",
    "## Background\n",
    "\n",
    "This notebook will process four mock community samples sequenced with the Ion torrent metagenomic kit, originally published by [Barb et al, 2015](https://pubmed.ncbi.nlm.nih.gov/26829716/). In the original paper, the authors profiled four mock communites using the 6 primer proprietary Ion Torrent kit. This kit using 6 primer pairs to target 7 regions along the 16Ss gene with both forward and reverse reads possible.\n",
    "* V2\n",
    "* V4\n",
    "* V8\n",
    "* V3\n",
    "* V67\n",
    "* V9\n",
    "\n",
    "In the original paper, the authors compared the performance for each region compared to the baseline. They clusstered sequences into de novo OTUs clustered with UPARSE; taxonomic assignment was made in QIIME 1 and then compared using abundance profiling, and deviation from published Shannon diversity. "
   ]
  },
  {
   "cell_type": "markdown",
   "id": "39ae5cab-c1b0-486d-a7f2-cf0d168cbe74",
   "metadata": {
    "tags": []
   },
   "source": [
    "## Data download and avaliability\n",
    "\n",
    "Sequences were deposided in SRA under accession SUB1054354. We used the [SRA CLI tools]() to download the sequences and the provided sample sheet. Sequence fastq files and the description were saved in the `mock` folder in the `data/input` directory. "
   ]
  },
  {
   "cell_type": "markdown",
   "id": "bac87ff6-8a03-4739-8b4b-48b909d9de41",
   "metadata": {},
   "source": [
    "When they were deposited, the sequences were demultiplexed by sample, but not by region. The Ion Torrent kit produced reads for 12 regions (6forward and 6 reverse), meaning that to be able to use the sequences here, we need to split them into regions."
   ]
  },
  {
   "cell_type": "markdown",
   "id": "ba7066cd-56bb-4ba2-b97c-eda255b3a9c7",
   "metadata": {},
   "source": [
    "## Preprocessing Approach\n",
    "\n",
    "For the sake of not hating everyone and everything in existing, we will take a somewhat less optimal approach and try to do a regional demux on  already denoised sequences, because otherwise both I and my computer willcry.         \n",
    "So, Sequenced are prepared through the following steps: \n",
    "\n",
    "1. Sequences from each sample are filtered based on read length into batches based on read length. For this, we'll use 150, 200, 250, and 300 nt reads.\n",
    "2. Import reads for each length using the manifest format \n",
    "3. Denoise the per-region sequences to their fixed read length using dada2-pyro which better handles the error profile. Trim the reads to the approriate read length during sequencing. \n",
    "4. Use RESCRIPt to orient the sequences so they have a consistent orientation\n",
    "5. Align the reads against the reference sequences to seperate them into regions\n",
    "6. Identify he regions through some kind of witch craft\n",
    "7. Filter the sequences into samples and regions\n",
    "8. Account for all the sequences that were lost during filtering, aligning, \n",
    "<!-- 9. Consider life choices and decide why there is such an obsession with mock communitites -->"
   ]
  },
  {
   "cell_type": "markdown",
   "id": "dd8fa58e-8dbf-436e-8246-9d063f794eb8",
   "metadata": {},
   "source": [
    "## Set up"
   ]
  },
  {
   "cell_type": "code",
   "execution_count": 1,
   "id": "c4f60e5f-674c-4ec4-b3bf-e6f764bd0a1f",
   "metadata": {},
   "outputs": [],
   "source": [
    "import os\n",
    "\n",
    "import matplotlib.pyplot as plt\n",
    "import numpy as np\n",
    "import pandas as pd\n",
    "import skbio\n",
    "\n",
    "%matplotlib inline\n",
    "\n",
    "from qiime2 import Artifact, Metadata, Visualization"
   ]
  },
  {
   "cell_type": "markdown",
   "id": "66101f5a-4c67-44de-bd5c-33b88db18277",
   "metadata": {},
   "source": []
  },
  {
   "cell_type": "code",
   "execution_count": 2,
   "id": "9bf5da3f-9e25-4e42-b304-fdc7c19517d5",
   "metadata": {},
   "outputs": [],
   "source": [
    "input_dir = 'data/inputs/mock/' # modify if you've placed the files in another location\n",
    "output_dir = 'data/output/mock/' # Change this if you want a different output"
   ]
  },
  {
   "cell_type": "code",
   "execution_count": 3,
   "id": "af0f1a9e-9ef0-477e-8276-75687700353f",
   "metadata": {},
   "outputs": [],
   "source": [
    "read_lengths = np.array([200])\n",
    "# read_lengths = np.array([200])"
   ]
  },
  {
   "cell_type": "markdown",
   "id": "406e38fc-ba0c-4cf5-9152-907dc4290812",
   "metadata": {},
   "source": []
  },
  {
   "cell_type": "code",
   "execution_count": 4,
   "id": "104038f3-2fb4-498f-b14b-bcad005d46b0",
   "metadata": {},
   "outputs": [],
   "source": [
    "steps = {\n",
    "    'split_by_length': {\n",
    "        'run': True,\n",
    "        'overwrite': True,\n",
    "        'input_dir': input_dir,\n",
    "        'output_dir': os.path.join(output_dir, '1.split_length')\n",
    "    },\n",
    "    'import_seqs': {\n",
    "        'run': True,\n",
    "        'overwrite': True,\n",
    "        'input_dir': os.path.join(output_dir, '1.split_length'),\n",
    "        'output_dir': os.path.join(output_dir, '2.split_manifest'),\n",
    "    },\n",
    "    'denoise_seqs': {\n",
    "        'run': True,\n",
    "        'overwrite': True,\n",
    "        'input_dir':  os.path.join(output_dir, '2.split_manifest'),\n",
    "        'output_dir':  os.path.join(output_dir, '3.denoised'),\n",
    "    },\n",
    "    'cluster_orientation': {\n",
    "        'run': True,\n",
    "        'overwrite': True,\n",
    "        'input_dir': os.path.join(output_dir, '3.denoised'),\n",
    "        'output_dir': os.path.join(output_dir, '4.sequence_orientation'),\n",
    "        'reference_fp': 'data/reference/gg_13_8_88/88_otus.qza',\n",
    "    },\n",
    "    'align_to_reference': {\n",
    "        'run': True,\n",
    "        'overwrite': True,\n",
    "        'input_dir':  os.path.join(output_dir, '4.sequence_orientation'),\n",
    "        'output_dir': os.path.join(output_dir, '5.aligned_to_ref'),\n",
    "        'reference_fp': 'data/reference/gg_13_8_88/gg_88_otus_aligned.qza',\n",
    "    }\n",
    "}"
   ]
  },
  {
   "cell_type": "code",
   "execution_count": null,
   "id": "a7b1c7c2-a331-4722-a880-78c70396fc47",
   "metadata": {},
   "outputs": [],
   "source": []
  },
  {
   "cell_type": "markdown",
   "id": "279a3648-eb6c-46c1-a5e2-15e8d93bacc9",
   "metadata": {},
   "source": []
  },
  {
   "cell_type": "code",
   "execution_count": 5,
   "id": "ae0f2fe0-dbe6-4923-98e1-79c8c62a7c01",
   "metadata": {},
   "outputs": [],
   "source": [
    "samples = [fp.split('.')[0] for fp in os.listdir(input_dir)\n",
    "           if (os.path.splitext(fp)[1] == '.fastq') & ('_1' in fp)]\n",
    "samples = [samples[0]]"
   ]
  },
  {
   "cell_type": "markdown",
   "id": "ea55fa6f-9bda-4ef9-b2e0-d78e0ff10295",
   "metadata": {},
   "source": [
    "## Preprocessing\n",
    "### Split sequences into read lengths\n",
    "\n",
    "We'll start by splitting sequences into batches based on the read lengths. For each sample,\n",
    "we'll load the sequences, determine the read lengths, and then group the sequences according to the read lengths provided. "
   ]
  },
  {
   "cell_type": "code",
   "execution_count": 132,
   "id": "64613137-5c1d-432b-9fc4-38266e86954d",
   "metadata": {},
   "outputs": [],
   "source": [
    "def batch_sequence_by_length(sample, ori_fastq, output_dir, \n",
    "                             read_lengths=read_lengths):\n",
    "    \"\"\"\n",
    "    Splits sequences in batches based on read on read lengths\n",
    "    \"\"\"\n",
    "    # Loads the file\n",
    "    seqs_with_qual = skbio.io.read(ori_fastq, \n",
    "                               format='fastq', \n",
    "                               phred_offset=33,\n",
    "                               )\n",
    "    # Determines the length and reads in the sequence\n",
    "    seq_lengths = pd.DataFrame.from_dict(orient='index', data={\n",
    "        seq.metadata['id']: {'seq': seq,\n",
    "                             'length': len(seq),\n",
    "                             }\n",
    "        for seq in seqs_with_qual\n",
    "    })\n",
    "    # Groups the ssequences into batches based on the read lengths\n",
    "    seq_group = pd.concat(axis=1, objs=[(seq_lengths['length'] > (length)) * 1 \n",
    "                          for length in read_lengths]).sum(axis=1)\n",
    "    seq_group.replace({i + 1: length for i, length in enumerate(read_lengths)},\n",
    "                       inplace=True)\n",
    "    seq_lengths['batch'] = seq_group\n",
    "    \n",
    "    seq_batches = \\\n",
    "        seq_lengths.groupby('batch', sort=False)['seq'].apply(lambda x: x.values)\n",
    "    seq_batches = seq_batches.loc[read_lengths]\n",
    "    \n",
    "    for length, reads in seq_batches.iteritems():\n",
    "        fp_ = f'{output_dir}/{length}.fastq'\n",
    "        f_ = skbio.io.open(fp_, 'w')\n",
    "        for seq in reads:\n",
    "            seq.write(f_, format='fastq', phred_offset=33)"
   ]
  },
  {
   "cell_type": "markdown",
   "id": "dcb00352-bb8c-41eb-ac1b-90dd09c63d33",
   "metadata": {},
   "source": []
  },
  {
   "cell_type": "code",
   "execution_count": 133,
   "id": "9a80c32a-e2ef-4c4e-bb09-e4c2c96f884d",
   "metadata": {},
   "outputs": [],
   "source": [
    "step_overwrite = steps['split_by_length']['overwrite']\n",
    "step_output_dir = steps['split_by_length']['output_dir']\n",
    "\n",
    "os.makedirs(step_output_dir, exist_ok=step_overwrite)"
   ]
  },
  {
   "cell_type": "markdown",
   "id": "f2f1bd14-acd2-4ac5-b7e4-e66a7cb94e70",
   "metadata": {},
   "source": []
  },
  {
   "cell_type": "code",
   "execution_count": 134,
   "id": "ebe8a0fc-765d-42d3-a814-b2c51dee21da",
   "metadata": {},
   "outputs": [
    {
     "name": "stdout",
     "output_type": "stream",
     "text": [
      "SRR2182221_1\n"
     ]
    }
   ],
   "source": [
    "for sample in samples:\n",
    "    print(sample)\n",
    "\n",
    "    # Sets up the sample path and output directory\n",
    "    ori_fastq = os.path.join(input_dir, f'{sample}.fastq')\n",
    "    sample_dir = os.path.join(step_output_dir, sample)\n",
    "    os.makedirs(sample_dir, exist_ok=step_overwrite)\n",
    "\n",
    "    # Batches the sequences \n",
    "    batch_sequence_by_length(sample, ori_fastq, sample_dir, read_lengths)"
   ]
  },
  {
   "cell_type": "markdown",
   "id": "c2eac825-aa2e-4541-bc0a-52b2c7e4a2af",
   "metadata": {},
   "source": [
    "### Import the data into QIIME 2 using a manifest format\n",
    "\n",
    "Having split the data from each sample by read length, we'll "
   ]
  },
  {
   "cell_type": "code",
   "execution_count": 135,
   "id": "e7dcdf85-6ee0-4e80-b097-097ca9bc9cbb",
   "metadata": {},
   "outputs": [],
   "source": [
    "def build_manifest(samples, read_length):\n",
    "    \"\"\"\n",
    "    Builds a sample manifest for a specified read length\n",
    "    \"\"\"\n",
    "    manifest = pd.DataFrame.from_dict(orient='index', data={\n",
    "        sample: {\n",
    "            'absolute-filepath': os.path.abspath(f'{manifest_input_dir}/'\n",
    "                                                 f'{sample}/{read_length}.fastq')\n",
    "        }\n",
    "        for sample in samples\n",
    "    })\n",
    "    manifest.index.set_names('sample-id', inplace=True)\n",
    "    return Metadata(manifest)"
   ]
  },
  {
   "cell_type": "code",
   "execution_count": 136,
   "id": "0dc988c4-1534-4443-8f62-b19c0e41fa1e",
   "metadata": {},
   "outputs": [],
   "source": [
    "manifest_input_dir = step_output_dir\n",
    "manifest_output_dir = steps['import_seqs']['output_dir']\n",
    "manifest_overwrite = steps['import_seqs']['overwrite']\n",
    "\n",
    "os.makedirs(manifest_output_dir, exist_ok=manifest_overwrite)\n",
    "\n"
   ]
  },
  {
   "cell_type": "code",
   "execution_count": null,
   "id": "47208087-d89b-4325-9633-151eb321bce3",
   "metadata": {},
   "outputs": [],
   "source": []
  },
  {
   "cell_type": "code",
   "execution_count": 137,
   "id": "8da60b2d-5c95-47a2-959d-588f47913c96",
   "metadata": {},
   "outputs": [
    {
     "name": "stdout",
     "output_type": "stream",
     "text": [
      "\u001b[32mImported data/output/mock/2.split_manifest/manifest_200.tsv as SingleEndFastqManifestPhred33V2 to data/output/mock/2.split_manifest/demux_reads_200.qza\u001b[0m\n",
      "\u001b[32mSaved Visualization to: data/output/mock/2.split_manifest/demux_reads_200.qzv\u001b[0m\n"
     ]
    }
   ],
   "source": [
    "for read_length in read_lengths:\n",
    "    manifest_fp = f'{manifest_output_dir}/manifest_{read_length}.tsv'\n",
    "    seqs_art_fp = f'{manifest_output_dir}/demux_reads_{read_length}.qza'\n",
    "    seqs_vis_fp = f'{manifest_output_dir}/demux_reads_{read_length}.qzv'\n",
    "\n",
    "    manifest = build_manifest([samples[0]], read_length)\n",
    "    manifest.save(manifest_fp)\n",
    "    \n",
    "    !qiime tools import \\\n",
    "      --type 'SampleData[SequencesWithQuality]' \\\n",
    "      --input-path $manifest_fp \\\n",
    "      --output-path $seqs_art_fp \\\n",
    "      --input-format SingleEndFastqManifestPhred33V2\n",
    "\n",
    "    !qiime demux summarize \\\n",
    "     --i-data $seqs_art_fp \\\n",
    "     --o-visualization $seqs_vis_fp"
   ]
  },
  {
   "cell_type": "code",
   "execution_count": null,
   "id": "29535693-b73b-4f39-8a9f-6e24532a0cfe",
   "metadata": {},
   "outputs": [],
   "source": []
  },
  {
   "cell_type": "markdown",
   "id": "1904cc9a-ffd3-474e-be6a-475a8a23d5ed",
   "metadata": {},
   "source": [
    "### Denoise sequences"
   ]
  },
  {
   "cell_type": "markdown",
   "id": "5008a6fd-846f-4231-8023-e3527b50588e",
   "metadata": {},
   "source": []
  },
  {
   "cell_type": "code",
   "execution_count": 138,
   "id": "96862053-b527-4c3f-b96d-65143372dc43",
   "metadata": {},
   "outputs": [],
   "source": [
    "denoised_output = steps['denoise_seqs']['output_dir']\n",
    "denoised_overwrite = steps['denoise_seqs']['overwrite']\n",
    "os.makedirs(denoised_output, exist_ok=denoised_overwrite)"
   ]
  },
  {
   "cell_type": "code",
   "execution_count": 139,
   "id": "06f1106d-4bea-43af-a65e-68f057592d62",
   "metadata": {},
   "outputs": [
    {
     "name": "stdout",
     "output_type": "stream",
     "text": [
      "\u001b[32mSaved FeatureTable[Frequency] to: data/output/mock/3.denoised/table_200.qza\u001b[0m\n",
      "\u001b[32mSaved FeatureData[Sequence] to: data/output/mock/3.denoised/rep_seq_200.qza\u001b[0m\n",
      "\u001b[32mSaved SampleData[DADA2Stats] to: data/output/mock/3.denoised/denosing_stats_200.qza\u001b[0m\n",
      "\u001b[32mSaved Visualization to: data/output/mock/3.denoised/denosing_stats_200.qzv\u001b[0m\n",
      "\u001b[32mSaved Visualization to: data/output/mock/3.denoised/table_200.qzv\u001b[0m\n"
     ]
    }
   ],
   "source": [
    "for read_length in read_lengths:\n",
    "    seqs_art_fp = f'{manifest_output_dir}/demux_reads_{read_length}.qza'\n",
    "    table_art_fp = f'{denoised_output}/table_{read_length}.qza'\n",
    "    rep_seq_art_fp = f'{denoised_output}/rep_seq_{read_length}.qza'\n",
    "    stats_art_fp = f'{denoised_output}/denosing_stats_{read_length}.qza'\n",
    "    table_viz_fp = f'{denoised_output}/table_{read_length}.qzv'\n",
    "    stats_viz_fp = f'{denoised_output}/denosing_stats_{read_length}.qzv'\n",
    "    \n",
    "    !qiime dada2 denoise-pyro \\\n",
    "     --i-demultiplexed-seqs $seqs_art_fp \\\n",
    "     --p-trunc-len $read_length \\\n",
    "     --p-hashed-feature-ids \\\n",
    "     --o-table $table_art_fp \\\n",
    "     --o-representative-sequences $rep_seq_art_fp \\\n",
    "     --o-denoising-stats $stats_art_fp\n",
    "    \n",
    "    !qiime metadata tabulate \\\n",
    "     --m-input-file $stats_art_fp \\\n",
    "     --o-visualization $stats_viz_fp\n",
    "    \n",
    "    !qiime feature-table summarize \\\n",
    "     --i-table $table_art_fp \\\n",
    "     --o-visualization $table_viz_fp"
   ]
  },
  {
   "cell_type": "markdown",
   "id": "9fbf5cc8-69fc-4f8f-b9ed-141ed529eb42",
   "metadata": {},
   "source": [
    "## Regional Demultiplexing\n"
   ]
  },
  {
   "cell_type": "markdown",
   "id": "b534ccb0-7c8f-42da-905a-ae1ecea67508",
   "metadata": {},
   "source": [
    "### Re-orient the data\n",
    "\n",
    "We'll reorient the data using the rescript `orient-seqs` function which takes sequences, orients them against a reference set so they're all in the same alignment, and discards anything that can't be aligned properly.\n"
   ]
  },
  {
   "cell_type": "code",
   "execution_count": 140,
   "id": "52f4b747-3590-4535-b1a4-3543f8cbd0ee",
   "metadata": {},
   "outputs": [],
   "source": [
    "orient_input_dir = steps['cluster_orientation']['input_dir']\n",
    "orient_output_dir = steps['cluster_orientation']['output_dir']\n",
    "orient_overwrite = steps['cluster_orientation']['overwrite']\n",
    "orient_ref_fp = steps['cluster_orientation']['reference_fp']\n",
    "\n",
    "os.makedirs(orient_output_dir, exist_ok=orient_overwrite)"
   ]
  },
  {
   "cell_type": "code",
   "execution_count": 141,
   "id": "65fe2ab5-27f9-45b6-91f2-5b45cc1f15c7",
   "metadata": {},
   "outputs": [
    {
     "name": "stdout",
     "output_type": "stream",
     "text": [
      "\u001b[32mSaved FeatureData[Sequence] to: data/output/mock/4.sequence_orientation/rep_seq_oriented_200.qza\u001b[0m\n",
      "\u001b[32mSaved FeatureData[Sequence] to: data/output/mock/4.sequence_orientation/disoriented_200.qza\u001b[0m\n"
     ]
    }
   ],
   "source": [
    "for read_length in read_lengths:\n",
    "    input_seqs = f'{orient_input_dir}/rep_seq_{read_length}.qza'\n",
    "    output_match_fp =  f'{orient_output_dir}/rep_seq_oriented_{read_length}.qza'\n",
    "    output_seqs_discard = f'{orient_output_dir}/disoriented_{read_length}.qza'\n",
    "\n",
    "    !qiime rescript orient-seqs \\\n",
    "     --i-sequences $input_seqs \\\n",
    "     --i-reference-sequences $orient_ref_fp \\\n",
    "     --p-perc-identity 0.8 \\\n",
    "     --o-oriented-seqs $output_match_fp \\\n",
    "     --o-unmatched-seqs $output_seqs_discard"
   ]
  },
  {
   "cell_type": "markdown",
   "id": "2c30c76a-0859-4427-9426-8b8f2e3bb490",
   "metadata": {},
   "source": [
    "### Align to a reference sequence\n",
    "\n",
    "We'll use MAFTT to align the sequences to the reference database."
   ]
  },
  {
   "cell_type": "code",
   "execution_count": null,
   "id": "ed8ceb42-53e0-4bef-b397-8ab3248d05cf",
   "metadata": {},
   "outputs": [],
   "source": []
  },
  {
   "cell_type": "code",
   "execution_count": 6,
   "id": "2bcd8134-af0e-4dc8-bff0-142c1e605314",
   "metadata": {},
   "outputs": [],
   "source": [
    "align_ref_input_dir = steps['align_to_reference']['input_dir']\n",
    "align_ref_output_dir = steps['align_to_reference']['output_dir']\n",
    "align_ref_overwrite = steps['align_to_reference']['overwrite']\n",
    "align_ref_align_fp = steps['align_to_reference']['reference_fp']\n",
    "\n",
    "os.makedirs(align_ref_output_dir, exist_ok=align_ref_overwrite)"
   ]
  },
  {
   "cell_type": "code",
   "execution_count": 7,
   "id": "0fb8affd-5c8e-4527-a413-2d91d1834031",
   "metadata": {},
   "outputs": [
    {
     "name": "stdout",
     "output_type": "stream",
     "text": [
      "HeaderlessTSVTaxonomyDirectoryFormat\n",
      "HeaderlessTSVTaxonomyFormat\n",
      "SILVATaxidMapDirectoryFormat\n",
      "SILVATaxidMapFormat\n",
      "SILVATaxonomyDirectoryFormat\n",
      "SILVATaxonomyFormat\n",
      "TSVTaxonomyDirectoryFormat\n",
      "TSVTaxonomyFormat\n",
      "TaxonomicClassiferTemporaryPickleDirFmt\n"
     ]
    }
   ],
   "source": [
    "!qiime tools import --show-importable-formats | grep Tax"
   ]
  },
  {
   "cell_type": "code",
   "execution_count": 8,
   "id": "a6b94596-aaaf-439e-86e1-6c1c3e8b1578",
   "metadata": {},
   "outputs": [
    {
     "name": "stdout",
     "output_type": "stream",
     "text": [
      "\u001b[32mImported data/reference/gg_13_8_88/88_otu_taxonomy.txt as HeaderlessTSVTaxonomyFormat to data/reference/gg_13_8_88/88_otu_taxonomy.qza\u001b[0m\n"
     ]
    }
   ],
   "source": [
    "!qiime tools import \\\n",
    " --type 'FeatureData[Taxonomy]' \\\n",
    " --input-format HeaderlessTSVTaxonomyFormat \\\n",
    " --input-path data/reference/gg_13_8_88/88_otu_taxonomy.txt \\\n",
    " --output-path data/reference/gg_13_8_88/88_otu_taxonomy.qza"
   ]
  },
  {
   "cell_type": "code",
   "execution_count": 9,
   "id": "8fac07a9-0ed7-4cb5-bff5-0d58ab160b39",
   "metadata": {},
   "outputs": [],
   "source": [
    "ref_seqs_q2 = Artifact.load(align_ref_align_fp)\n",
    "ref_taxa_q2 = Artifact.load('data/reference/gg_13_8_88/88_otu_taxonomy.qza')"
   ]
  },
  {
   "cell_type": "code",
   "execution_count": 10,
   "id": "04fb25fa-298c-4b75-999f-6dc0e0502f60",
   "metadata": {},
   "outputs": [
    {
     "data": {
      "text/plain": [
       "<artifact: FeatureData[AlignedSequence] uuid: f87e33c2-8105-49ea-82db-e9d0afc26a99>"
      ]
     },
     "execution_count": 10,
     "metadata": {},
     "output_type": "execute_result"
    }
   ],
   "source": [
    "ref_seqs_q2"
   ]
  },
  {
   "cell_type": "code",
   "execution_count": 11,
   "id": "d480c400-a3d2-430b-896d-43cdd7327e8d",
   "metadata": {},
   "outputs": [],
   "source": [
    "import qiime2.plugins.taxa.actions as q2_taxa\n",
    "import qiime2.plugins.alignment.actions as q2_align\n",
    "import qiime2.plugins.rescript.actions as q2_rescript"
   ]
  },
  {
   "cell_type": "code",
   "execution_count": 12,
   "id": "a797a727-5e0f-4fa8-b301-b3248bd28172",
   "metadata": {},
   "outputs": [],
   "source": [
    "ref_seqs = ref_seqs_q2.view(pd.Series)\n",
    "ref_taxa = ref_taxa_q2.view(pd.Series)"
   ]
  },
  {
   "cell_type": "code",
   "execution_count": 26,
   "id": "d97f01b3-a188-4219-b41e-fd69b0957584",
   "metadata": {},
   "outputs": [],
   "source": [
    "proteo_ref_ids = ref_taxa.index[ref_taxa.apply(lambda x: 'f__Enterobacteriaceae' in x)]\n",
    "proteo_ref = ref_seqs.loc[proteo_ref_ids]\n",
    "sub_ref_seqs = Artifact.import_data('FeatureData[AlignedSequence]',\n",
    "                                    proteo_ref,\n",
    "                                    pd.Series)\n"
   ]
  },
  {
   "cell_type": "code",
   "execution_count": null,
   "id": "0b0e9430-0fbb-4e85-b45f-c6c5002a6bcf",
   "metadata": {},
   "outputs": [],
   "source": []
  },
  {
   "cell_type": "code",
   "execution_count": 28,
   "id": "cf27eb23-1010-4607-9381-1e773961bffc",
   "metadata": {},
   "outputs": [
    {
     "name": "stdout",
     "output_type": "stream",
     "text": [
      "Running external command line application. This may print messages to stdout and/or stderr.\n",
      "The command being run is below. This command cannot be manually re-run as it will depend on temporary files that no longer exist.\n",
      "\n",
      "Command: mafft --preservecase --inputorder --thread 1 --add /var/folders/bw/q064ds0d2795_6mxnrssf0l1gkw0rj/T/qiime2-archive-5p5dkh6x/3b2e34ed-dc78-45be-b35d-9b131fe8cad1/data/dna-sequences.fasta /var/folders/bw/q064ds0d2795_6mxnrssf0l1gkw0rj/T/qiime2-archive-8sa318xz/7431b0f4-d554-4cce-9a4e-94484954fb06/data/aligned-dna-sequences.fasta\n",
      "\n"
     ]
    }
   ],
   "source": [
    "sequences = Artifact.load('data/output/mock/4.sequence_orientation/rep_seq_oriented_200.qza')\n",
    "expanded = q2_align.mafft_add(alignment=sub_ref_seqs, sequences=sequences).expanded_alignment"
   ]
  },
  {
   "cell_type": "code",
   "execution_count": 86,
   "id": "165c533a-d101-4356-aebb-d0b492b1aff3",
   "metadata": {},
   "outputs": [
    {
     "name": "stdout",
     "output_type": "stream",
     "text": [
      "Usage: \u001b[34mqiime quality-control bowtie2-build\u001b[0m [OPTIONS]\n",
      "\n",
      "  Build bowtie2 index from reference sequences.\n",
      "\n",
      "\u001b[1mInputs\u001b[0m:\n",
      "  \u001b[34m\u001b[4m--i-sequences\u001b[0m ARTIFACT \u001b[32mFeatureData[Sequence]\u001b[0m\n",
      "                          Reference sequences used to build bowtie2 index.\n",
      "                                                                    \u001b[35m[required]\u001b[0m\n",
      "\u001b[1mParameters\u001b[0m:\n",
      "  \u001b[34m--p-n-threads\u001b[0m INTEGER   Number of threads to launch\n",
      "    \u001b[32mRange(1, None)\u001b[0m                                                \u001b[35m[default: 1]\u001b[0m\n",
      "\u001b[1mOutputs\u001b[0m:\n",
      "  \u001b[34m\u001b[4m--o-database\u001b[0m ARTIFACT   Bowtie2 index.\n",
      "    \u001b[32mBowtie2Index\u001b[0m                                                    \u001b[35m[required]\u001b[0m\n",
      "\u001b[1mMiscellaneous\u001b[0m:\n",
      "  \u001b[34m--output-dir\u001b[0m PATH       Output unspecified results to a directory\n",
      "  \u001b[34m--verbose\u001b[0m / \u001b[34m--quiet\u001b[0m     Display verbose output to stdout and/or stderr\n",
      "                          during execution of this action. Or silence output\n",
      "                          if execution is successful (silence is golden).\n",
      "  \u001b[34m--examples\u001b[0m              Show usage examples and exit.\n",
      "  \u001b[34m--citations\u001b[0m             Show citations and exit.\n",
      "  \u001b[34m--help\u001b[0m                  Show this message and exit.\n"
     ]
    }
   ],
   "source": [
    "!qiime quality-control bowtie2-build --help"
   ]
  },
  {
   "cell_type": "code",
   "execution_count": 76,
   "id": "4efd1cf6-e4e1-4c0d-b4db-a5c0dffe6cba",
   "metadata": {},
   "outputs": [],
   "source": [
    "expanded_df = expanded.view(pd.Series).apply(lambda x: pd.Series(list(str(x))))\n",
    "expanded_df.drop(proteo_ref.index, inplace=True)\n",
    "expanded_df.replace({'-': np.nan}, inplace=True)\n",
    "# expanded_df.dropna(axis=1, how='all', inplace=True)"
   ]
  },
  {
   "cell_type": "code",
   "execution_count": 77,
   "id": "e363d10c-9bae-4f11-b38d-a6dd2851f07b",
   "metadata": {},
   "outputs": [],
   "source": [
    "coverage_df = expanded_df.notna()"
   ]
  },
  {
   "cell_type": "code",
   "execution_count": 78,
   "id": "ab465bd8-b849-44f0-991a-9a5efd5d869d",
   "metadata": {},
   "outputs": [],
   "source": [
    "coverage_counts = coverage_df.sum()"
   ]
  },
  {
   "cell_type": "code",
   "execution_count": 79,
   "id": "d1a23707-8957-44e8-9acc-8def012dff65",
   "metadata": {},
   "outputs": [
    {
     "data": {
      "text/plain": [
       "[<matplotlib.lines.Line2D at 0x7f80e149b9d0>]"
      ]
     },
     "execution_count": 79,
     "metadata": {},
     "output_type": "execute_result"
    },
    {
     "data": {
      "image/png": "[encoded data removed]",
      "text/plain": [
       "<Figure size 432x288 with 1 Axes>"
      ]
     },
     "metadata": {
      "needs_background": "light"
     },
     "output_type": "display_data"
    }
   ],
   "source": [
    "plt.plot(coverage_counts.index, coverage_counts.values, '.-')\n",
    "# plt.plot(coverage_counts.index, coverage_counts.rolling(10).mean())"
   ]
  },
  {
   "cell_type": "code",
   "execution_count": 66,
   "id": "6c2fef43-238a-4d1c-8933-e253b8c057ee",
   "metadata": {},
   "outputs": [],
   "source": [
    "seq_split_left = expanded_df[expanded_df.columns[expanded_df.columns < 850]].copy()\n",
    "seq_split_right = expanded_df[expanded_df.columns[expanded_df.columns >= 850]].copy()\n"
   ]
  },
  {
   "cell_type": "code",
   "execution_count": 68,
   "id": "83ce77ce-0226-4bdd-be82-804a878690d0",
   "metadata": {},
   "outputs": [],
   "source": [
    "seq_split_right.dropna(how='all', axis=1, inplace=True)"
   ]
  },
  {
   "cell_type": "code",
   "execution_count": 74,
   "id": "2d3b77f8-3755-41da-97b1-4fd0aa22edf1",
   "metadata": {},
   "outputs": [
    {
     "data": {
      "text/plain": [
       "1178   -54.0\n",
       "1131   -51.0\n",
       "1138   -43.0\n",
       "1248   -32.0\n",
       "985    -29.0\n",
       "        ... \n",
       "1250    32.0\n",
       "1140    36.0\n",
       "1136    50.0\n",
       "1179    57.0\n",
       "920      NaN\n",
       "Length: 597, dtype: float64"
      ]
     },
     "execution_count": 74,
     "metadata": {},
     "output_type": "execute_result"
    }
   ],
   "source": [
    "seq_split_right.notna().sum().diff().sort_values()"
   ]
  },
  {
   "cell_type": "code",
   "execution_count": null,
   "id": "5e642e18-e2f0-4077-8fb8-79ee6700227d",
   "metadata": {},
   "outputs": [],
   "source": []
  },
  {
   "cell_type": "code",
   "execution_count": null,
   "id": "65ba34f6-aad1-49e9-831c-3e87aaf385d4",
   "metadata": {},
   "outputs": [],
   "source": []
  },
  {
   "cell_type": "code",
   "execution_count": null,
   "id": "3e752f54-a8c7-401d-9b1c-6da60d5e66f4",
   "metadata": {},
   "outputs": [],
   "source": []
  },
  {
   "cell_type": "code",
   "execution_count": null,
   "id": "206afca4-cfa0-4a06-8a0e-14d38fc609d1",
   "metadata": {},
   "outputs": [],
   "source": [
    "!qiime alignment mafft-add \\\n",
    " --i-alignment $align_ref_align_fp \\\n",
    " --i-sequences data/output/mock/4.sequence_orientation/rep_seq_oriented_200.qza \\\n",
    " --p-n-threads 2 \\\n",
    " --o-expanded-alignment $align_ref_output_dir/align_200.qza"
   ]
  },
  {
   "cell_type": "markdown",
   "id": "f9bbe682-c16c-4bb4-af5d-b7bbd010bf1b",
   "metadata": {},
   "source": [
    "And then, we need some way to pull the sequences out and figure out their aligned position."
   ]
  },
  {
   "cell_type": "code",
   "execution_count": null,
   "id": "01dccb32-2fc6-4d23-b8d5-5b636dade63d",
   "metadata": {},
   "outputs": [],
   "source": [
    "aligned_seqs_q2 = Artifact.load('data/output/mock/5.aligned_to_ref/align_200.qza')\n",
    "test_seqs_q2 = Artifact.load('data/output/mock/4.sequence_orientation/rep_seq_oriented_200.qza')\n",
    "reference_taxa_q2 = Artifact.load('data/reference/gg_13_8_88/88_otu_taxonomy.qza')"
   ]
  },
  {
   "cell_type": "code",
   "execution_count": null,
   "id": "10dcf86d-1516-4b89-b673-aab9f1de999e",
   "metadata": {},
   "outputs": [],
   "source": []
  },
  {
   "cell_type": "code",
   "execution_count": null,
   "id": "464f6f53-da69-4818-b82c-775eb89020a8",
   "metadata": {},
   "outputs": [],
   "source": [
    "aligned_series = aligned_seqs_q2.view(pd.Series)\n",
    "test_seqs = test_seqs_q2.view(pd.Series)\n",
    "aligned_taxa = reference_taxa_q2.view(pd.Series)"
   ]
  },
  {
   "cell_type": "code",
   "execution_count": null,
   "id": "b87fe5c2-a680-4c67-9220-404ddf60a722",
   "metadata": {},
   "outputs": [],
   "source": [
    "proteo_ref_ids = aligned_taxa.loc[aligned_taxa.apply(lambda x: 'f__Enterobacteriaceae' in x)]"
   ]
  },
  {
   "cell_type": "code",
   "execution_count": null,
   "id": "c8d3bb8e-3d86-4f7a-9229-d641314e30ee",
   "metadata": {},
   "outputs": [],
   "source": [
    "check_seqs = np.hstack([proteo_ref_ids.index.values, test_seqs.index.values])"
   ]
  },
  {
   "cell_type": "code",
   "execution_count": null,
   "id": "24c9d3c3-6696-4bbf-9228-5c88cc1802ec",
   "metadata": {},
   "outputs": [],
   "source": [
    "aligned_series = aligned_series.loc[check_seqs]"
   ]
  },
  {
   "cell_type": "code",
   "execution_count": null,
   "id": "7c1c5df3-d1b6-4482-95cf-1e962239152c",
   "metadata": {},
   "outputs": [],
   "source": [
    "aligned_df = aligned_series.astype(str).apply(lambda x: pd.Series(list(x)))\n",
    "aligned_df.replace({'-': np.nan}, inplace=True)\n",
    "# degaps the sequences\n",
    "aligned_df.dropna(how='all', axis=1, inplace=True)"
   ]
  },
  {
   "cell_type": "code",
   "execution_count": null,
   "id": "93ad275b-12f5-44d7-b0f6-1251a5129879",
   "metadata": {},
   "outputs": [],
   "source": [
    "aligned_df"
   ]
  },
  {
   "cell_type": "code",
   "execution_count": null,
   "id": "54a9d373-ce2f-4e72-9ed0-2321d1a13393",
   "metadata": {},
   "outputs": [],
   "source": [
    "ranked_position = aligned_df.notna().sum(axis=0).sort_index()"
   ]
  },
  {
   "cell_type": "code",
   "execution_count": null,
   "id": "a3dbf10a-6a89-414c-a458-8493c7aa2b6a",
   "metadata": {},
   "outputs": [],
   "source": [
    "ax = plt.plot(ranked_position.index, ranked_position.values, '.')\n",
    "plt.plot(ranked_position.index, ranked_position.rolling(8).median(), '-', markersize=5)"
   ]
  },
  {
   "cell_type": "code",
   "execution_count": null,
   "id": "71c6ef6e-c543-4b7d-9781-850b04deca2d",
   "metadata": {},
   "outputs": [],
   "source": [
    "ranked_position.sort_values(ascending=False)"
   ]
  },
  {
   "cell_type": "code",
   "execution_count": null,
   "id": "ef644df6-6650-4ea3-8e1e-61dad6e9100e",
   "metadata": {},
   "outputs": [],
   "source": []
  },
  {
   "cell_type": "code",
   "execution_count": null,
   "id": "31031028-243d-4470-9c86-966b279069ab",
   "metadata": {},
   "outputs": [],
   "source": []
  }
 ],
 "metadata": {
  "kernelspec": {
   "display_name": "Python 3",
   "language": "python",
   "name": "python3"
  },
  "language_info": {
   "codemirror_mode": {
    "name": "ipython",
    "version": 3
   },
   "file_extension": ".py",
   "mimetype": "text/x-python",
   "name": "python",
   "nbconvert_exporter": "python",
   "pygments_lexer": "ipython3",
   "version": "3.8.10"
  }
 },
 "nbformat": 4,
 "nbformat_minor": 5
}

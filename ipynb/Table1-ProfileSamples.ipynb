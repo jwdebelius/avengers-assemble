{
 "cells": [
  {
   "cell_type": "code",
   "execution_count": 1,
   "metadata": {},
   "outputs": [],
   "source": [
    "import itertools as it\n",
    "import os\n",
    "\n",
    "import biom\n",
    "from matplotlib import rcParams\n",
    "import matplotlib.colors as mplc\n",
    "from matplotlib.gridspec import GridSpec\n",
    "import matplotlib.pyplot as plt\n",
    "import numpy as np\n",
    "import pandas as pd\n",
    "import scipy\n",
    "import seaborn as sn\n",
    "import statsmodels.api as sms\n",
    "import statsmodels.formula.api as smf\n",
    "import skbio\n",
    "\n",
    "from qiime2 import Artifact, Metadata, MetadataColumn"
   ]
  },
  {
   "cell_type": "code",
   "execution_count": 2,
   "metadata": {},
   "outputs": [],
   "source": [
    "rcParams['font.sans-serif'] = ['Helvetica', 'Arial']\n",
    "rcParams['pdf.fonttype'] = 42\n",
    "np.set_printoptions(precision=5, suppress=True)  # suppress scientific float notation"
   ]
  },
  {
   "cell_type": "code",
   "execution_count": 3,
   "metadata": {},
   "outputs": [],
   "source": [
    "%matplotlib inline"
   ]
  },
  {
   "cell_type": "code",
   "execution_count": null,
   "metadata": {},
   "outputs": [],
   "source": []
  },
  {
   "cell_type": "code",
   "execution_count": 4,
   "metadata": {},
   "outputs": [],
   "source": [
    "optivag_benchmark_dir = 'data/output/benchmark/real/'\n",
    "benchmark_files = os.listdir(optivag_benchmark_dir)"
   ]
  },
  {
   "cell_type": "code",
   "execution_count": 5,
   "metadata": {},
   "outputs": [
    {
     "data": {
      "text/plain": [
       "['reconstruct_taxonomy.tsv',\n",
       " 'denoise_v13.tsv',\n",
       " 'filter_greengenes_reference.tsv',\n",
       " 'trim_v34.tsv',\n",
       " 'extract_sidle_regions_v34.tsv',\n",
       " 'vaginal',\n",
       " 'prepare_extracted_region_v13.tsv',\n",
       " 'align_sidle_regions_v34.tsv',\n",
       " 'extract_sidle_regions_v13.tsv',\n",
       " 'prepare_extracted_region_v34.tsv',\n",
       " 'align_sidle_regions_v13.tsv',\n",
       " 'reconstruct_table_single.tsv',\n",
       " 'trim_v13.tsv',\n",
       " 'trim_data_v13.tsv',\n",
       " 'denoise_v34.tsv']"
      ]
     },
     "execution_count": 5,
     "metadata": {},
     "output_type": "execute_result"
    }
   ],
   "source": [
    "benchmark_files"
   ]
  },
  {
   "cell_type": "code",
   "execution_count": 6,
   "metadata": {},
   "outputs": [],
   "source": [
    "timestamp = pd.DataFrame({\n",
    "    fp_.split('.')[0]: pd.read_csv(os.path.join(optivag_benchmark_dir, fp_), \n",
    "                                   sep='\\t', dtype=str).iloc[0]\n",
    "    for fp_ in benchmark_files \n",
    "    if os.path.isfile(os.path.join(optivag_benchmark_dir, fp_))\n",
    "}).T\n",
    "timestamp.index.set_names('filename', inplace=True)\n",
    "timestamp['command'] = pd.Series({id_: id_.split(\"_v\")[0] for id_ in timestamp.index})\n",
    "region_f = lambda id_: 'v{}'.format(id_.split(\"_v\")[1]) if ('_v' in id_) else np.nan\n",
    "timestamp['region'] = pd.Series({id_: region_f(id_) for id_ in timestamp.index})\n",
    "timestamp['runtime'] = pd.to_timedelta(timestamp['s'].astype(float), unit='s')\n",
    "timestamp['per_sample'] = timestamp['runtime'] / 24\n",
    "timestamp = timestamp[['command', 'region', 'runtime', 'per_sample']]"
   ]
  },
  {
   "cell_type": "code",
   "execution_count": 16,
   "metadata": {},
   "outputs": [
    {
     "data": {
      "text/plain": [
       "filename\n",
       "reconstruct_taxonomy           0 days 00:00:06\n",
       "denoise_v13                    0 days 00:05:20\n",
       "filter_greengenes_reference    0 days 00:01:19\n",
       "trim_v34                       0 days 00:00:06\n",
       "extract_sidle_regions_v34      0 days 00:05:49\n",
       "prepare_extracted_region_v13   0 days 00:00:46\n",
       "align_sidle_regions_v34        0 days 00:06:25\n",
       "extract_sidle_regions_v13      0 days 00:05:33\n",
       "prepare_extracted_region_v34   0 days 00:01:21\n",
       "align_sidle_regions_v13        0 days 00:05:33\n",
       "reconstruct_table_single       0 days 00:00:17\n",
       "trim_v13                       0 days 00:00:06\n",
       "trim_data_v13                  0 days 00:01:05\n",
       "denoise_v34                    0 days 00:10:49\n",
       "Name: runtime, dtype: timedelta64[ns]"
      ]
     },
     "execution_count": 16,
     "metadata": {},
     "output_type": "execute_result"
    }
   ],
   "source": [
    "timestamp['runtime'].round(\"s\")"
   ]
  },
  {
   "cell_type": "code",
   "execution_count": 7,
   "metadata": {},
   "outputs": [],
   "source": [
    "timestamp['command_type'] = timestamp['command'].replace({\n",
    "    'denoise': 'denoise',\n",
    "    'trim': 'denoise',\n",
    "    'trim_data': 'denoise',\n",
    "    'align_sidle_regions': 'align',\n",
    "    'extract_sidle_regions': 'database',\n",
    "    'prepare_extracted_region': 'database',\n",
    "    'reconstruct_table_single': 'reconstruction',\n",
    "    'reconstruct_taxonomy': 'reconstruction',\n",
    "})"
   ]
  },
  {
   "cell_type": "code",
   "execution_count": 17,
   "metadata": {},
   "outputs": [
    {
     "data": {
      "text/html": [
       "<div>\n",
       "<style scoped>\n",
       "    .dataframe tbody tr th:only-of-type {\n",
       "        vertical-align: middle;\n",
       "    }\n",
       "\n",
       "    .dataframe tbody tr th {\n",
       "        vertical-align: top;\n",
       "    }\n",
       "\n",
       "    .dataframe thead th {\n",
       "        text-align: right;\n",
       "    }\n",
       "</style>\n",
       "<table border=\"1\" class=\"dataframe\">\n",
       "  <thead>\n",
       "    <tr style=\"text-align: right;\">\n",
       "      <th></th>\n",
       "      <th>command</th>\n",
       "      <th>region</th>\n",
       "      <th>runtime</th>\n",
       "      <th>per_sample</th>\n",
       "      <th>command_type</th>\n",
       "    </tr>\n",
       "    <tr>\n",
       "      <th>filename</th>\n",
       "      <th></th>\n",
       "      <th></th>\n",
       "      <th></th>\n",
       "      <th></th>\n",
       "      <th></th>\n",
       "    </tr>\n",
       "  </thead>\n",
       "  <tbody>\n",
       "    <tr>\n",
       "      <th>reconstruct_taxonomy</th>\n",
       "      <td>reconstruct_taxonomy</td>\n",
       "      <td>NaN</td>\n",
       "      <td>0 days 00:00:05.507499999</td>\n",
       "      <td>0 days 00:00:00.229479166</td>\n",
       "      <td>reconstruction</td>\n",
       "    </tr>\n",
       "    <tr>\n",
       "      <th>denoise_v13</th>\n",
       "      <td>denoise</td>\n",
       "      <td>v13</td>\n",
       "      <td>0 days 00:05:19.624100</td>\n",
       "      <td>0 days 00:00:13.317670833</td>\n",
       "      <td>denoise</td>\n",
       "    </tr>\n",
       "    <tr>\n",
       "      <th>filter_greengenes_reference</th>\n",
       "      <td>filter_greengenes_reference</td>\n",
       "      <td>NaN</td>\n",
       "      <td>0 days 00:01:19.451000</td>\n",
       "      <td>0 days 00:00:03.310458333</td>\n",
       "      <td>filter_greengenes_reference</td>\n",
       "    </tr>\n",
       "    <tr>\n",
       "      <th>trim_v34</th>\n",
       "      <td>trim</td>\n",
       "      <td>v34</td>\n",
       "      <td>0 days 00:00:05.822600</td>\n",
       "      <td>0 days 00:00:00.242608333</td>\n",
       "      <td>denoise</td>\n",
       "    </tr>\n",
       "    <tr>\n",
       "      <th>extract_sidle_regions_v34</th>\n",
       "      <td>extract_sidle_regions</td>\n",
       "      <td>v34</td>\n",
       "      <td>0 days 00:05:48.673100</td>\n",
       "      <td>0 days 00:00:14.528045833</td>\n",
       "      <td>database</td>\n",
       "    </tr>\n",
       "    <tr>\n",
       "      <th>prepare_extracted_region_v13</th>\n",
       "      <td>prepare_extracted_region</td>\n",
       "      <td>v13</td>\n",
       "      <td>0 days 00:00:46.421600</td>\n",
       "      <td>0 days 00:00:01.934233333</td>\n",
       "      <td>database</td>\n",
       "    </tr>\n",
       "    <tr>\n",
       "      <th>align_sidle_regions_v34</th>\n",
       "      <td>align_sidle_regions</td>\n",
       "      <td>v34</td>\n",
       "      <td>0 days 00:06:25.251000</td>\n",
       "      <td>0 days 00:00:16.052125</td>\n",
       "      <td>align</td>\n",
       "    </tr>\n",
       "    <tr>\n",
       "      <th>extract_sidle_regions_v13</th>\n",
       "      <td>extract_sidle_regions</td>\n",
       "      <td>v13</td>\n",
       "      <td>0 days 00:05:32.979000</td>\n",
       "      <td>0 days 00:00:13.874125</td>\n",
       "      <td>database</td>\n",
       "    </tr>\n",
       "    <tr>\n",
       "      <th>prepare_extracted_region_v34</th>\n",
       "      <td>prepare_extracted_region</td>\n",
       "      <td>v34</td>\n",
       "      <td>0 days 00:01:20.629700</td>\n",
       "      <td>0 days 00:00:03.359570833</td>\n",
       "      <td>database</td>\n",
       "    </tr>\n",
       "    <tr>\n",
       "      <th>align_sidle_regions_v13</th>\n",
       "      <td>align_sidle_regions</td>\n",
       "      <td>v13</td>\n",
       "      <td>0 days 00:05:32.655300</td>\n",
       "      <td>0 days 00:00:13.860637500</td>\n",
       "      <td>align</td>\n",
       "    </tr>\n",
       "    <tr>\n",
       "      <th>reconstruct_table_single</th>\n",
       "      <td>reconstruct_table_single</td>\n",
       "      <td>NaN</td>\n",
       "      <td>0 days 00:00:17.296700</td>\n",
       "      <td>0 days 00:00:00.720695833</td>\n",
       "      <td>reconstruction</td>\n",
       "    </tr>\n",
       "    <tr>\n",
       "      <th>trim_v13</th>\n",
       "      <td>trim</td>\n",
       "      <td>v13</td>\n",
       "      <td>0 days 00:00:06.371300</td>\n",
       "      <td>0 days 00:00:00.265470833</td>\n",
       "      <td>denoise</td>\n",
       "    </tr>\n",
       "    <tr>\n",
       "      <th>trim_data_v13</th>\n",
       "      <td>trim_data</td>\n",
       "      <td>v13</td>\n",
       "      <td>0 days 00:01:05.478600</td>\n",
       "      <td>0 days 00:00:02.728275</td>\n",
       "      <td>denoise</td>\n",
       "    </tr>\n",
       "    <tr>\n",
       "      <th>denoise_v34</th>\n",
       "      <td>denoise</td>\n",
       "      <td>v34</td>\n",
       "      <td>0 days 00:10:48.675600</td>\n",
       "      <td>0 days 00:00:27.028150</td>\n",
       "      <td>denoise</td>\n",
       "    </tr>\n",
       "  </tbody>\n",
       "</table>\n",
       "</div>"
      ],
      "text/plain": [
       "                                                  command region  \\\n",
       "filename                                                           \n",
       "reconstruct_taxonomy                 reconstruct_taxonomy    NaN   \n",
       "denoise_v13                                       denoise    v13   \n",
       "filter_greengenes_reference   filter_greengenes_reference    NaN   \n",
       "trim_v34                                             trim    v34   \n",
       "extract_sidle_regions_v34           extract_sidle_regions    v34   \n",
       "prepare_extracted_region_v13     prepare_extracted_region    v13   \n",
       "align_sidle_regions_v34               align_sidle_regions    v34   \n",
       "extract_sidle_regions_v13           extract_sidle_regions    v13   \n",
       "prepare_extracted_region_v34     prepare_extracted_region    v34   \n",
       "align_sidle_regions_v13               align_sidle_regions    v13   \n",
       "reconstruct_table_single         reconstruct_table_single    NaN   \n",
       "trim_v13                                             trim    v13   \n",
       "trim_data_v13                                   trim_data    v13   \n",
       "denoise_v34                                       denoise    v34   \n",
       "\n",
       "                                               runtime  \\\n",
       "filename                                                 \n",
       "reconstruct_taxonomy         0 days 00:00:05.507499999   \n",
       "denoise_v13                     0 days 00:05:19.624100   \n",
       "filter_greengenes_reference     0 days 00:01:19.451000   \n",
       "trim_v34                        0 days 00:00:05.822600   \n",
       "extract_sidle_regions_v34       0 days 00:05:48.673100   \n",
       "prepare_extracted_region_v13    0 days 00:00:46.421600   \n",
       "align_sidle_regions_v34         0 days 00:06:25.251000   \n",
       "extract_sidle_regions_v13       0 days 00:05:32.979000   \n",
       "prepare_extracted_region_v34    0 days 00:01:20.629700   \n",
       "align_sidle_regions_v13         0 days 00:05:32.655300   \n",
       "reconstruct_table_single        0 days 00:00:17.296700   \n",
       "trim_v13                        0 days 00:00:06.371300   \n",
       "trim_data_v13                   0 days 00:01:05.478600   \n",
       "denoise_v34                     0 days 00:10:48.675600   \n",
       "\n",
       "                                            per_sample  \\\n",
       "filename                                                 \n",
       "reconstruct_taxonomy         0 days 00:00:00.229479166   \n",
       "denoise_v13                  0 days 00:00:13.317670833   \n",
       "filter_greengenes_reference  0 days 00:00:03.310458333   \n",
       "trim_v34                     0 days 00:00:00.242608333   \n",
       "extract_sidle_regions_v34    0 days 00:00:14.528045833   \n",
       "prepare_extracted_region_v13 0 days 00:00:01.934233333   \n",
       "align_sidle_regions_v34         0 days 00:00:16.052125   \n",
       "extract_sidle_regions_v13       0 days 00:00:13.874125   \n",
       "prepare_extracted_region_v34 0 days 00:00:03.359570833   \n",
       "align_sidle_regions_v13      0 days 00:00:13.860637500   \n",
       "reconstruct_table_single     0 days 00:00:00.720695833   \n",
       "trim_v13                     0 days 00:00:00.265470833   \n",
       "trim_data_v13                   0 days 00:00:02.728275   \n",
       "denoise_v34                     0 days 00:00:27.028150   \n",
       "\n",
       "                                             command_type  \n",
       "filename                                                   \n",
       "reconstruct_taxonomy                       reconstruction  \n",
       "denoise_v13                                       denoise  \n",
       "filter_greengenes_reference   filter_greengenes_reference  \n",
       "trim_v34                                          denoise  \n",
       "extract_sidle_regions_v34                        database  \n",
       "prepare_extracted_region_v13                     database  \n",
       "align_sidle_regions_v34                             align  \n",
       "extract_sidle_regions_v13                        database  \n",
       "prepare_extracted_region_v34                     database  \n",
       "align_sidle_regions_v13                             align  \n",
       "reconstruct_table_single                   reconstruction  \n",
       "trim_v13                                          denoise  \n",
       "trim_data_v13                                     denoise  \n",
       "denoise_v34                                       denoise  "
      ]
     },
     "execution_count": 17,
     "metadata": {},
     "output_type": "execute_result"
    }
   ],
   "source": [
    "timestamp"
   ]
  },
  {
   "cell_type": "code",
   "execution_count": 18,
   "metadata": {},
   "outputs": [
    {
     "data": {
      "text/plain": [
       "command_type\n",
       "align                         0 days 00:11:58\n",
       "database                      0 days 00:13:29\n",
       "denoise                       0 days 00:17:26\n",
       "filter_greengenes_reference   0 days 00:01:19\n",
       "reconstruction                0 days 00:00:23\n",
       "Name: runtime, dtype: timedelta64[ns]"
      ]
     },
     "execution_count": 18,
     "metadata": {},
     "output_type": "execute_result"
    }
   ],
   "source": [
    "timestamp.groupby('command_type')['runtime'].sum().round('s')"
   ]
  },
  {
   "cell_type": "code",
   "execution_count": 20,
   "metadata": {},
   "outputs": [
    {
     "data": {
      "text/plain": [
       "Timedelta('0 days 00:14:48')"
      ]
     },
     "execution_count": 20,
     "metadata": {},
     "output_type": "execute_result"
    }
   ],
   "source": [
    "timestamp.loc[timestamp['command_type'].isin(['database', 'filter_greengenes_reference']), 'runtime'].sum().round('s')"
   ]
  },
  {
   "cell_type": "code",
   "execution_count": 21,
   "metadata": {},
   "outputs": [
    {
     "data": {
      "text/plain": [
       "filename\n",
       "reconstruct_taxonomy       0 days 00:00:06\n",
       "reconstruct_table_single   0 days 00:00:17\n",
       "Name: runtime, dtype: timedelta64[ns]"
      ]
     },
     "execution_count": 21,
     "metadata": {},
     "output_type": "execute_result"
    }
   ],
   "source": [
    "timestamp.loc[['reconstruct_taxonomy', 'reconstruct_table_single'], 'runtime'].dt.round('s')"
   ]
  },
  {
   "cell_type": "code",
   "execution_count": 22,
   "metadata": {},
   "outputs": [
    {
     "data": {
      "text/plain": [
       "Timedelta('0 days 00:01:18')"
      ]
     },
     "execution_count": 22,
     "metadata": {},
     "output_type": "execute_result"
    }
   ],
   "source": [
    "(timestamp.loc[timestamp['command_type'] != 'database', 'runtime'].sum() / 24).round('s')"
   ]
  },
  {
   "cell_type": "code",
   "execution_count": 23,
   "metadata": {},
   "outputs": [
    {
     "data": {
      "text/plain": [
       "command_type\n",
       "align                         0 days 00:00:30\n",
       "database                      0 days 00:00:34\n",
       "denoise                       0 days 00:00:44\n",
       "filter_greengenes_reference   0 days 00:00:03\n",
       "reconstruction                0 days 00:00:01\n",
       "Name: runtime, dtype: timedelta64[ns]"
      ]
     },
     "execution_count": 23,
     "metadata": {},
     "output_type": "execute_result"
    }
   ],
   "source": [
    "(timestamp.groupby('command_type')['runtime'].sum() / 24).dt.round('s')"
   ]
  },
  {
   "cell_type": "code",
   "execution_count": 39,
   "metadata": {},
   "outputs": [
    {
     "data": {
      "text/plain": [
       "Timedelta('0 days 00:01:14')"
      ]
     },
     "execution_count": 39,
     "metadata": {},
     "output_type": "execute_result"
    }
   ],
   "source": [
    "(timestamp.loc[~timestamp['command_type'].isin(['database', 'filter_greengenes_reference']), 'runtime'].sum() / 24).round('s')"
   ]
  },
  {
   "cell_type": "code",
   "execution_count": 24,
   "metadata": {},
   "outputs": [
    {
     "data": {
      "text/plain": [
       "filename\n",
       "reconstruct_taxonomy       0 days 00:00:00\n",
       "reconstruct_table_single   0 days 00:00:01\n",
       "Name: runtime, dtype: timedelta64[ns]"
      ]
     },
     "execution_count": 24,
     "metadata": {},
     "output_type": "execute_result"
    }
   ],
   "source": [
    "(timestamp.loc[['reconstruct_taxonomy', 'reconstruct_table_single'], 'runtime'] / 24).dt.round('s')"
   ]
  },
  {
   "cell_type": "code",
   "execution_count": 25,
   "metadata": {},
   "outputs": [
    {
     "data": {
      "text/plain": [
       "command_type\n",
       "align      0 days 00:05:59\n",
       "database   0 days 00:06:44\n",
       "denoise    0 days 00:08:43\n",
       "Name: mean, dtype: timedelta64[ns]"
      ]
     },
     "execution_count": 25,
     "metadata": {},
     "output_type": "execute_result"
    }
   ],
   "source": [
    "timestamp.groupby(['command_type', 'region'])['runtime'].sum().groupby('command_type').describe()['mean'].round('s')"
   ]
  },
  {
   "cell_type": "code",
   "execution_count": 26,
   "metadata": {},
   "outputs": [
    {
     "data": {
      "text/plain": [
       "command_type\n",
       "align      0 days 00:00:37\n",
       "database   0 days 00:00:35\n",
       "denoise    0 days 00:03:06\n",
       "Name: std, dtype: timedelta64[ns]"
      ]
     },
     "execution_count": 26,
     "metadata": {},
     "output_type": "execute_result"
    }
   ],
   "source": [
    "timestamp.groupby(['command_type', 'region'])['runtime'].sum().groupby('command_type').describe()['std'].round('s')"
   ]
  },
  {
   "cell_type": "code",
   "execution_count": 29,
   "metadata": {},
   "outputs": [
    {
     "data": {
      "text/plain": [
       "Timedelta('0 days 00:41:54')"
      ]
     },
     "execution_count": 29,
     "metadata": {},
     "output_type": "execute_result"
    }
   ],
   "source": [
    "pd.Timedelta(5028.675 / 2, 's').round('s')"
   ]
  },
  {
   "cell_type": "code",
   "execution_count": 33,
   "metadata": {},
   "outputs": [
    {
     "data": {
      "text/plain": [
       "Timedelta('0 days 00:01:51')"
      ]
     },
     "execution_count": 33,
     "metadata": {},
     "output_type": "execute_result"
    }
   ],
   "source": [
    "(timestamp['runtime'].sum() / 24).round('s')"
   ]
  },
  {
   "cell_type": "code",
   "execution_count": 42,
   "metadata": {},
   "outputs": [
    {
     "data": {
      "text/plain": [
       "Timedelta('0 days 00:00:54')"
      ]
     },
     "execution_count": 42,
     "metadata": {},
     "output_type": "execute_result"
    }
   ],
   "source": [
    "(pd.Timedelta('00:21:25') / 24).round('s')"
   ]
  },
  {
   "cell_type": "code",
   "execution_count": null,
   "metadata": {},
   "outputs": [],
   "source": []
  }
 ],
 "metadata": {
  "kernelspec": {
   "display_name": "Python 3",
   "language": "python",
   "name": "python3"
  },
  "language_info": {
   "codemirror_mode": {
    "name": "ipython",
    "version": 3
   },
   "file_extension": ".py",
   "mimetype": "text/x-python",
   "name": "python",
   "nbconvert_exporter": "python",
   "pygments_lexer": "ipython3",
   "version": "3.6.12"
  }
 },
 "nbformat": 4,
 "nbformat_minor": 4
}

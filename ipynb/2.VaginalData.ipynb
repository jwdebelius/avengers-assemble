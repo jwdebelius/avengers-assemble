{
 "cells": [
  {
   "cell_type": "markdown",
   "id": "cedb8d87-aa68-4a7d-9ef6-191f86efb69a",
   "metadata": {},
   "source": [
    "**Author**: JW Debelius (justine.debelius@ki.se)<br>\n",
    "**Date**: September 2021<br>\n",
    "**Enviroment**: `qiime2-2021.8-dev`<br>\n",
    "**Python version**: 3.8<br>\n",
    "**Extra packages**: None<br>\n",
    "**QIIME version**: 2021.8-dev<br>\n",
    "**Extra Plugins**: q2-sidle (memory refactor); RESCRIPt (v. )"
   ]
  },
  {
   "cell_type": "markdown",
   "id": "16907ead-2e56-4870-9321-7a801b9e4b7a",
   "metadata": {
    "tags": []
   },
   "source": [
    "# Vaginal Data Preperation\n",
    "\n",
    "## Background\n",
    "\n",
    "## Data Download and avaliability\n",
    "\n",
    "## Processing Approach\n",
    "\n",
    "### Set up"
   ]
  },
  {
   "cell_type": "code",
   "execution_count": 2,
   "id": "af330b95-cd59-4b60-bcee-784fb9853cd0",
   "metadata": {},
   "outputs": [],
   "source": [
    "import os\n",
    "import shutil\n",
    "\n",
    "import numpy as np\n",
    "import pandas as pd\n",
    "\n",
    "from qiime2 import Metadata, Artifact"
   ]
  },
  {
   "cell_type": "markdown",
   "id": "660cdb99-13f8-4a60-be79-56e309afb63c",
   "metadata": {},
   "source": []
  },
  {
   "cell_type": "code",
   "execution_count": 3,
   "id": "45da11a6-7a6b-41b3-819e-37dd95c21a7c",
   "metadata": {},
   "outputs": [],
   "source": [
    "input_dir = 'data/inputs/vaginal/sequences/'\n",
    "output_dir = 'data/output/real_optivag/'"
   ]
  },
  {
   "cell_type": "code",
   "execution_count": 4,
   "id": "c81bd5f9-e649-4ba0-97cb-d9956e09f588",
   "metadata": {},
   "outputs": [],
   "source": [
    "all_input_samples = os.listdir(input_dir)\n",
    "# all_input_samples"
   ]
  },
  {
   "cell_type": "code",
   "execution_count": 5,
   "id": "504ad5bb-3913-4459-be82-d1e861c46502",
   "metadata": {},
   "outputs": [],
   "source": [
    "def get_sample_descriptor(fp):\n",
    "    name = fp.split('.')[0]\n",
    "    abs_fp = os.path.abspath(fp)\n",
    "    position, study_info, sample_info = name.split(\"__\")\n",
    "    [pool_id, rep, region, pcr, dir_] = sample_info.split('_')\n",
    "\n",
    "    dir_label = {'R1': 'forward', 'R2': 'reverse'}[dir_]\n",
    "\n",
    "    summary = pd.Series(\n",
    "        data={'{}-absolute-filepath'.format(dir_label): abs_fp,\n",
    "              'sample-id': '{}_{}'.format(pool_id, rep),\n",
    "              'pool': pool_id,\n",
    "              'replicate': rep,\n",
    "              'region': region,\n",
    "              'pcr_type': pcr},\n",
    "        name='_'.join(sample_info.split('_')[:-1]))\n",
    "    return summary"
   ]
  },
  {
   "cell_type": "markdown",
   "id": "8c99ca5d-b1d0-4174-9293-69b13fb1dc6d",
   "metadata": {},
   "source": []
  },
  {
   "cell_type": "markdown",
   "id": "032b7614-d4a4-4c3b-802b-8cedb9c89eb1",
   "metadata": {},
   "source": [
    "# Regional Preperation"
   ]
  },
  {
   "cell_type": "markdown",
   "id": "53f64716-2025-455e-bcc2-87ac831480d7",
   "metadata": {
    "tags": []
   },
   "source": [
    "## V1-3"
   ]
  },
  {
   "cell_type": "code",
   "execution_count": 6,
   "id": "e5168e42-6cc1-4417-ad50-8516bb713233",
   "metadata": {},
   "outputs": [],
   "source": [
    "os.makedirs(f'{output_dir}/1.regional-preperation/v1-3/', exist_ok=True)\n",
    "\n",
    "v13_manifest_fp = f'{output_dir}1.regional-preperation/v1-3/manifest.tsv'\n",
    "v13_demux_fp = f'{output_dir}1.regional-preperation/v1-3/demux-seqs.qza'\n",
    "v13_primer_fp = f'{output_dir}1.regional-preperation/v1-3/trimmed-seqs.qza'\n",
    "v13_table_fp = f'{output_dir}/1.regional-preperation/v1-3/asv-table.qza'\n",
    "v13_repseq_fp = f'{output_dir}/1.regional-preperation/v1-3/representative-sequences.qza'\n",
    "v13_stats_fp = f'{output_dir}/1.regional-preperation/v1-3/denoising-statitics.qza'"
   ]
  },
  {
   "cell_type": "markdown",
   "id": "2964b189-5efd-4897-ac46-36c6c7eee0f5",
   "metadata": {},
   "source": [
    "### Importing into QIIME 2"
   ]
  },
  {
   "cell_type": "code",
   "execution_count": 7,
   "id": "0efbfd7f-13c2-490d-88d6-0c01d18ba898",
   "metadata": {},
   "outputs": [
    {
     "data": {
      "text/plain": [
       "'data/output/real_optivag/1.regional-preperation/v1-3/manifest.tsv'"
      ]
     },
     "execution_count": 7,
     "metadata": {},
     "output_type": "execute_result"
    }
   ],
   "source": [
    "v13_sample_files_fwd = [\n",
    "    fp for fp in all_input_samples if ('V1V3Old_2step_R1' in fp)\n",
    "]\n",
    "v13_sample_files_rev = [\n",
    "    fp for fp in all_input_samples if ('V1V3Old_2step_R2' in fp)\n",
    "]\n",
    "v13_samples = pd.concat(axis=1, objs=[\n",
    "    get_sample_descriptor(f'{input_dir}/{fp}') for fp in v13_sample_files_fwd\n",
    "]).T\n",
    "v13_samples.rename(columns={'forward-absolute-filepath': 'absolute-filepath'},\n",
    "                   inplace=True\n",
    "                   )\n",
    "v13_samples.set_index(\"sample-id\", inplace=True)\n",
    "v13_samples = Metadata(v13_samples)\n",
    "v13_samples.save(v13_manifest_fp)"
   ]
  },
  {
   "cell_type": "code",
   "execution_count": 8,
   "id": "d9c1b74c-bcac-4b84-b09e-d119772b0417",
   "metadata": {},
   "outputs": [
    {
     "name": "stdout",
     "output_type": "stream",
     "text": [
      "\u001b[32mImported data/output/real_optivag/1.regional-preperation/v1-3/manifest.tsv as SingleEndFastqManifestPhred33V2 to data/output/real_optivag/1.regional-preperation/v1-3/demux-seqs.qza\u001b[0m\n"
     ]
    }
   ],
   "source": [
    "!qiime tools import \\\n",
    " --type 'SampleData[SequencesWithQuality]' \\\n",
    " --input-format SingleEndFastqManifestPhred33V2 \\\n",
    " --input-path $v13_manifest_fp \\\n",
    " --output-path $v13_demux_fp"
   ]
  },
  {
   "cell_type": "markdown",
   "id": "37d6498f-5d90-437a-8f26-4b342a990b86",
   "metadata": {},
   "source": [
    "### Primer trimming\n",
    "\n",
    "The reads were already demultiplexed by region, and so the primer trimming is more of a formality since they were, for the most part, trimmed before the reads were deposited"
   ]
  },
  {
   "cell_type": "code",
   "execution_count": 9,
   "id": "4db71cd3-ec8e-4c54-9bdf-9a701e8aa05d",
   "metadata": {},
   "outputs": [
    {
     "name": "stdout",
     "output_type": "stream",
     "text": [
      "\u001b[32mSaved SampleData[SequencesWithQuality] to: data/output/real_optivag/1.regional-preperation/v1-3/trimmed-seqs.qza\u001b[0m\n"
     ]
    }
   ],
   "source": [
    "!qiime cutadapt trim-single \\\n",
    " --i-demultiplexed-sequences $v13_demux_fp \\\n",
    " --p-front 'AGAGTTTGATCCTGGCTCAG' \\\n",
    " --p-no-discard-untrimmed \\\n",
    " --o-trimmed-sequences $v13_primer_fp"
   ]
  },
  {
   "cell_type": "markdown",
   "id": "4b6dfa52-dd89-4ba7-be23-cc5cefd42ab3",
   "metadata": {},
   "source": [
    "### Denoising"
   ]
  },
  {
   "cell_type": "code",
   "execution_count": 10,
   "id": "76973831-35b9-43e1-bbd2-6944fb321754",
   "metadata": {
    "tags": []
   },
   "outputs": [
    {
     "name": "stdout",
     "output_type": "stream",
     "text": [
      "\u001b[32mSaved FeatureTable[Frequency] to: data/output/real_optivag//1.regional-preperation/v1-3/asv-table.qza\u001b[0m\n",
      "\u001b[32mSaved FeatureData[Sequence] to: data/output/real_optivag//1.regional-preperation/v1-3/representative-sequences.qza\u001b[0m\n",
      "\u001b[32mSaved SampleData[DADA2Stats] to: data/output/real_optivag//1.regional-preperation/v1-3/denoising-statitics.qza\u001b[0m\n"
     ]
    }
   ],
   "source": [
    "!qiime dada2 denoise-single \\\n",
    " --i-demultiplexed-seqs $v13_primer_fp \\\n",
    " --p-trunc-len 280 \\\n",
    " --p-n-threads 4 \\\n",
    " --o-table $v13_table_fp \\\n",
    " --o-representative-sequences $v13_repseq_fp \\\n",
    " --o-denoising-stats $v13_stats_fp "
   ]
  },
  {
   "cell_type": "markdown",
   "id": "e8b6a56e-c3b3-46b9-9a7c-d1148a4972d8",
   "metadata": {},
   "source": [
    "## V34"
   ]
  },
  {
   "cell_type": "code",
   "execution_count": 11,
   "id": "8496a74b-9eba-4c1e-b2c1-0f6a43d965dc",
   "metadata": {},
   "outputs": [],
   "source": [
    "os.makedirs(f'{output_dir}/1.regional-preperation/v3-4/', exist_ok=True)\n",
    "v34_manifest_fp = f'{output_dir}/1.regional-preperation/v3-4/manifest.tsv'\n",
    "v34_demux_fp = f'{output_dir}/1.regional-preperation/v3-4/demux-seqs.qza'\n",
    "v34_trimmed_fp = f'{output_dir}/1.regional-preperation/v3-4/trimmed-seqs.qza'\n",
    "v34_table_fp = f'{output_dir}/1.regional-preperation/v3-4/asv-table.qza'\n",
    "v34_rep_seqs_fp = f'{output_dir}/1.regional-preperation/v3-4/representative-sequences.qza'\n",
    "v34_dada2_stats_fp = f'{output_dir}/1.regional-preperation/v3-4/denoising-statitics.qza'"
   ]
  },
  {
   "cell_type": "markdown",
   "id": "2e7eec9f-1483-4998-b678-485128e8a9d4",
   "metadata": {},
   "source": [
    "### Import into QIIME 2"
   ]
  },
  {
   "cell_type": "code",
   "execution_count": 12,
   "id": "d87dd469-45ba-4525-a1bc-3f7f4b7697fc",
   "metadata": {},
   "outputs": [
    {
     "data": {
      "text/plain": [
       "'data/output/real_optivag//1.regional-preperation/v3-4/manifest.tsv'"
      ]
     },
     "execution_count": 12,
     "metadata": {},
     "output_type": "execute_result"
    }
   ],
   "source": [
    "v34_sample_files_fwd = [\n",
    "    fp for fp in all_input_samples if ('V3V4_2step_R1' in fp)\n",
    "]\n",
    "v34_sample_files_rev = [\n",
    "    fp for fp in all_input_samples if ('V3V4_2step_R1' in fp)\n",
    "]\n",
    "v34_samples = pd.concat(axis=1, objs=[\n",
    "    get_sample_descriptor(f'{input_dir}/{fp}') for fp in v34_sample_files_fwd\n",
    "]).T\n",
    "v34_samples['reverse-absolute-filepath'] = \\\n",
    "    v34_samples['forward-absolute-filepath'].apply(\n",
    "        lambda x: x.replace(\"R1\", \"R2\"))\n",
    "v34_samples.set_index(\"sample-id\", inplace=True)\n",
    "\n",
    "\n",
    "v34_samples = Metadata(v34_samples)\n",
    "v34_samples.save(v34_manifest_fp)"
   ]
  },
  {
   "cell_type": "code",
   "execution_count": 13,
   "id": "ad6eed4d-748e-4094-9c5a-1297e97130b9",
   "metadata": {},
   "outputs": [
    {
     "name": "stdout",
     "output_type": "stream",
     "text": [
      "\u001b[32mImported data/output/real_optivag//1.regional-preperation/v3-4/manifest.tsv as PairedEndFastqManifestPhred33V2 to data/output/real_optivag//1.regional-preperation/v3-4/demux-seqs.qza\u001b[0m\n"
     ]
    }
   ],
   "source": [
    "!qiime tools import \\\n",
    " --type 'SampleData[PairedEndSequencesWithQuality]' \\\n",
    " --input-format PairedEndFastqManifestPhred33V2 \\\n",
    " --input-path $v34_manifest_fp \\\n",
    " --output-path $v34_demux_fp"
   ]
  },
  {
   "cell_type": "markdown",
   "id": "3df93a99-ff6a-4a4b-8ce7-f0ca9d3ef5e3",
   "metadata": {},
   "source": [
    "## Primer Trimming\n",
    "\n",
    "The sequences were again, already trimmed before they were deposited and so this is a clean up of already trimmed/demultiplexed sequences rather than a true demux. If the primers were still int he sequences, then I'd use `--discard-untrimmed` to do the regional demux"
   ]
  },
  {
   "cell_type": "code",
   "execution_count": 14,
   "id": "9d801d97-62a1-43fa-81bc-20a1e7f67833",
   "metadata": {},
   "outputs": [
    {
     "name": "stdout",
     "output_type": "stream",
     "text": [
      "\u001b[32mSaved SampleData[PairedEndSequencesWithQuality] to: data/output/real_optivag//1.regional-preperation/v3-4/trimmed-seqs.qza\u001b[0m\n"
     ]
    }
   ],
   "source": [
    "!qiime cutadapt trim-paired \\\n",
    " --i-demultiplexed-sequences $v34_demux_fp \\\n",
    " --p-front-f CCTACGGGNGGCWGCAG \\\n",
    " --p-front-r GACTACHVGGGTATCTAATCC \\\n",
    " --p-no-discard-untrimmed \\\n",
    " --o-trimmed-sequences $v34_trimmed_fp"
   ]
  },
  {
   "cell_type": "markdown",
   "id": "84f16ef8-13d6-4074-aff3-5462168a40fb",
   "metadata": {},
   "source": [
    "### DADA 2"
   ]
  },
  {
   "cell_type": "code",
   "execution_count": 15,
   "id": "e66db98a-c10c-4c9f-92be-58aa555a57f3",
   "metadata": {
    "tags": []
   },
   "outputs": [
    {
     "name": "stdout",
     "output_type": "stream",
     "text": [
      "\u001b[32mSaved FeatureTable[Frequency] to: data/output/real_optivag//1.regional-preperation/v3-4/asv-table.qza\u001b[0m\n",
      "\u001b[32mSaved FeatureData[Sequence] to: data/output/real_optivag//1.regional-preperation/v3-4/representative-sequences.qza\u001b[0m\n",
      "\u001b[32mSaved SampleData[DADA2Stats] to: data/output/real_optivag//1.regional-preperation/v3-4/denoising-statitics.qza\u001b[0m\n"
     ]
    }
   ],
   "source": [
    "!qiime dada2 denoise-paired \\\n",
    " --i-demultiplexed-seqs $v34_trimmed_fp \\\n",
    " --p-trunc-len-f 280 \\\n",
    " --p-trunc-len-r 280 \\\n",
    " --p-n-threads 4 \\\n",
    " --o-table $v34_table_fp \\\n",
    " --o-representative-sequences $v34_rep_seqs_fp \\\n",
    " --o-denoising-stats $v34_dada2_stats_fp"
   ]
  },
  {
   "cell_type": "markdown",
   "id": "29db3ca1-b0ac-4439-98fc-502009dac783",
   "metadata": {},
   "source": [
    "# Reference data"
   ]
  },
  {
   "cell_type": "markdown",
   "id": "a7beeeef-4531-4273-96dc-0402ce460b65",
   "metadata": {},
   "source": []
  },
  {
   "cell_type": "code",
   "execution_count": 16,
   "id": "94014340-28d7-4edf-8db3-5381d6825d0c",
   "metadata": {
    "tags": []
   },
   "outputs": [
    {
     "name": "stdout",
     "output_type": "stream",
     "text": [
      "--2022-01-03 13:28:43--  https://github.com/ctmrbio/optivag/raw/master/database/db/16S/v0.1/optivag_seqinfo.csv\n",
      "Resolving github.com... 140.82.121.3\n",
      "Connecting to github.com|140.82.121.3|:443... connected.\n",
      "HTTP request sent, awaiting response... 302 Found\n",
      "Location: https://raw.githubusercontent.com/ctmrbio/optivag/master/database/db/16S/v0.1/optivag_seqinfo.csv [following]\n",
      "--2022-01-03 13:28:45--  https://raw.githubusercontent.com/ctmrbio/optivag/master/database/db/16S/v0.1/optivag_seqinfo.csv\n",
      "Resolving raw.githubusercontent.com... 185.199.111.133, 185.199.108.133, 185.199.110.133, ...\n",
      "Connecting to raw.githubusercontent.com|185.199.111.133|:443... connected.\n",
      "HTTP request sent, awaiting response... 200 OK\n",
      "Length: 234751 (229K) [text/plain]\n",
      "Saving to: 'optivag_seqinfo.csv'\n",
      "\n",
      "optivag_seqinfo.csv 100%[===================>] 229.25K  1.40MB/s    in 0.2s    \n",
      "\n",
      "2022-01-03 13:28:46 (1.40 MB/s) - 'optivag_seqinfo.csv' saved [234751/234751]\n",
      "\n"
     ]
    }
   ],
   "source": [
    "os.makedirs('data/reference/optivag/raw/', exist_ok=True)\n",
    "\n",
    "raw_seq_address = ('https://github.com/ctmrbio/optivag/blob/master/database/'\n",
    "                   'db/16S/v0.1/optivag_db.fasta.gz?raw=true')\n",
    "optivag_meta_address = ('https://github.com/ctmrbio/optivag/raw/master/'\n",
    "                        'database/db/16S/v0.1/optivag_seqinfo.csv')\n",
    "\n",
    "optivag_seq_fp = 'data/reference/optivag/optivag_v01_seqs.qza'\n",
    "optivag_tax_fp = 'data/reference/optivag/optivag_v01_taxonomy.qza'\n",
    "\n",
    "!rm -r 'data/reference/optivag/optivag_v01_taxonomy.qza'\n",
    "\n",
    "# # !ls \n",
    "if os.path.exists(optivag_seq_fp) == False:\n",
    "    !wget $raw_seq_address\n",
    "    shutil.move('optivag_db.fasta.gz?raw=true', \n",
    "                'data/reference/optivag/raw/optivag_v01_seqs.fasta.gz')\n",
    "    !gunzip data/reference/optivag/raw/optivag_v01_seqs.fasta.gz    \n",
    "    !qiime tools import \\\n",
    "     --type 'FeatureData[Sequence]' \\\n",
    "     --input-path data/reference/optivag/raw/optivag_v01_seqs.fasta \\\n",
    "     --output-path $optivag_seq_fp\n",
    "    \n",
    "if os.path.exists(optivag_tax_fp) == False:\n",
    "    !wget $optivag_meta_address\n",
    "    shutil.move('optivag_seqinfo.csv',\n",
    "                'data/reference/optivag/raw/optivag_seqinfo.csv')\n",
    "    optivag_taxa = pd.read_csv('data/reference/optivag/raw/optivag_seqinfo.csv',\n",
    "                               sep=',',\n",
    "                               dtype=str\n",
    "                               )\n",
    "    # QIIME is really picky about the column names for certain things\n",
    "    optivag_taxa.rename(columns={\"Seq_ID\": 'Feature ID',\n",
    "                                 'Full_taxonomy': 'Taxon',\n",
    "                                 'Species': 'species',\n",
    "                                 }, \n",
    "                        inplace=True)\n",
    "    levels = ['k', 'p', 'c', 'o', 'f', 'g', 's']\n",
    "    optivag_taxa['Taxon'] = optivag_taxa['Taxon'].apply(\n",
    "        lambda x: ';'.join([f'{l}__{t}' for l, t in zip(*(levels, x.split(\";\")))])\n",
    "    )\n",
    "    optivag_taxa = optivag_taxa[['Feature ID', 'Taxon', 'species']].copy()\n",
    "    optivag_taxa.set_index('Feature ID', inplace=True)\n",
    "    \n",
    "    # Converts the information to an Artifact and then saves it\n",
    "    optivag_taxa = Artifact.import_data('FeatureData[Taxonomy]', optivag_taxa)\n",
    "    optivag_taxa.save(optivag_tax_fp)\n",
    "    \n",
    "shutil.rmtree('data/reference/optivag/raw/')"
   ]
  },
  {
   "cell_type": "markdown",
   "id": "4d67c4c6-2b35-46fa-9947-46d734696dc8",
   "metadata": {},
   "source": [
    "Reviewing the taxa, I want to filter and discard anything that doesn't have an order annotation int he database."
   ]
  },
  {
   "cell_type": "code",
   "execution_count": 17,
   "id": "17c95429-cc20-4448-bdd9-8ecbbbeff5a5",
   "metadata": {},
   "outputs": [
    {
     "name": "stdout",
     "output_type": "stream",
     "text": [
      "\u001b[32mSaved FeatureData[Sequence] to: data/reference/optivag/optivag_v01_seqs.qza\u001b[0m\n"
     ]
    }
   ],
   "source": [
    "!qiime taxa filter-seqs \\\n",
    " --i-sequences $optivag_seq_fp \\\n",
    " --i-taxonomy $optivag_tax_fp \\\n",
    " --p-include 'o__,f__,g__,s__' \\\n",
    " --o-filtered-sequences $optivag_seq_fp"
   ]
  },
  {
   "cell_type": "markdown",
   "id": "27c81755-adf7-4f03-9e66-acdc4be51be9",
   "metadata": {},
   "source": [
    "# Per-Region characterization"
   ]
  },
  {
   "cell_type": "code",
   "execution_count": 18,
   "id": "1573a907-f8f4-4f81-8219-b9dfabbd1795",
   "metadata": {},
   "outputs": [],
   "source": [
    "os.makedirs(f'{output_dir}/2.reconstruction/1.v13-only', exist_ok=True)\n",
    "os.makedirs(f'{output_dir}/2.reconstruction/2.v34-only', exist_ok=True)"
   ]
  },
  {
   "cell_type": "markdown",
   "id": "f79dc0c7-92b3-45db-a47e-7e23da1429d8",
   "metadata": {},
   "source": [
    "## v1-3 Only"
   ]
  },
  {
   "cell_type": "code",
   "execution_count": 19,
   "id": "1d089ba1-bc2f-4b71-8500-fd5cb2a54a9c",
   "metadata": {},
   "outputs": [],
   "source": [
    "v13_table_in = f'{output_dir}/1.regional-preperation/v1-3/asv-table.qza'\n",
    "v13_repseq_in = f'{output_dir}/1.regional-preperation/v1-3/representative-sequences.qza'\n",
    "\n",
    "v13_dir = f'{output_dir}2.reconstruction/1.v13-only'\n",
    "os.makedirs(v13_dir, exist_ok=True)\n",
    "\n",
    "v13_ref_reads_fp = f'{v13_dir}/optivag-v13-reads.qza'\n",
    "v13_classifier_fp = f'{v13_dir}/optivag-v13-feature-classifier.qza'\n",
    "v13_taxonomy_fp = f'{v13_dir}/taxonomy.qza'\n",
    "v13_table_fp = f'{v13_dir}/table.qza'\n",
    "v13_species_fp = f'{v13_dir}/species.qza'"
   ]
  },
  {
   "cell_type": "markdown",
   "id": "73d9b203-bef6-4b8a-b306-d6267ebe2141",
   "metadata": {
    "tags": []
   },
   "source": [
    "### Regional taxonomic classification"
   ]
  },
  {
   "cell_type": "code",
   "execution_count": 20,
   "id": "c680d767-4d6f-4c00-9fff-458176e6d3fa",
   "metadata": {},
   "outputs": [
    {
     "name": "stdout",
     "output_type": "stream",
     "text": [
      "\u001b[32mSaved FeatureData[Sequence] to: data/output/real_optivag/2.reconstruction/1.v13-only/optivag-v13-reads.qza\u001b[0m\n",
      "\u001b[32mSaved TaxonomicClassifier to: data/output/real_optivag/2.reconstruction/1.v13-only/optivag-v13-feature-classifier.qza\u001b[0m\n"
     ]
    }
   ],
   "source": [
    "!qiime feature-classifier extract-reads \\\n",
    " --i-sequences $optivag_seq_fp \\\n",
    " --p-f-primer AGAGTTTGATCCTGGCTCAG \\\n",
    " --p-r-primer ATTACCGCGGCTGCTGG \\\n",
    " --p-trunc-len 300 \\\n",
    " --o-reads $v13_ref_reads_fp\n",
    "\n",
    "!qiime feature-classifier fit-classifier-naive-bayes \\\n",
    " --i-reference-reads $v13_ref_reads_fp \\\n",
    " --i-reference-taxonomy $optivag_tax_fp \\\n",
    " --o-classifier $v13_classifier_fp"
   ]
  },
  {
   "cell_type": "markdown",
   "id": "b252e290-b9d8-4869-a251-413bb84eb286",
   "metadata": {},
   "source": [
    "### Taxonomic classification and table filtering\n",
    "\n",
    "I want to keep featres that are defined with at least class level or higher"
   ]
  },
  {
   "cell_type": "code",
   "execution_count": 21,
   "id": "239a385d-21ff-4b6a-81ea-12a758dfc278",
   "metadata": {},
   "outputs": [
    {
     "name": "stdout",
     "output_type": "stream",
     "text": [
      "\u001b[32mSaved FeatureData[Taxonomy] to: data/output/real_optivag/2.reconstruction/1.v13-only/taxonomy.qza\u001b[0m\n",
      "\u001b[32mSaved FeatureTable[Frequency] to: data/output/real_optivag/2.reconstruction/1.v13-only/table.qza\u001b[0m\n"
     ]
    }
   ],
   "source": [
    "!qiime feature-classifier classify-sklearn \\\n",
    " --i-reads $v13_repseq_in \\\n",
    " --i-classifier $v13_classifier_fp \\\n",
    " --o-classification $v13_taxonomy_fp\n",
    "\n",
    "!qiime taxa filter-table \\\n",
    " --i-table $v13_table_in \\\n",
    " --i-taxonomy $v13_taxonomy_fp \\\n",
    " --p-include ';f__' \\\n",
    " --o-filtered-table $v13_table_fp"
   ]
  },
  {
   "cell_type": "markdown",
   "id": "7239ec40-e5c2-46b9-8a4b-a5a98735d4bd",
   "metadata": {},
   "source": [
    "And then wwe collapsed to a species level table"
   ]
  },
  {
   "cell_type": "code",
   "execution_count": 22,
   "id": "2141bda0-51a6-453b-b09b-968fcbe8d7bf",
   "metadata": {},
   "outputs": [
    {
     "name": "stdout",
     "output_type": "stream",
     "text": [
      "\u001b[32mSaved FeatureTable[Frequency] to: data/output/real_optivag/2.reconstruction/1.v13-only/species.qza\u001b[0m\n"
     ]
    }
   ],
   "source": [
    "!qiime taxa collapse \\\n",
    " --i-table $v13_table_fp \\\n",
    " --i-taxonomy $v13_taxonomy_fp \\\n",
    " --p-level 7 \\\n",
    " --o-collapsed-table $v13_species_fp"
   ]
  },
  {
   "cell_type": "markdown",
   "id": "bae633f4-7d44-46ac-98fb-aa6c0d03b83b",
   "metadata": {},
   "source": [
    "## V34"
   ]
  },
  {
   "cell_type": "code",
   "execution_count": 23,
   "id": "6185a981-2df9-46f7-be31-7cef36da45a0",
   "metadata": {},
   "outputs": [],
   "source": [
    "v34_table_in = f'{output_dir}/1.regional-preperation/v3-4/asv-table.qza'\n",
    "v34_repseq_in = f'{output_dir}/1.regional-preperation/v3-4/representative-sequences.qza'\n",
    "\n",
    "v34_dir = f'{output_dir}2.reconstruction/2.v34-only'\n",
    "os.makedirs(v34_dir, exist_ok=True)\n",
    "\n",
    "v34_ref_reads_fp = f'{v34_dir}/optivag-v34-reads.qza'\n",
    "v34_classifier_fp = f'{v34_dir}/optivag-v34-feature-classifier.qza'\n",
    "v34_taxonomy_fp = f'{v34_dir}/taxonomy.qza'\n",
    "v34_table_fp = f'{v34_dir}/table.qza'\n",
    "v34_species_fp = f'{v34_dir}/species.qza'"
   ]
  },
  {
   "cell_type": "markdown",
   "id": "8a6741b0-add3-4272-b278-6280f6811b32",
   "metadata": {},
   "source": [
    "### Build Classifier"
   ]
  },
  {
   "cell_type": "code",
   "execution_count": 24,
   "id": "4906ee24-161f-4b6d-bf12-89702f486381",
   "metadata": {},
   "outputs": [
    {
     "name": "stdout",
     "output_type": "stream",
     "text": [
      "\u001b[32mSaved FeatureData[Sequence] to: data/output/real_optivag/2.reconstruction/2.v34-only/optivag-v34-reads.qza\u001b[0m\n",
      "\u001b[32mSaved TaxonomicClassifier to: data/output/real_optivag/2.reconstruction/2.v34-only/optivag-v34-feature-classifier.qza\u001b[0m\n"
     ]
    }
   ],
   "source": [
    "!qiime feature-classifier extract-reads \\\n",
    " --i-sequences $optivag_seq_fp \\\n",
    " --p-f-primer CCTACGGGNGGCWGCAG \\\n",
    " --p-r-primer GACTACHVGGGTATCTAATCC \\\n",
    " --p-trunc-len 450 \\\n",
    " --o-reads $v34_ref_reads_fp\n",
    "\n",
    "!qiime feature-classifier fit-classifier-naive-bayes \\\n",
    " --i-reference-reads $v34_ref_reads_fp \\\n",
    " --i-reference-taxonomy $optivag_tax_fp \\\n",
    " --o-classifier $v34_classifier_fp"
   ]
  },
  {
   "cell_type": "markdown",
   "id": "24eb842c-d5df-48b1-beba-713b970bc324",
   "metadata": {},
   "source": [
    "### Taxonomic classification and table filtering\n",
    "\n",
    "I want to keep featres that are defined with at least class level or higher"
   ]
  },
  {
   "cell_type": "code",
   "execution_count": 25,
   "id": "73d0fb9e-9172-4add-a5af-90d80290f247",
   "metadata": {},
   "outputs": [
    {
     "name": "stdout",
     "output_type": "stream",
     "text": [
      "\u001b[32mSaved FeatureData[Taxonomy] to: data/output/real_optivag/2.reconstruction/2.v34-only/taxonomy.qza\u001b[0m\n",
      "\u001b[32mSaved FeatureTable[Frequency] to: data/output/real_optivag/2.reconstruction/2.v34-only/table.qza\u001b[0m\n"
     ]
    }
   ],
   "source": [
    "!qiime feature-classifier classify-sklearn \\\n",
    " --i-reads $v34_repseq_in \\\n",
    " --i-classifier $v34_classifier_fp \\\n",
    " --o-classification $v34_taxonomy_fp\n",
    "\n",
    "!qiime taxa filter-table \\\n",
    " --i-table $v34_table_in \\\n",
    " --i-taxonomy $v34_taxonomy_fp \\\n",
    " --p-include ';f__' \\\n",
    " --o-filtered-table $v34_table_fp"
   ]
  },
  {
   "cell_type": "code",
   "execution_count": 26,
   "id": "44277f2b-5381-44dd-8bea-bc0db42b31a0",
   "metadata": {},
   "outputs": [
    {
     "name": "stdout",
     "output_type": "stream",
     "text": [
      "\u001b[32mSaved FeatureTable[Frequency] to: data/output/real_optivag/2.reconstruction/2.v34-only/species.qza\u001b[0m\n"
     ]
    }
   ],
   "source": [
    "!qiime taxa collapse \\\n",
    " --i-table $v34_table_fp \\\n",
    " --i-taxonomy $v34_taxonomy_fp \\\n",
    " --p-level 7 \\\n",
    " --o-collapsed-table $v34_species_fp"
   ]
  },
  {
   "cell_type": "markdown",
   "id": "2b210b5c-e376-4d42-aa24-bfff6bdfafa8",
   "metadata": {},
   "source": [
    "# Regional Reconstruction"
   ]
  },
  {
   "cell_type": "markdown",
   "id": "5bd73bf8-d291-40ff-aaf4-53302a89dcdf",
   "metadata": {
    "tags": []
   },
   "source": [
    "## Merge Regional tables\n",
    "To combine the regions for OTU clustering and the combined ASV table, I need to merge the data."
   ]
  },
  {
   "cell_type": "code",
   "execution_count": 27,
   "id": "97d21805-b0be-4782-bf80-79f9075575b4",
   "metadata": {},
   "outputs": [],
   "source": [
    "merge_dir = f'{output_dir}2.reconstruction'\n",
    "os.makedirs(merge_dir, exist_ok=True)\n",
    "merged_table_fp = f'{merge_dir}/merged-table.qza'\n",
    "merged_seqs_fp = f'{merge_dir}/merged-seqs.qza'"
   ]
  },
  {
   "cell_type": "code",
   "execution_count": 28,
   "id": "01c2e2b9-785e-42cf-baf7-92b3c6242713",
   "metadata": {},
   "outputs": [
    {
     "name": "stdout",
     "output_type": "stream",
     "text": [
      "\u001b[32mSaved FeatureTable[Frequency] to: data/output/real_optivag/2.reconstruction/merged-table.qza\u001b[0m\n"
     ]
    }
   ],
   "source": [
    "!qiime feature-table merge \\\n",
    " --i-tables $v13_table_in \\\n",
    " --i-tables $v34_table_in \\\n",
    " --p-overlap-method 'sum' \\\n",
    " --o-merged-table $merged_table_fp"
   ]
  },
  {
   "cell_type": "code",
   "execution_count": 29,
   "id": "a5fa97e0-5599-4691-9da1-e0b74a7fba18",
   "metadata": {},
   "outputs": [
    {
     "name": "stdout",
     "output_type": "stream",
     "text": [
      "\u001b[32mSaved FeatureData[Sequence] to: data/output/real_optivag/2.reconstruction/merged-seqs.qza\u001b[0m\n"
     ]
    }
   ],
   "source": [
    "!qiime feature-table merge-seqs \\\n",
    " --i-data $v13_repseq_in \\\n",
    " --i-data $v34_repseq_in \\\n",
    " --o-merged-data $merged_seqs_fp"
   ]
  },
  {
   "cell_type": "markdown",
   "id": "2139c8eb-c544-44c8-b0a8-0a7c354a44a9",
   "metadata": {
    "tags": []
   },
   "source": [
    "## OTU clustering"
   ]
  },
  {
   "cell_type": "markdown",
   "id": "c9e386f0-934b-45d1-ad3f-de1b5c1d8b44",
   "metadata": {},
   "source": [
    "... "
   ]
  },
  {
   "cell_type": "code",
   "execution_count": 30,
   "id": "c9097c48-86ef-4fe1-bcd9-a99e2400da73",
   "metadata": {},
   "outputs": [],
   "source": [
    "otu_dir = f'{output_dir}/2.reconstruction/3.otu-clustering/'\n",
    "os.makedirs(otu_dir, exist_ok=True)\n",
    "\n",
    "otu_table_fp = f'{otu_dir}/table.qza'\n",
    "otu_cluster_seqs_fp = f'{otu_dir}/clustered-seqs.qza'\n",
    "otu_discard_seqs_fp = f'{otu_dir}/unmatched-seqs.qza'\n",
    "otu_taxonomy_fp = f'{otu_dir}/taxonomy.qza'\n",
    "otu_species_fp = f'{otu_dir}/species.qza'"
   ]
  },
  {
   "cell_type": "markdown",
   "id": "7e413181-1614-450a-9645-adc0508496da",
   "metadata": {},
   "source": [
    "We'll start clustering the sequences"
   ]
  },
  {
   "cell_type": "code",
   "execution_count": 31,
   "id": "4f3d4759-119a-4724-89da-13fdd3db0fa9",
   "metadata": {},
   "outputs": [
    {
     "name": "stdout",
     "output_type": "stream",
     "text": [
      "\u001b[32mSaved FeatureTable[Frequency] to: data/output/real_optivag//2.reconstruction/3.otu-clustering//table.qza\u001b[0m\n",
      "\u001b[32mSaved FeatureData[Sequence] to: data/output/real_optivag//2.reconstruction/3.otu-clustering//clustered-seqs.qza\u001b[0m\n",
      "\u001b[32mSaved FeatureData[Sequence] to: data/output/real_optivag//2.reconstruction/3.otu-clustering//unmatched-seqs.qza\u001b[0m\n"
     ]
    }
   ],
   "source": [
    "!qiime vsearch cluster-features-closed-reference \\\n",
    " --i-sequences $merged_seqs_fp \\\n",
    " --i-table $merged_table_fp \\\n",
    " --i-reference-sequences $optivag_seq_fp \\\n",
    " --p-perc-identity 0.99 \\\n",
    " --o-clustered-table $otu_table_fp \\\n",
    " --o-clustered-sequences $otu_cluster_seqs_fp \\\n",
    " --o-unmatched-sequences $otu_discard_seqs_fp"
   ]
  },
  {
   "cell_type": "markdown",
   "id": "8bc71a90-ceb9-4997-a621-4a7ef71faa9a",
   "metadata": {},
   "source": [
    "And then we add in the taxonomy"
   ]
  },
  {
   "cell_type": "code",
   "execution_count": 32,
   "id": "6da5a8e7-2906-4afd-80dc-632550acd447",
   "metadata": {},
   "outputs": [],
   "source": [
    "!cp $optivag_tax_fp $otu_taxonomy_fp"
   ]
  },
  {
   "cell_type": "code",
   "execution_count": 33,
   "id": "c8c017ba-e3f6-4fee-9975-de09387e7007",
   "metadata": {},
   "outputs": [
    {
     "name": "stdout",
     "output_type": "stream",
     "text": [
      "\u001b[32mSaved FeatureTable[Frequency] to: data/output/real_optivag//2.reconstruction/3.otu-clustering//species.qza\u001b[0m\n"
     ]
    }
   ],
   "source": [
    "!qiime taxa collapse \\\n",
    " --i-table $otu_table_fp \\\n",
    " --i-taxonomy $otu_taxonomy_fp \\\n",
    " --p-level 7 \\\n",
    " --o-collapsed-table $otu_species_fp"
   ]
  },
  {
   "cell_type": "markdown",
   "id": "8e662595-a9e3-408c-b7d5-3f1ef4f08995",
   "metadata": {},
   "source": [
    "## Summed ASVs\n",
    "\n",
    "For this, we will train a full lenght naive baysian classifier and throw everything in the mix."
   ]
  },
  {
   "cell_type": "code",
   "execution_count": 34,
   "id": "3895c975-e465-403b-8203-7c586144efed",
   "metadata": {},
   "outputs": [],
   "source": [
    "smash_dir = f'{output_dir}/2.reconstruction/4.merged-asvs-smash'\n",
    "os.makedirs(smash_dir, exist_ok=True)\n",
    "\n",
    "smash_classifier_fp = f'{smash_dir}/optivag-feature-classifier.qza'\n",
    "smash_taxonomy_fp = f'{smash_dir}/taxonomy.qza'\n",
    "smash_table_fp = f'{smash_dir}/table.qza'\n",
    "smash_species_fp = f'{smash_dir}/species.qza'"
   ]
  },
  {
   "cell_type": "code",
   "execution_count": 35,
   "id": "08776274-995e-4c84-9f15-0a01575a6fc0",
   "metadata": {},
   "outputs": [
    {
     "name": "stdout",
     "output_type": "stream",
     "text": [
      "\u001b[32mSaved TaxonomicClassifier to: data/output/real_optivag//2.reconstruction/4.merged-asvs-smash/optivag-feature-classifier.qza\u001b[0m\n"
     ]
    }
   ],
   "source": [
    "!qiime feature-classifier fit-classifier-naive-bayes \\\n",
    " --i-reference-reads $optivag_seq_fp \\\n",
    " --i-reference-taxonomy $optivag_tax_fp \\\n",
    " --o-classifier $smash_classifier_fp"
   ]
  },
  {
   "cell_type": "code",
   "execution_count": 36,
   "id": "671f5b39-6d3a-40fe-8ce4-6d7410041b7d",
   "metadata": {},
   "outputs": [
    {
     "name": "stdout",
     "output_type": "stream",
     "text": [
      "\u001b[32mSaved FeatureData[Taxonomy] to: data/output/real_optivag//2.reconstruction/4.merged-asvs-smash/taxonomy.qza\u001b[0m\n",
      "\u001b[32mSaved FeatureTable[Frequency] to: data/output/real_optivag//2.reconstruction/4.merged-asvs-smash/table.qza\u001b[0m\n"
     ]
    }
   ],
   "source": [
    "!qiime feature-classifier classify-sklearn \\\n",
    " --i-reads $merged_seqs_fp \\\n",
    " --i-classifier $smash_classifier_fp \\\n",
    " --o-classification $smash_taxonomy_fp\n",
    "\n",
    "!qiime taxa filter-table \\\n",
    " --i-table $merged_table_fp \\\n",
    " --i-taxonomy $smash_taxonomy_fp \\\n",
    " --p-include ';f__' \\\n",
    " --o-filtered-table $smash_table_fp"
   ]
  },
  {
   "cell_type": "code",
   "execution_count": 37,
   "id": "da952e87-16f7-4084-a365-99168ae332b5",
   "metadata": {},
   "outputs": [
    {
     "name": "stdout",
     "output_type": "stream",
     "text": [
      "\u001b[32mSaved FeatureTable[Frequency] to: data/output/real_optivag//2.reconstruction/4.merged-asvs-smash/species.qza\u001b[0m\n"
     ]
    }
   ],
   "source": [
    "!qiime taxa collapse \\\n",
    " --i-table $smash_table_fp \\\n",
    " --i-taxonomy $smash_taxonomy_fp \\\n",
    " --p-level 7 \\\n",
    " --o-collapsed-table $smash_species_fp"
   ]
  },
  {
   "cell_type": "markdown",
   "id": "976cf3cc-4e4d-40f7-9a33-7806c7f60b7f",
   "metadata": {},
   "source": [
    "## Sidle"
   ]
  },
  {
   "cell_type": "markdown",
   "id": "8773dfe2-6412-471e-b119-a0e63297c333",
   "metadata": {},
   "source": [
    "I'm going to start a dask client for Sidle, since it uses dask for parallel processing"
   ]
  },
  {
   "cell_type": "code",
   "execution_count": null,
   "id": "9fb69c4a-5678-40a1-afde-7d03f2b406b8",
   "metadata": {},
   "outputs": [],
   "source": []
  },
  {
   "cell_type": "code",
   "execution_count": null,
   "id": "7e08c0fc-7be7-452b-a318-7847966ac08a",
   "metadata": {},
   "outputs": [],
   "source": [
    "client_address = str(client.scheduler.address)"
   ]
  },
  {
   "cell_type": "code",
   "execution_count": 51,
   "id": "e7914aeb-91ca-4228-a863-cf10925ea6f2",
   "metadata": {},
   "outputs": [],
   "source": [
    "sidle_dir = f'{output_dir}/2.reconstruction/5.sidle'\n",
    "os.makedirs(sidle_dir, exist_ok=True)\n",
    "\n",
    "# Regional filepaths\n",
    "v13_region_dir = f'{sidle_dir}/v13-prep'\n",
    "v34_region_dir = f'{sidle_dir}/v34-prep'\n",
    "os.makedirs(v13_region_dir, exist_ok=True)\n",
    "os.makedirs(v34_region_dir, exist_ok=True)\n"
   ]
  },
  {
   "cell_type": "markdown",
   "id": "6450e76b-4e7a-4d73-8323-30290051426b",
   "metadata": {},
   "source": [
    "### Prepare regional sequences\n",
    "\n",
    "We'll use the regions we trimmed for the feature classifieres for the individual regions here"
   ]
  },
  {
   "cell_type": "code",
   "execution_count": 232,
   "id": "fbc2cc5c-ba84-467c-aeff-37b4d133528a",
   "metadata": {},
   "outputs": [
    {
     "name": "stdout",
     "output_type": "stream",
     "text": [
      "\u001b[33mQIIME is caching your current deployment for improved performance. This may take a few moments and should only happen once per deployment.\u001b[0m\n",
      "\u001b[32mSaved FeatureData[Sequence] to: data/output/real_optivag//2.reconstruction/5.sidle/v13-prep/collapsed-kmers.qza\u001b[0m\n",
      "\u001b[32mSaved FeatureData[KmerMap] to: data/output/real_optivag//2.reconstruction/5.sidle/v13-prep/kmer-map.qza\u001b[0m\n"
     ]
    }
   ],
   "source": [
    "!qiime dev refresh-cache\n",
    "\n",
    "!qiime sidle prepare-extracted-region \\\n",
    " --i-sequences $v13_ref_reads_fp \\\n",
    " --p-trim-length 275 \\\n",
    " --p-region v13 \\\n",
    " --p-fwd-primer 'AGAGTTTGATCCTGGCTCAG' \\\n",
    " --p-rev-primer 'ATTACCGCGGCTGCTGG' \\\n",
    " --p-client-address $client_address \\\n",
    " --o-collapsed-kmers $v13_region_dir/collapsed-kmers.qza \\\n",
    " --o-kmer-map $v13_region_dir/kmer-map.qza"
   ]
  },
  {
   "cell_type": "code",
   "execution_count": 233,
   "id": "e9b25c7b-4374-4dc2-816a-f4e0c99edf5f",
   "metadata": {},
   "outputs": [
    {
     "name": "stdout",
     "output_type": "stream",
     "text": [
      "\u001b[32mSaved FeatureData[Sequence] to: data/output/real_optivag//2.reconstruction/5.sidle/v34-prep/collapsed-kmers.qza\u001b[0m\n",
      "\u001b[32mSaved FeatureData[KmerMap] to: data/output/real_optivag//2.reconstruction/5.sidle/v34-prep/kmer-map.qza\u001b[0m\n"
     ]
    }
   ],
   "source": [
    "!qiime sidle prepare-extracted-region \\\n",
    " --i-sequences $v34_ref_reads_fp \\\n",
    " --p-region v34 \\\n",
    " --p-trim-length 400 \\\n",
    " --p-fwd-primer 'CCTACGGGNGGCWGCAG' \\\n",
    " --p-rev-primer 'GACTACHVGGGTATCTAATCC' \\\n",
    " --p-client-address $client_address \\\n",
    " --o-collapsed-kmers $v34_region_dir/collapsed-kmers.qza \\\n",
    " --o-kmer-map $v34_region_dir/kmer-map.qza"
   ]
  },
  {
   "cell_type": "markdown",
   "id": "141694c9-c97b-4144-933e-3b0d30ea9216",
   "metadata": {},
   "source": [
    "Before we can do alignment, we need ot trim the sequences."
   ]
  },
  {
   "cell_type": "code",
   "execution_count": 234,
   "id": "b1711ee0-f8be-4210-ab14-199990b09f89",
   "metadata": {},
   "outputs": [
    {
     "name": "stdout",
     "output_type": "stream",
     "text": [
      "\u001b[32mSaved FeatureTable[Frequency] to: data/output/real_optivag//2.reconstruction/5.sidle/v13-prep/table.qza\u001b[0m\n",
      "\u001b[32mSaved FeatureData[Sequence] to: data/output/real_optivag//2.reconstruction/5.sidle/v13-prep/rep-seqs.qza\u001b[0m\n"
     ]
    }
   ],
   "source": [
    "!qiime sidle trim-dada2-posthoc \\\n",
    " --i-table $v13_table_fp \\\n",
    " --i-representative-sequences $v13_repseq_fp \\\n",
    " --p-trim-length 275 \\\n",
    " --p-hashed-feature-ids \\\n",
    " --o-trimmed-table $v13_region_dir/table.qza \\\n",
    "  --o-trimmed-representative-sequences $v13_region_dir/rep-seqs.qza"
   ]
  },
  {
   "cell_type": "code",
   "execution_count": 235,
   "id": "dc3004f8-7e55-4bf4-b979-30faa7e04a3c",
   "metadata": {},
   "outputs": [
    {
     "name": "stdout",
     "output_type": "stream",
     "text": [
      "\u001b[32mSaved FeatureTable[Frequency] to: data/output/real_optivag//2.reconstruction/5.sidle/v34-prep/table.qza\u001b[0m\n",
      "\u001b[32mSaved FeatureData[Sequence] to: data/output/real_optivag//2.reconstruction/5.sidle/v34-prep/rep-seqs.qza\u001b[0m\n"
     ]
    }
   ],
   "source": [
    "!qiime sidle trim-dada2-posthoc \\\n",
    " --i-table $v34_table_fp \\\n",
    " --i-representative-sequences $v34_rep_seqs_fp \\\n",
    " --p-trim-length 400 \\\n",
    " --p-hashed-feature-ids \\\n",
    " --o-trimmed-table $v34_region_dir/table.qza \\\n",
    " --o-trimmed-representative-sequences $v34_region_dir/rep-seqs.qza"
   ]
  },
  {
   "cell_type": "markdown",
   "id": "bb874226-e361-4431-94ca-ed6ea6d54807",
   "metadata": {},
   "source": [
    "And then we'll do regional alignments."
   ]
  },
  {
   "cell_type": "code",
   "execution_count": 236,
   "id": "91c1eb3e-9e03-46da-8187-2ff620ea54c3",
   "metadata": {},
   "outputs": [
    {
     "name": "stdout",
     "output_type": "stream",
     "text": [
      "\u001b[32mSaved FeatureData[KmerAlignment] to: data/output/real_optivag//2.reconstruction/5.sidle/v13-prep/regional_alignment.qza\u001b[0m\n"
     ]
    }
   ],
   "source": [
    "!qiime sidle align-regional-kmers \\\n",
    " --i-kmers $v13_region_dir/collapsed-kmers.qza \\\n",
    " --i-rep-seq $v13_region_dir/rep-seqs.qza \\\n",
    " --p-region 'v13' \\\n",
    " --p-max-mismatch 3 \\\n",
    " --p-client-address $client_address \\\n",
    " --o-regional-alignment $v13_region_dir/regional_alignment.qza"
   ]
  },
  {
   "cell_type": "code",
   "execution_count": 237,
   "id": "276159a3-7daf-42b3-bc05-3374faa2b53e",
   "metadata": {},
   "outputs": [
    {
     "name": "stdout",
     "output_type": "stream",
     "text": [
      "\u001b[32mSaved FeatureData[KmerAlignment] to: data/output/real_optivag//2.reconstruction/5.sidle/v34-prep/regional_alignment.qza\u001b[0m\n"
     ]
    }
   ],
   "source": [
    "!qiime sidle align-regional-kmers \\\n",
    " --i-kmers $v34_region_dir/collapsed-kmers.qza \\\n",
    " --i-rep-seq $v34_region_dir/rep-seqs.qza \\\n",
    " --p-region 'v34' \\\n",
    " --p-max-mismatch 4 \\\n",
    " --p-client-address $client_address \\\n",
    " --o-regional-alignment $v34_region_dir/regional_alignment.qza"
   ]
  },
  {
   "cell_type": "markdown",
   "id": "2f140545-6cdc-4c08-9b0a-79137841e38d",
   "metadata": {},
   "source": [
    "For the sake of demonstration, I want to reconstruct the database, and then table and taxonomy seperately. So, we start by reconstructing the database."
   ]
  },
  {
   "cell_type": "code",
   "execution_count": 238,
   "id": "b6930183-59e4-4e26-9b65-473e4eb903d2",
   "metadata": {},
   "outputs": [
    {
     "name": "stdout",
     "output_type": "stream",
     "text": [
      "\u001b[32mSaved FeatureData[SidleReconstruction] to: data/output/real_optivag//2.reconstruction/5.sidle/database-map.qza\u001b[0m\n",
      "\u001b[32mSaved FeatureData[ReconstructionSummary] to: data/output/real_optivag//2.reconstruction/5.sidle/database-summary.qza\u001b[0m\n"
     ]
    }
   ],
   "source": [
    "!qiime sidle reconstruct-database \\\n",
    " --p-region v13 \\\n",
    " --i-regional-alignment $v13_region_dir/regional_alignment.qza \\\n",
    " --i-kmer-map $v13_region_dir/kmer-map.qza \\\n",
    " --p-region v34 \\\n",
    " --i-regional-alignment $v34_region_dir/regional_alignment.qza \\\n",
    " --i-kmer-map $v34_region_dir/kmer-map.qza \\\n",
    " --p-client-address $client_address \\\n",
    " --o-database-map $sidle_dir/database-map.qza \\\n",
    " --o-database-summary $sidle_dir/database-summary.qza"
   ]
  },
  {
   "cell_type": "code",
   "execution_count": 239,
   "id": "c3559dce-62a2-4bb8-b6f3-2cf1d71c1647",
   "metadata": {},
   "outputs": [
    {
     "name": "stdout",
     "output_type": "stream",
     "text": [
      "\u001b[32mSaved Visualization to: data/output/real_optivag//2.reconstruction/5.sidle/database-summary.qzv\u001b[0m\n"
     ]
    }
   ],
   "source": [
    "!qiime metadata tabulate \\\n",
    " --m-input-file $sidle_dir/database-summary.qza \\\n",
    " --o-visualization $sidle_dir/database-summary.qzv"
   ]
  },
  {
   "cell_type": "markdown",
   "id": "e7823187-43fc-489b-90cb-6180eb83e4fd",
   "metadata": {},
   "source": [
    "Then, we'll reconstruct the table."
   ]
  },
  {
   "cell_type": "code",
   "execution_count": 240,
   "id": "949b0057-4d73-47b0-b064-1a1602be5ecc",
   "metadata": {},
   "outputs": [
    {
     "name": "stdout",
     "output_type": "stream",
     "text": [
      "\u001b[33mQIIME is caching your current deployment for improved performance. This may take a few moments and should only happen once per deployment.\u001b[0m\n",
      "\u001b[32mSaved FeatureTable[Frequency] to: data/output/real_optivag//2.reconstruction/5.sidle/table.qza\u001b[0m\n"
     ]
    }
   ],
   "source": [
    "!qiime dev refresh-cache\n",
    "!qiime sidle reconstruct-counts \\\n",
    " --p-region v13 \\\n",
    " --i-regional-alignment $v13_region_dir/regional_alignment.qza \\\n",
    " --i-regional-table $v13_region_dir/table.qza \\\n",
    " --p-region v34 \\\n",
    " --i-regional-alignment $v34_region_dir/regional_alignment.qza \\\n",
    " --i-regional-table $v34_region_dir/table.qza \\\n",
    " --i-database-map $sidle_dir/database-map.qza \\\n",
    " --i-database-summary $sidle_dir/database-summary.qza \\\n",
    " --p-client-address $client_address \\\n",
    " --o-reconstructed-table $sidle_dir/table.qza"
   ]
  },
  {
   "cell_type": "code",
   "execution_count": 241,
   "id": "e3809c71-9fdb-45e2-af23-89fd0977bda3",
   "metadata": {},
   "outputs": [
    {
     "name": "stdout",
     "output_type": "stream",
     "text": [
      "\u001b[33mQIIME is caching your current deployment for improved performance. This may take a few moments and should only happen once per deployment.\u001b[0m\n",
      "\u001b[32mSaved FeatureData[Taxonomy] to: data/output/real_optivag//2.reconstruction/5.sidle/taxonomy.qza\u001b[0m\n"
     ]
    }
   ],
   "source": [
    "!qiime dev refresh-cache\n",
    "!qiime sidle reconstruct-taxonomy \\\n",
    " --i-reconstruction-map $sidle_dir/database-map.qza \\\n",
    " --i-taxonomy data/reference/optivag/optivag_v01_taxonomy.qza \\\n",
    " --p-database 'none' \\\n",
    " --o-reconstructed-taxonomy $sidle_dir/taxonomy.qza"
   ]
  },
  {
   "cell_type": "code",
   "execution_count": 242,
   "id": "6f961929-7119-4788-959f-9983cb7531ba",
   "metadata": {},
   "outputs": [
    {
     "name": "stdout",
     "output_type": "stream",
     "text": [
      "\u001b[32mSaved FeatureTable[Frequency] to: data/output/real_optivag//2.reconstruction/5.sidle/species.qza\u001b[0m\n"
     ]
    }
   ],
   "source": [
    "!qiime taxa collapse \\\n",
    " --i-table $sidle_dir/table.qza \\\n",
    " --i-taxonomy $sidle_dir/taxonomy.qza \\\n",
    " --p-level 7 \\\n",
    " --o-collapsed-table $sidle_dir/species.qza"
   ]
  },
  {
   "cell_type": "markdown",
   "id": "88ca6a3f-0e93-43ae-a92b-93cc65af5207",
   "metadata": {},
   "source": [
    "# Data Analysis\n",
    "\n",
    "## Read Accounting"
   ]
  },
  {
   "cell_type": "code",
   "execution_count": 39,
   "id": "c8b0280f-025a-495d-aa4a-b38fc8670449",
   "metadata": {},
   "outputs": [],
   "source": [
    "import itertools as it\n",
    "import biom \n",
    "\n",
    "from matplotlib import rcParams\n",
    "import matplotlib.colors as mplc\n",
    "from matplotlib.gridspec import GridSpec\n",
    "import matplotlib.pyplot as plt\n",
    "import numpy as np\n",
    "import pandas as pd\n",
    "import scipy\n",
    "import seaborn as sn\n",
    "import statsmodels.api as sms\n",
    "import statsmodels.formula.api as smf\n",
    "import skbio\n",
    "\n",
    "\n",
    "from qiime2 import Artifact, Metadata, MetadataColumn\n",
    "import qiime2.plugins.diversity.actions as q2_diversity\n",
    "import qiime2.plugins.emperor.visualizers as q2_emperor"
   ]
  },
  {
   "cell_type": "code",
   "execution_count": 40,
   "id": "83b532a1-3d06-42ee-8c1b-ead696b615bc",
   "metadata": {},
   "outputs": [],
   "source": [
    "rcParams['font.sans-serif'] = ['Helvetica', 'Arial']\n",
    "rcParams['pdf.fonttype'] = 42\n",
    "np.set_printoptions(precision=5, suppress=True)  # suppress scientific float notation\n",
    "%matplotlib inline"
   ]
  },
  {
   "cell_type": "code",
   "execution_count": null,
   "id": "2775d0b3-baf0-42f1-b753-7d42968f3c1b",
   "metadata": {},
   "outputs": [],
   "source": []
  },
  {
   "cell_type": "code",
   "execution_count": 41,
   "id": "47615198-6406-441d-84fa-e0bd2951a56d",
   "metadata": {},
   "outputs": [],
   "source": [
    "meta = Metadata.load(v13_manifest_fp)"
   ]
  },
  {
   "cell_type": "code",
   "execution_count": 42,
   "id": "7fd156fc-9ac0-485f-b700-1050f35bd966",
   "metadata": {},
   "outputs": [],
   "source": [
    "method_dir = f'{output_dir}/2.reconstruction'"
   ]
  },
  {
   "cell_type": "code",
   "execution_count": 43,
   "id": "f8c400fd-ee95-4cf0-815c-fe864ead5b9e",
   "metadata": {},
   "outputs": [],
   "source": [
    "methods = [dir_ for dir_ in os.listdir(method_dir)\n",
    "           if os.path.isdir(f'{method_dir}/{dir_}')\n",
    "          ]"
   ]
  },
  {
   "cell_type": "code",
   "execution_count": 44,
   "id": "813bcc46-2bd2-4dec-b42d-eec8b59b5d92",
   "metadata": {},
   "outputs": [],
   "source": [
    "species_tables = {\n",
    "    method: Artifact.load(f'{method_dir}/{method}/species.qza')\n",
    "    for method in methods\n",
    "}"
   ]
  },
  {
   "cell_type": "markdown",
   "id": "83332d6d-7e2c-40cd-aee9-408c26fc1c93",
   "metadata": {},
   "source": [
    "## Accounting\n",
    "\n",
    "I want to start by looking at how many sequences were retained by which techniques and where they went. For this, we'll start with the dada2 summaries and then work forward into the merged tables."
   ]
  },
  {
   "cell_type": "code",
   "execution_count": 45,
   "id": "a8ce6280-8b8e-41f2-bbda-69df840b90a1",
   "metadata": {},
   "outputs": [],
   "source": [
    "v13_dada2_summary = Artifact.load(v13_stats_fp).view(Metadata).to_dataframe()\n",
    "v34_dada2_summary = Artifact.load(v34_dada2_stats_fp).view(Metadata).to_dataframe()"
   ]
  },
  {
   "cell_type": "code",
   "execution_count": 46,
   "id": "6d77cb3a-c411-498b-9dc1-1617ff51e210",
   "metadata": {},
   "outputs": [],
   "source": [
    "v13_dada2_summary.drop(\n",
    "    columns=[c for c in v13_dada2_summary.columns if ('percent' in c)],\n",
    "    inplace=True\n",
    ")\n",
    "v34_dada2_summary.drop(\n",
    "    columns=[c for c in v34_dada2_summary.columns if ('percent' in c)],\n",
    "    inplace=True\n",
    ")"
   ]
  },
  {
   "cell_type": "markdown",
   "id": "260251e5-758c-4d2c-9494-108ec4a45c83",
   "metadata": {},
   "source": [
    "Because the v13 region isn't merged, we'll add a dummy column for the merger implying no reads were lost in merging."
   ]
  },
  {
   "cell_type": "code",
   "execution_count": 47,
   "id": "05e06011-4cbd-4844-951a-ed00f18a5c9c",
   "metadata": {},
   "outputs": [],
   "source": [
    "v13_dada2_summary['merged'] = v13_dada2_summary['denoised']"
   ]
  },
  {
   "cell_type": "markdown",
   "id": "ab4907d8-7a51-4bd8-a58d-656dab533759",
   "metadata": {},
   "source": [
    "And then, we can get a pooled result."
   ]
  },
  {
   "cell_type": "code",
   "execution_count": 55,
   "id": "9335febd-b7b9-4cc9-bafc-83c4062ea86d",
   "metadata": {},
   "outputs": [],
   "source": [
    "pooled = v13_dada2_summary + v34_dada2_summary"
   ]
  },
  {
   "cell_type": "markdown",
   "id": "a5496d62-abb7-4704-8e69-e13a6edbe1df",
   "metadata": {},
   "source": [
    "For each method, I want to know how many sequences were retained total, and as a portion of the original counts, and as a proportion of the reads passed to the method (non-chimeric counts).\n",
    "\n",
    "We have to prepare the data for Sidle, since it returns an averaged, weighted relative abundance. So, for Sidle, we'll calculate the portion of input reads aligned to the reference database."
   ]
  },
  {
   "cell_type": "code",
   "execution_count": 56,
   "id": "bb791fdc-4dc5-4b72-929e-40d9676fe0cb",
   "metadata": {},
   "outputs": [],
   "source": [
    "v13_asv_table = Artifact.load(f'{sidle_dir}/v13-prep/table.qza').view(pd.DataFrame)\n",
    "v13_alignment = Artifact.load(f'{sidle_dir}/v13-prep/regional_alignment.qza').view(pd.DataFrame)\n",
    "v13_aligned_asvs = v13_alignment['asv'].unique()\n",
    "v13_aligned_counts = v13_asv_table[v13_aligned_asvs].sum(axis=1)\n",
    "\n",
    "v34_asv_table = Artifact.load(f'{sidle_dir}/v34-prep/table.qza').view(pd.DataFrame)\n",
    "v34_alignment = Artifact.load(f'{sidle_dir}/v34-prep/regional_alignment.qza').view(pd.DataFrame)\n",
    "v34_aligned_asvs = v34_alignment['asv'].unique()\n",
    "v34_aligned_counts = v34_asv_table[v34_aligned_asvs].sum(axis=1)\n",
    "\n",
    "total_aligned_counts = v13_aligned_counts + v34_aligned_counts"
   ]
  },
  {
   "cell_type": "code",
   "execution_count": 99,
   "id": "800148c0-e68b-42e2-a6e2-64a5d9ca0514",
   "metadata": {},
   "outputs": [],
   "source": [
    "columns = ['total_reads', 'proportion_original', 'proportion_input', 'method']\n",
    "total_counts = pd.concat(axis=0, objs=[\n",
    "    pd.DataFrame(\n",
    "        data=[species_tables['1.v13-only'].view(pd.DataFrame).sum(axis=1),\n",
    "              species_tables['1.v13-only'].view(pd.DataFrame).sum(axis=1) / v13_dada2_summary['input'],\n",
    "              species_tables['1.v13-only'].view(pd.DataFrame).sum(axis=1) / v13_dada2_summary['merged'],\n",
    "              pd.Series(['1.v13-only'] * len(v13_dada2_summary), index=v13_dada2_summary.index),\n",
    "             ],\n",
    "        index=columns,\n",
    "    ).T,\n",
    "     pd.DataFrame(\n",
    "        data=[species_tables['2.v34-only'].view(pd.DataFrame).sum(axis=1),\n",
    "              species_tables['2.v34-only'].view(pd.DataFrame).sum(axis=1) / v34_dada2_summary['input'],\n",
    "              species_tables['2.v34-only'].view(pd.DataFrame).sum(axis=1) / v34_dada2_summary['merged'],\n",
    "              pd.Series(['2.v34-only'] * len(v13_dada2_summary), index=v34_dada2_summary.index),\n",
    "             ],\n",
    "        index=columns,\n",
    "    ).T,\n",
    "    pd.DataFrame(\n",
    "        data=[species_tables['3.otu-clustering'].view(pd.DataFrame).sum(axis=1),\n",
    "              species_tables['3.otu-clustering'].view(pd.DataFrame).sum(axis=1) / pooled['input'],\n",
    "              species_tables['3.otu-clustering'].view(pd.DataFrame).sum(axis=1) / pooled['merged'],\n",
    "              pd.Series(['4.OTUs'] * len(pooled), index=pooled.index),\n",
    "             ],\n",
    "        index=columns,\n",
    "    ).T,\n",
    "    pd.DataFrame(\n",
    "        data=[species_tables['4.merged-asvs-smash'].view(pd.DataFrame).sum(axis=1),\n",
    "              species_tables['4.merged-asvs-smash'].view(pd.DataFrame).sum(axis=1) / pooled['input'],\n",
    "              species_tables['4.merged-asvs-smash'].view(pd.DataFrame).sum(axis=1) / pooled['merged'],\n",
    "              pd.Series(['3.ASV-sum'] * len(pooled), index=pooled.index),\n",
    "             ],\n",
    "        index=columns,\n",
    "    ).T,\n",
    "    pd.DataFrame(\n",
    "        data=[total_aligned_counts,\n",
    "              total_aligned_counts / pooled['input'],\n",
    "              total_aligned_counts / pooled['merged'],\n",
    "              pd.Series(['5.Sidle'] * len(pooled), index=pooled.index),\n",
    "             ],\n",
    "        index=columns,\n",
    "    ).T,\n",
    "])\n",
    "total_counts['subject'] = total_counts.index.to_frame()[0].apply(lambda x: x.split(\"_\")[0])\n",
    "total_counts.index.set_names('sample-id', inplace=True)"
   ]
  },
  {
   "cell_type": "code",
   "execution_count": 100,
   "id": "a576ae4d-ffe5-4c98-b5c4-18f546e8a347",
   "metadata": {},
   "outputs": [],
   "source": [
    "total_counts[['total_reads', 'proportion_original', 'proportion_input']] = \\\n",
    "    total_counts[['total_reads', 'proportion_original', 'proportion_input']].astype(float)"
   ]
  },
  {
   "cell_type": "code",
   "execution_count": 101,
   "id": "511d2ae5-532f-46ef-83b2-5fd2350327d8",
   "metadata": {},
   "outputs": [
    {
     "data": {
      "text/html": [
       "<div>\n",
       "<style scoped>\n",
       "    .dataframe tbody tr th:only-of-type {\n",
       "        vertical-align: middle;\n",
       "    }\n",
       "\n",
       "    .dataframe tbody tr th {\n",
       "        vertical-align: top;\n",
       "    }\n",
       "\n",
       "    .dataframe thead th {\n",
       "        text-align: right;\n",
       "    }\n",
       "</style>\n",
       "<table border=\"1\" class=\"dataframe\">\n",
       "  <thead>\n",
       "    <tr style=\"text-align: right;\">\n",
       "      <th></th>\n",
       "      <th>total_reads</th>\n",
       "      <th>proportion_original</th>\n",
       "      <th>proportion_input</th>\n",
       "    </tr>\n",
       "    <tr>\n",
       "      <th>method</th>\n",
       "      <th></th>\n",
       "      <th></th>\n",
       "      <th></th>\n",
       "    </tr>\n",
       "  </thead>\n",
       "  <tbody>\n",
       "    <tr>\n",
       "      <th>1.v13-only</th>\n",
       "      <td>44112.250000</td>\n",
       "      <td>0.756864</td>\n",
       "      <td>0.873546</td>\n",
       "    </tr>\n",
       "    <tr>\n",
       "      <th>2.v34-only</th>\n",
       "      <td>43343.458333</td>\n",
       "      <td>0.589381</td>\n",
       "      <td>0.829174</td>\n",
       "    </tr>\n",
       "    <tr>\n",
       "      <th>3.ASV-sum</th>\n",
       "      <td>86790.291667</td>\n",
       "      <td>0.655264</td>\n",
       "      <td>0.842545</td>\n",
       "    </tr>\n",
       "    <tr>\n",
       "      <th>4.OTUs</th>\n",
       "      <td>63967.208333</td>\n",
       "      <td>0.478203</td>\n",
       "      <td>0.611322</td>\n",
       "    </tr>\n",
       "    <tr>\n",
       "      <th>5.Sidle</th>\n",
       "      <td>46464.166667</td>\n",
       "      <td>0.345051</td>\n",
       "      <td>0.437430</td>\n",
       "    </tr>\n",
       "  </tbody>\n",
       "</table>\n",
       "</div>"
      ],
      "text/plain": [
       "             total_reads  proportion_original  proportion_input\n",
       "method                                                         \n",
       "1.v13-only  44112.250000             0.756864          0.873546\n",
       "2.v34-only  43343.458333             0.589381          0.829174\n",
       "3.ASV-sum   86790.291667             0.655264          0.842545\n",
       "4.OTUs      63967.208333             0.478203          0.611322\n",
       "5.Sidle     46464.166667             0.345051          0.437430"
      ]
     },
     "execution_count": 101,
     "metadata": {},
     "output_type": "execute_result"
    }
   ],
   "source": [
    "total_counts.groupby('method').mean()"
   ]
  },
  {
   "cell_type": "code",
   "execution_count": 102,
   "id": "25dd0c4e-d2e1-4c95-ac38-b0351e2b1f96",
   "metadata": {},
   "outputs": [
    {
     "name": "stdout",
     "output_type": "stream",
     "text": [
      "             Mixed Linear Model Regression Results\n",
      "================================================================\n",
      "Model:              MixedLM Dependent Variable: proportion_input\n",
      "No. Observations:   120     Method:             REML            \n",
      "No. Groups:         8       Scale:              0.0102          \n",
      "Min. group size:    15      Log-Likelihood:     80.0926         \n",
      "Max. group size:    15      Converged:          Yes             \n",
      "Mean group size:    15.0                                        \n",
      "----------------------------------------------------------------\n",
      "                     Coef.  Std.Err.    z    P>|z| [0.025 0.975]\n",
      "----------------------------------------------------------------\n",
      "Intercept             0.874    0.056  15.689 0.000  0.764  0.983\n",
      "method[T.2.v34-only] -0.044    0.029  -1.518 0.129 -0.102  0.013\n",
      "method[T.3.ASV-sum]  -0.031    0.029  -1.061 0.289 -0.088  0.026\n",
      "method[T.4.OTUs]     -0.262    0.029  -8.972 0.000 -0.320 -0.205\n",
      "method[T.5.Sidle]    -0.436    0.029 -14.922 0.000 -0.493 -0.379\n",
      "Group Var             0.021    0.120                            \n",
      "================================================================\n",
      "\n"
     ]
    }
   ],
   "source": [
    "count_fit = smf.mixedlm('proportion_input ~ method', data=total_counts, groups=total_counts['subject']).fit()\n",
    "print(count_fit.summary())"
   ]
  },
  {
   "cell_type": "code",
   "execution_count": 59,
   "id": "5e4d8eb2-b231-4948-a22f-9c95f2221ddf",
   "metadata": {},
   "outputs": [
    {
     "data": {
      "image/png": "[encoded data removed]",
      "text/plain": [
       "<Figure size 432x288 with 1 Axes>"
      ]
     },
     "metadata": {
      "needs_background": "light"
     },
     "output_type": "display_data"
    }
   ],
   "source": [
    "ax = plt.axes()\n",
    "sn.stripplot(\n",
    "    x='method',\n",
    "    y='proportion input',\n",
    "    hue='subject',\n",
    "    data=total_counts.sort_values(['method']),\n",
    "    palette='Dark2',\n",
    "    jitter=True,\n",
    "    alpha=0.75,\n",
    ")\n",
    "ax.legend_.set_visible(False)\n",
    "ax.legend(ncol=2, title='Subject')\n",
    "ax.plot(\n",
    "    np.vstack([np.arange(0, 5) + i for i in [-0.2, 0.2]]),\n",
    "    np.vstack([total_counts.groupby('method').mean()['proportion input']] * 2),\n",
    "    'k-',\n",
    "    linewidth=3,\n",
    "    zorder=0,\n",
    ")\n",
    "ax.errorbar(\n",
    "    x=np.arange(0, 5),\n",
    "    y=total_counts.groupby('method').mean()['proportion input'],\n",
    "    yerr=total_counts.groupby('method').std()['proportion input'],\n",
    "    linestyle='',\n",
    "    capsize=8,\n",
    "    color='k',\n",
    "    linewidth=1.5,\n",
    ")\n",
    "ax.set_ylabel('Proportion of input reads retained')\n",
    "ax.set_xticklabels([x._text.split('.')[1] for x in ax.get_xticklabels()])\n",
    "ax.set_xlabel('')\n",
    "ax.xaxis.set_tick_params(bottom=False)"
   ]
  },
  {
   "cell_type": "markdown",
   "id": "cc3c4de6-7db8-424c-86e7-e1d170f3b76d",
   "metadata": {},
   "source": [
    "## Species level resolution\n",
    "\n",
    "A second question is which methods provide the best species level resolution. We can't test OTUs, since these inheriet their taxonomy directly from the database. \n",
    "\n",
    "For the three ASV-based methods, we'll look for empty strings in the taxonomic labels."
   ]
  },
  {
   "cell_type": "code",
   "execution_count": 60,
   "id": "e9a91585-157f-483c-baf5-2ec3799f3a5b",
   "metadata": {},
   "outputs": [],
   "source": [
    "feature_tables_q2 = {\n",
    "    method: {'table': Artifact.load(f'{method_dir}/{method}/table.qza'),\n",
    "             'taxa': Artifact.load(f'{method_dir}/{method}/taxonomy.qza'),\n",
    "             }\n",
    "    for method in methods\n",
    "}"
   ]
  },
  {
   "cell_type": "code",
   "execution_count": 66,
   "id": "f39cbec0-f0b7-4c52-90b4-e866b6fcae32",
   "metadata": {},
   "outputs": [],
   "source": [
    "feature_table_taxa = {\n",
    "    method: arts['taxa'].view(pd.Series)[list(arts['table'].view(biom.Table).ids('observation'))]\n",
    "    for method, arts in feature_tables_q2.items()\n",
    "}\n",
    "asv_table_taxa = {\n",
    "    method: taxa.apply(lambda x: pd.Series(list(x.split(';'))))\n",
    "    for method, taxa in feature_table_taxa.items()\n",
    "    if method in { '1.v13-only', '4.merged-asvs-smash', '2.v34-only'}\n",
    "}"
   ]
  },
  {
   "cell_type": "code",
   "execution_count": 73,
   "id": "8647282d-28e9-45de-a106-01a8d1fefec3",
   "metadata": {},
   "outputs": [
    {
     "data": {
      "text/html": [
       "<div>\n",
       "<style scoped>\n",
       "    .dataframe tbody tr th:only-of-type {\n",
       "        vertical-align: middle;\n",
       "    }\n",
       "\n",
       "    .dataframe tbody tr th {\n",
       "        vertical-align: top;\n",
       "    }\n",
       "\n",
       "    .dataframe thead th {\n",
       "        text-align: right;\n",
       "    }\n",
       "</style>\n",
       "<table border=\"1\" class=\"dataframe\">\n",
       "  <thead>\n",
       "    <tr style=\"text-align: right;\">\n",
       "      <th></th>\n",
       "      <th>1.v13-only</th>\n",
       "      <th>4.merged-asvs-smash</th>\n",
       "      <th>2.v34-only</th>\n",
       "    </tr>\n",
       "  </thead>\n",
       "  <tbody>\n",
       "    <tr>\n",
       "      <th>0</th>\n",
       "      <td>0</td>\n",
       "      <td>0</td>\n",
       "      <td>0</td>\n",
       "    </tr>\n",
       "    <tr>\n",
       "      <th>1</th>\n",
       "      <td>0</td>\n",
       "      <td>0</td>\n",
       "      <td>0</td>\n",
       "    </tr>\n",
       "    <tr>\n",
       "      <th>2</th>\n",
       "      <td>0</td>\n",
       "      <td>0</td>\n",
       "      <td>0</td>\n",
       "    </tr>\n",
       "    <tr>\n",
       "      <th>3</th>\n",
       "      <td>0</td>\n",
       "      <td>0</td>\n",
       "      <td>0</td>\n",
       "    </tr>\n",
       "    <tr>\n",
       "      <th>4</th>\n",
       "      <td>0</td>\n",
       "      <td>0</td>\n",
       "      <td>0</td>\n",
       "    </tr>\n",
       "    <tr>\n",
       "      <th>5</th>\n",
       "      <td>16</td>\n",
       "      <td>30</td>\n",
       "      <td>8</td>\n",
       "    </tr>\n",
       "    <tr>\n",
       "      <th>6</th>\n",
       "      <td>120</td>\n",
       "      <td>212</td>\n",
       "      <td>84</td>\n",
       "    </tr>\n",
       "  </tbody>\n",
       "</table>\n",
       "</div>"
      ],
      "text/plain": [
       "   1.v13-only  4.merged-asvs-smash  2.v34-only\n",
       "0           0                    0           0\n",
       "1           0                    0           0\n",
       "2           0                    0           0\n",
       "3           0                    0           0\n",
       "4           0                    0           0\n",
       "5          16                   30           8\n",
       "6         120                  212          84"
      ]
     },
     "execution_count": 73,
     "metadata": {},
     "output_type": "execute_result"
    }
   ],
   "source": [
    "num_undefined = pd.DataFrame({method: taxa.isna().sum(axis=0) \n",
    "                              for method, taxa in asv_table_taxa.items()})\n",
    "num_undefined"
   ]
  },
  {
   "cell_type": "code",
   "execution_count": 77,
   "id": "92d5a35b-cb2f-4a3f-bd25-73d78ad7df58",
   "metadata": {},
   "outputs": [
    {
     "data": {
      "text/html": [
       "<div>\n",
       "<style scoped>\n",
       "    .dataframe tbody tr th:only-of-type {\n",
       "        vertical-align: middle;\n",
       "    }\n",
       "\n",
       "    .dataframe tbody tr th {\n",
       "        vertical-align: top;\n",
       "    }\n",
       "\n",
       "    .dataframe thead th {\n",
       "        text-align: right;\n",
       "    }\n",
       "</style>\n",
       "<table border=\"1\" class=\"dataframe\">\n",
       "  <thead>\n",
       "    <tr style=\"text-align: right;\">\n",
       "      <th></th>\n",
       "      <th>1.v13-only</th>\n",
       "      <th>4.merged-asvs-smash</th>\n",
       "      <th>2.v34-only</th>\n",
       "    </tr>\n",
       "  </thead>\n",
       "  <tbody>\n",
       "    <tr>\n",
       "      <th>0</th>\n",
       "      <td>0.000</td>\n",
       "      <td>0.000</td>\n",
       "      <td>0.000</td>\n",
       "    </tr>\n",
       "    <tr>\n",
       "      <th>1</th>\n",
       "      <td>0.000</td>\n",
       "      <td>0.000</td>\n",
       "      <td>0.000</td>\n",
       "    </tr>\n",
       "    <tr>\n",
       "      <th>2</th>\n",
       "      <td>0.000</td>\n",
       "      <td>0.000</td>\n",
       "      <td>0.000</td>\n",
       "    </tr>\n",
       "    <tr>\n",
       "      <th>3</th>\n",
       "      <td>0.000</td>\n",
       "      <td>0.000</td>\n",
       "      <td>0.000</td>\n",
       "    </tr>\n",
       "    <tr>\n",
       "      <th>4</th>\n",
       "      <td>0.000</td>\n",
       "      <td>0.000</td>\n",
       "      <td>0.000</td>\n",
       "    </tr>\n",
       "    <tr>\n",
       "      <th>5</th>\n",
       "      <td>0.028</td>\n",
       "      <td>0.031</td>\n",
       "      <td>0.024</td>\n",
       "    </tr>\n",
       "    <tr>\n",
       "      <th>6</th>\n",
       "      <td>0.207</td>\n",
       "      <td>0.218</td>\n",
       "      <td>0.247</td>\n",
       "    </tr>\n",
       "  </tbody>\n",
       "</table>\n",
       "</div>"
      ],
      "text/plain": [
       "   1.v13-only  4.merged-asvs-smash  2.v34-only\n",
       "0       0.000                0.000       0.000\n",
       "1       0.000                0.000       0.000\n",
       "2       0.000                0.000       0.000\n",
       "3       0.000                0.000       0.000\n",
       "4       0.000                0.000       0.000\n",
       "5       0.028                0.031       0.024\n",
       "6       0.207                0.218       0.247"
      ]
     },
     "execution_count": 77,
     "metadata": {},
     "output_type": "execute_result"
    }
   ],
   "source": [
    "perc_undefined =  pd.DataFrame({method: taxa.isna().mean(axis=0) \n",
    "                              for method, taxa in asv_table_taxa.items()})\n",
    "perc_undefined.round(3)"
   ]
  },
  {
   "cell_type": "code",
   "execution_count": 81,
   "id": "e5d455ca-b5c4-46fe-a933-2071560bb5b0",
   "metadata": {},
   "outputs": [
    {
     "data": {
      "text/html": [
       "<div>\n",
       "<style scoped>\n",
       "    .dataframe tbody tr th:only-of-type {\n",
       "        vertical-align: middle;\n",
       "    }\n",
       "\n",
       "    .dataframe tbody tr th {\n",
       "        vertical-align: top;\n",
       "    }\n",
       "\n",
       "    .dataframe thead th {\n",
       "        text-align: right;\n",
       "    }\n",
       "</style>\n",
       "<table border=\"1\" class=\"dataframe\">\n",
       "  <thead>\n",
       "    <tr style=\"text-align: right;\">\n",
       "      <th></th>\n",
       "      <th>1.v13-only</th>\n",
       "      <th>4.merged-asvs-smash</th>\n",
       "      <th>2.v34-only</th>\n",
       "    </tr>\n",
       "  </thead>\n",
       "  <tbody>\n",
       "    <tr>\n",
       "      <th>5</th>\n",
       "      <td>0</td>\n",
       "      <td>1</td>\n",
       "      <td>0</td>\n",
       "    </tr>\n",
       "    <tr>\n",
       "      <th>6</th>\n",
       "      <td>7</td>\n",
       "      <td>56</td>\n",
       "      <td>25</td>\n",
       "    </tr>\n",
       "  </tbody>\n",
       "</table>\n",
       "</div>"
      ],
      "text/plain": [
       "   1.v13-only  4.merged-asvs-smash  2.v34-only\n",
       "5           0                    1           0\n",
       "6           7                   56          25"
      ]
     },
     "execution_count": 81,
     "metadata": {},
     "output_type": "execute_result"
    }
   ],
   "source": [
    "lacto_num_undefined = pd.DataFrame({\n",
    "    method: taxa.loc[taxa[4].isin(['f__Lactobacillaceae'])].isna().sum(axis=0)[[5, 6]]\n",
    "    for method, taxa in asv_table_taxa.items()})\n",
    "lacto_num_undefined"
   ]
  },
  {
   "cell_type": "code",
   "execution_count": 83,
   "id": "3cb52aa1-d4fa-471d-9fff-0fef0ec3a115",
   "metadata": {},
   "outputs": [
    {
     "data": {
      "text/html": [
       "<div>\n",
       "<style scoped>\n",
       "    .dataframe tbody tr th:only-of-type {\n",
       "        vertical-align: middle;\n",
       "    }\n",
       "\n",
       "    .dataframe tbody tr th {\n",
       "        vertical-align: top;\n",
       "    }\n",
       "\n",
       "    .dataframe thead th {\n",
       "        text-align: right;\n",
       "    }\n",
       "</style>\n",
       "<table border=\"1\" class=\"dataframe\">\n",
       "  <thead>\n",
       "    <tr style=\"text-align: right;\">\n",
       "      <th></th>\n",
       "      <th>1.v13-only</th>\n",
       "      <th>4.merged-asvs-smash</th>\n",
       "      <th>2.v34-only</th>\n",
       "    </tr>\n",
       "  </thead>\n",
       "  <tbody>\n",
       "    <tr>\n",
       "      <th>5</th>\n",
       "      <td>0.000</td>\n",
       "      <td>0.006</td>\n",
       "      <td>0.00</td>\n",
       "    </tr>\n",
       "    <tr>\n",
       "      <th>6</th>\n",
       "      <td>0.067</td>\n",
       "      <td>0.326</td>\n",
       "      <td>0.51</td>\n",
       "    </tr>\n",
       "  </tbody>\n",
       "</table>\n",
       "</div>"
      ],
      "text/plain": [
       "   1.v13-only  4.merged-asvs-smash  2.v34-only\n",
       "5       0.000                0.006        0.00\n",
       "6       0.067                0.326        0.51"
      ]
     },
     "execution_count": 83,
     "metadata": {},
     "output_type": "execute_result"
    }
   ],
   "source": [
    "lacto_perc_undefined = pd.DataFrame({\n",
    "    method: taxa.loc[taxa[4].isin(['f__Lactobacillaceae'])].isna().mean(axis=0)[[5, 6]]\n",
    "    for method, taxa in asv_table_taxa.items()})\n",
    "lacto_perc_undefined.round(3)"
   ]
  },
  {
   "cell_type": "code",
   "execution_count": 90,
   "id": "4c4d6a4b-1570-44d2-91b0-ddb4a9130e83",
   "metadata": {},
   "outputs": [
    {
     "data": {
      "text/plain": [
       "Feature ID\n",
       "rRNA_AY485603.1_1-1468_DIR+|rRNA_GU045378.1_2-1475_DIR+    k__Bacteria;p__Firmicutes;c__Bacilli;o__Lactob...\n",
       "Name: Taxon, dtype: object"
      ]
     },
     "execution_count": 90,
     "metadata": {},
     "output_type": "execute_result"
    }
   ],
   "source": [
    "unresolved = feature_table_taxa['5.sidle'].copy().apply(lambda x: '|' in x)\n",
    "feature_table_taxa['5.sidle'].loc[unresolved]"
   ]
  },
  {
   "cell_type": "code",
   "execution_count": 91,
   "id": "ae024fe1-2e3f-40c9-91a5-035cb27a835e",
   "metadata": {},
   "outputs": [
    {
     "data": {
      "text/plain": [
       "array(['k__Bacteria;p__Firmicutes;c__Bacilli;o__Lactobacillales;f__Lactobacillaceae;g__Streptococcus;s__Streptococcus_infantis|s__Streptococcus_oralis'],\n",
       "      dtype=object)"
      ]
     },
     "execution_count": 91,
     "metadata": {},
     "output_type": "execute_result"
    }
   ],
   "source": [
    "feature_table_taxa['5.sidle'].loc[unresolved].values"
   ]
  },
  {
   "cell_type": "code",
   "execution_count": 92,
   "id": "9ac1b11b-7546-45aa-830d-49ffc03abad9",
   "metadata": {},
   "outputs": [
    {
     "data": {
      "text/plain": [
       "1"
      ]
     },
     "execution_count": 92,
     "metadata": {},
     "output_type": "execute_result"
    }
   ],
   "source": [
    "unresolved.sum()"
   ]
  },
  {
   "cell_type": "code",
   "execution_count": 93,
   "id": "33e19dc4-289c-4464-b4e3-ed02ec4ce81b",
   "metadata": {},
   "outputs": [
    {
     "data": {
      "text/plain": [
       "0.012048192771084338"
      ]
     },
     "execution_count": 93,
     "metadata": {},
     "output_type": "execute_result"
    }
   ],
   "source": [
    "unresolved.mean()"
   ]
  },
  {
   "cell_type": "markdown",
   "id": "102c3328-61c0-4817-badc-fcc37a62d779",
   "metadata": {},
   "source": [
    "## Within sample variability"
   ]
  },
  {
   "cell_type": "code",
   "execution_count": null,
   "id": "6a57e33d-5da5-4e04-bde3-9db334a993a0",
   "metadata": {},
   "outputs": [],
   "source": []
  }
 ],
 "metadata": {
  "kernelspec": {
   "display_name": "Python 3",
   "language": "python",
   "name": "python3"
  },
  "language_info": {
   "codemirror_mode": {
    "name": "ipython",
    "version": 3
   },
   "file_extension": ".py",
   "mimetype": "text/x-python",
   "name": "python",
   "nbconvert_exporter": "python",
   "pygments_lexer": "ipython3",
   "version": "3.8.10"
  }
 },
 "nbformat": 4,
 "nbformat_minor": 5
}

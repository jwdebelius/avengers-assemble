{
 "cells": [
  {
   "cell_type": "code",
   "execution_count": 1,
   "metadata": {},
   "outputs": [],
   "source": [
    "import itertools as it\n",
    "import os\n",
    "\n",
    "import biom\n",
    "from matplotlib import rcParams\n",
    "import matplotlib.colors as mplc\n",
    "from matplotlib.gridspec import GridSpec\n",
    "import matplotlib.pyplot as plt\n",
    "import numpy as np\n",
    "import pandas as pd\n",
    "import scipy\n",
    "from scipy.stats import ttest_rel, ttest_1samp\n",
    "import seaborn as sn\n",
    "import statsmodels.formula.api as smf\n",
    "import statsmodels.api as sms\n",
    "import skbio\n",
    "\n",
    "from qiime2 import Artifact, Metadata, MetadataColumn\n",
    "import qiime2.plugins.diversity.actions as q2_diversity"
   ]
  },
  {
   "cell_type": "code",
   "execution_count": 2,
   "metadata": {},
   "outputs": [],
   "source": [
    "rcParams['font.sans-serif'] = ['Helvetica', 'Arial']\n",
    "rcParams['pdf.fonttype'] = 42\n",
    "np.set_printoptions(precision=5, suppress=True)  # suppress scientific float notation"
   ]
  },
  {
   "cell_type": "code",
   "execution_count": 3,
   "metadata": {},
   "outputs": [],
   "source": [
    "%matplotlib inline"
   ]
  },
  {
   "cell_type": "code",
   "execution_count": 4,
   "metadata": {},
   "outputs": [],
   "source": [
    "methods = [\n",
    "    'reference',\n",
    "    'otus',\n",
    "    'asvs',\n",
    "    'sidle',\n",
    "    ]"
   ]
  },
  {
   "cell_type": "code",
   "execution_count": 5,
   "metadata": {},
   "outputs": [],
   "source": [
    "meta = pd.read_csv('data/output/simulation/samples/metadata.tsv', sep='\\t', dtype=str)\n",
    "meta.set_index('sample-id', inplace=True)\n",
    "meta = meta.loc[meta['set'] == '1']\n",
    "# meta['color'] = meta['composite'].replace({'infant-1': '#1f78b4', \n",
    "#                                            'infant-2': '#a6cee3', \n",
    "#                                            'adult-1': '#e31a1c', \n",
    "#                                            'adult-2': '#fb9a99'})"
   ]
  },
  {
   "cell_type": "code",
   "execution_count": 6,
   "metadata": {},
   "outputs": [
    {
     "data": {
      "text/plain": [
       "(60, 3)"
      ]
     },
     "execution_count": 6,
     "metadata": {},
     "output_type": "execute_result"
    }
   ],
   "source": [
    "meta.shape"
   ]
  },
  {
   "cell_type": "code",
   "execution_count": 7,
   "metadata": {},
   "outputs": [],
   "source": [
    "tables = {\n",
    "    method: {\n",
    "        artifact: Artifact.load(f'data/output/simulation/merged/{method}/{artifact}.qza')\n",
    "        for artifact in ['table', 'taxonomy']\n",
    "    }\n",
    "    for method in methods\n",
    "}"
   ]
  },
  {
   "cell_type": "code",
   "execution_count": 8,
   "metadata": {},
   "outputs": [],
   "source": [
    "def tidy_silva_levels(s):\n",
    "    for i, level in enumerate(['k', 'p', 'c', 'o', 'f', 'g', 's']):\n",
    "        s = s.replace(f\"D_{i}\", level)\n",
    "    return s"
   ]
  },
  {
   "cell_type": "code",
   "execution_count": 9,
   "metadata": {},
   "outputs": [],
   "source": [
    "def assemble_taxonomy(method):\n",
    "    print(method)\n",
    "    table = tables[method]['table'].view(biom.Table).filter(meta.index)\n",
    "    taxa = tables[method]['taxonomy'].view(pd.Series)\n",
    "    taxa = taxa.loc[table.ids(axis='observation')]\n",
    "    \n",
    "    if method == 'reference':\n",
    "        taxa = taxa.apply(lambda x: pd.Series(x.replace(\"; \", ';').split(';')))\n",
    "        taxa.replace({'c__Erysipelotrichi': 'c__Erysipelotrichia',\n",
    "                       'f__Bacteroidales S24-7 group': 'f__S24-7',\n",
    "                      'f__[Barnesiellaceae]': 'f__Porphyromonadaceae',\n",
    "                     }, inplace=True)\n",
    "        taxa.replace({'p__': np.nan, 'c__': np.nan, 'o__': np.nan, \n",
    "                      'f__': np.nan, 'g__': np.nan, 's__': np.nan},\n",
    "                     inplace=True)\n",
    "        taxa.fillna(method='ffill', axis=1, inplace=True)\n",
    "    else:\n",
    "        taxa = taxa.loc[table.ids(axis='observation')].apply(tidy_silva_levels)\n",
    "        taxa = taxa.apply(lambda x: pd.Series(x.split(';')))\n",
    "        taxa.fillna('Ambiguous', inplace=True)\n",
    "        uncultured = {\n",
    "            t: np.nan for t in np.unique(taxa.values.flatten())\n",
    "            if (('uncultured' in t) | ('Ambiguous' in t) | ('metagenome' in t) |\n",
    "                ('unidentified' in t) | ('|' in t))\n",
    "        }\n",
    "        taxa.replace(uncultured, inplace=True)\n",
    "        taxa.replace({'f__Clostridiaceae 1': 'f__Clostridiaceae',\n",
    "                      }, inplace=True)\n",
    "        taxa.fillna(method='ffill', axis=1, inplace=True)\n",
    "        table.add_metadata(taxa.to_dict(orient='index'), axis='observation')\n",
    "    \n",
    "    table.add_metadata(taxa.to_dict(orient='index'), axis='observation')\n",
    "    \n",
    "    return table"
   ]
  },
  {
   "cell_type": "code",
   "execution_count": 10,
   "metadata": {},
   "outputs": [
    {
     "name": "stdout",
     "output_type": "stream",
     "text": [
      "reference\n",
      "otus\n",
      "asvs\n",
      "sidle\n"
     ]
    }
   ],
   "source": [
    "table_with_taxa = {method: assemble_taxonomy(method)\n",
    "                   for method in methods}"
   ]
  },
  {
   "cell_type": "markdown",
   "metadata": {},
   "source": [
    "# Sequence coverage\n",
    "\n",
    "## ASVs (Greengenes)"
   ]
  },
  {
   "cell_type": "code",
   "execution_count": 11,
   "metadata": {},
   "outputs": [],
   "source": [
    "seq_coverage = pd.DataFrame(\n",
    "    data=[Artifact.load('data/output/simulation/asv_ref/v13-seqs.qza').view(pd.Series), \n",
    "          Artifact.load('data/output/simulation/asv_ref/v34-seqs.qza').view(pd.Series), \n",
    "          Artifact.load('data/output/simulation/asv_ref/v68-seqs.qza').view(pd.Series),\n",
    "         ],\n",
    "    index=['v13', 'v4', 'v68']).notna().T"
   ]
  },
  {
   "cell_type": "code",
   "execution_count": 12,
   "metadata": {},
   "outputs": [],
   "source": [
    "ref_ids = table_with_taxa['reference'].ids(axis='observation')"
   ]
  },
  {
   "cell_type": "code",
   "execution_count": 13,
   "metadata": {},
   "outputs": [],
   "source": [
    "ref_coverage = pd.concat(axis=1, objs=[\n",
    "    seq_coverage.loc[ref_ids], \n",
    "    table_with_taxa['reference'].metadata_to_dataframe(axis='observation')\n",
    "])"
   ]
  },
  {
   "cell_type": "code",
   "execution_count": 14,
   "metadata": {},
   "outputs": [
    {
     "data": {
      "text/plain": [
       "array(['o__Actinomycetales', 'o__Lactobacillales', 'o__Clostridiales',\n",
       "       'o__Bacteroidales', 'o__Bacillales', 'o__Campylobacterales',\n",
       "       'o__Thiohalorhabdales', 'o__Enterobacteriales',\n",
       "       'o__Desulfovibrionales', 'o__Bifidobacteriales',\n",
       "       'o__Erysipelotrichales', 'o__Chromatiales', 'o__Aeromonadales',\n",
       "       'o__Anaeroplasmatales', 'o__Verrucomicrobiales',\n",
       "       'o__Elusimicrobiales', 'o__Turicibacterales', 'o__Pasteurellales',\n",
       "       'o__Pseudomonadales', 'o__Burkholderiales', 'o__Coriobacteriales',\n",
       "       'o__Spirochaetales', 'o__RF39', 'o__YS2', 'o__Fusobacteriales',\n",
       "       'c__Clostridia', 'o__Victivallales', 'o__Neisseriales',\n",
       "       'c__Gammaproteobacteria', 'o__Streptophyta', 'o__Gemellales',\n",
       "       'o__Alteromonadales', 'o__Rickettsiales', 'o__RF32',\n",
       "       'o__Methanobacteriales', 'o__ML615J-28', 'o__[Cerasicoccales]',\n",
       "       'o__WCHB1-41', 'o__Rhodocyclales', 'o__SHA-98'], dtype=object)"
      ]
     },
     "execution_count": 14,
     "metadata": {},
     "output_type": "execute_result"
    }
   ],
   "source": [
    "ref_coverage[3].unique()"
   ]
  },
  {
   "cell_type": "code",
   "execution_count": 15,
   "metadata": {},
   "outputs": [],
   "source": [
    "class_coverage = (ref_coverage.groupby(2).sum()[['v13', 'v4', 'v68']] /\n",
    "                  ref_coverage.groupby(2).count()[['v13', 'v4', 'v68']])\n",
    "family_coverage = (ref_coverage.groupby(4).sum()[['v13', 'v4', 'v68']] /\n",
    "                  ref_coverage.groupby(4).count()[['v13', 'v4', 'v68']])"
   ]
  },
  {
   "cell_type": "code",
   "execution_count": 16,
   "metadata": {},
   "outputs": [
    {
     "data": {
      "text/html": [
       "<div>\n",
       "<style scoped>\n",
       "    .dataframe tbody tr th:only-of-type {\n",
       "        vertical-align: middle;\n",
       "    }\n",
       "\n",
       "    .dataframe tbody tr th {\n",
       "        vertical-align: top;\n",
       "    }\n",
       "\n",
       "    .dataframe thead th {\n",
       "        text-align: right;\n",
       "    }\n",
       "</style>\n",
       "<table border=\"1\" class=\"dataframe\">\n",
       "  <thead>\n",
       "    <tr style=\"text-align: right;\">\n",
       "      <th></th>\n",
       "      <th>v13</th>\n",
       "      <th>v4</th>\n",
       "      <th>v68</th>\n",
       "    </tr>\n",
       "    <tr>\n",
       "      <th>2</th>\n",
       "      <th></th>\n",
       "      <th></th>\n",
       "      <th></th>\n",
       "    </tr>\n",
       "  </thead>\n",
       "  <tbody>\n",
       "    <tr>\n",
       "      <th>c__4C0d-2</th>\n",
       "      <td>0.636364</td>\n",
       "      <td>1.000000</td>\n",
       "      <td>1.0</td>\n",
       "    </tr>\n",
       "    <tr>\n",
       "      <th>c__Actinobacteria</th>\n",
       "      <td>0.218750</td>\n",
       "      <td>1.000000</td>\n",
       "      <td>1.0</td>\n",
       "    </tr>\n",
       "    <tr>\n",
       "      <th>c__Alphaproteobacteria</th>\n",
       "      <td>0.666667</td>\n",
       "      <td>1.000000</td>\n",
       "      <td>1.0</td>\n",
       "    </tr>\n",
       "    <tr>\n",
       "      <th>c__Bacilli</th>\n",
       "      <td>0.423913</td>\n",
       "      <td>1.000000</td>\n",
       "      <td>1.0</td>\n",
       "    </tr>\n",
       "    <tr>\n",
       "      <th>c__Bacteroidia</th>\n",
       "      <td>0.451456</td>\n",
       "      <td>1.000000</td>\n",
       "      <td>1.0</td>\n",
       "    </tr>\n",
       "    <tr>\n",
       "      <th>c__Betaproteobacteria</th>\n",
       "      <td>0.421053</td>\n",
       "      <td>1.000000</td>\n",
       "      <td>1.0</td>\n",
       "    </tr>\n",
       "    <tr>\n",
       "      <th>c__Chloroplast</th>\n",
       "      <td>1.000000</td>\n",
       "      <td>1.000000</td>\n",
       "      <td>1.0</td>\n",
       "    </tr>\n",
       "    <tr>\n",
       "      <th>c__Clostridia</th>\n",
       "      <td>0.551265</td>\n",
       "      <td>0.999334</td>\n",
       "      <td>1.0</td>\n",
       "    </tr>\n",
       "    <tr>\n",
       "      <th>c__Coriobacteriia</th>\n",
       "      <td>0.409091</td>\n",
       "      <td>1.000000</td>\n",
       "      <td>1.0</td>\n",
       "    </tr>\n",
       "    <tr>\n",
       "      <th>c__Deltaproteobacteria</th>\n",
       "      <td>0.666667</td>\n",
       "      <td>1.000000</td>\n",
       "      <td>1.0</td>\n",
       "    </tr>\n",
       "    <tr>\n",
       "      <th>c__Elusimicrobia</th>\n",
       "      <td>1.000000</td>\n",
       "      <td>1.000000</td>\n",
       "      <td>1.0</td>\n",
       "    </tr>\n",
       "    <tr>\n",
       "      <th>c__Epsilonproteobacteria</th>\n",
       "      <td>0.142857</td>\n",
       "      <td>1.000000</td>\n",
       "      <td>1.0</td>\n",
       "    </tr>\n",
       "    <tr>\n",
       "      <th>c__Erysipelotrichia</th>\n",
       "      <td>0.555556</td>\n",
       "      <td>1.000000</td>\n",
       "      <td>1.0</td>\n",
       "    </tr>\n",
       "    <tr>\n",
       "      <th>c__Fusobacteriia</th>\n",
       "      <td>0.500000</td>\n",
       "      <td>1.000000</td>\n",
       "      <td>1.0</td>\n",
       "    </tr>\n",
       "    <tr>\n",
       "      <th>c__Gammaproteobacteria</th>\n",
       "      <td>0.370787</td>\n",
       "      <td>1.000000</td>\n",
       "      <td>1.0</td>\n",
       "    </tr>\n",
       "    <tr>\n",
       "      <th>c__Methanobacteria</th>\n",
       "      <td>0.000000</td>\n",
       "      <td>1.000000</td>\n",
       "      <td>1.0</td>\n",
       "    </tr>\n",
       "    <tr>\n",
       "      <th>c__Mollicutes</th>\n",
       "      <td>0.285714</td>\n",
       "      <td>1.000000</td>\n",
       "      <td>1.0</td>\n",
       "    </tr>\n",
       "    <tr>\n",
       "      <th>c__Opitutae</th>\n",
       "      <td>1.000000</td>\n",
       "      <td>1.000000</td>\n",
       "      <td>1.0</td>\n",
       "    </tr>\n",
       "    <tr>\n",
       "      <th>c__RF3</th>\n",
       "      <td>0.666667</td>\n",
       "      <td>1.000000</td>\n",
       "      <td>1.0</td>\n",
       "    </tr>\n",
       "    <tr>\n",
       "      <th>c__Spirochaetes</th>\n",
       "      <td>0.666667</td>\n",
       "      <td>1.000000</td>\n",
       "      <td>1.0</td>\n",
       "    </tr>\n",
       "    <tr>\n",
       "      <th>c__Verruco-5</th>\n",
       "      <td>1.000000</td>\n",
       "      <td>1.000000</td>\n",
       "      <td>1.0</td>\n",
       "    </tr>\n",
       "    <tr>\n",
       "      <th>c__Verrucomicrobiae</th>\n",
       "      <td>0.333333</td>\n",
       "      <td>1.000000</td>\n",
       "      <td>1.0</td>\n",
       "    </tr>\n",
       "    <tr>\n",
       "      <th>c__[Lentisphaeria]</th>\n",
       "      <td>0.400000</td>\n",
       "      <td>1.000000</td>\n",
       "      <td>1.0</td>\n",
       "    </tr>\n",
       "  </tbody>\n",
       "</table>\n",
       "</div>"
      ],
      "text/plain": [
       "                               v13        v4  v68\n",
       "2                                                \n",
       "c__4C0d-2                 0.636364  1.000000  1.0\n",
       "c__Actinobacteria         0.218750  1.000000  1.0\n",
       "c__Alphaproteobacteria    0.666667  1.000000  1.0\n",
       "c__Bacilli                0.423913  1.000000  1.0\n",
       "c__Bacteroidia            0.451456  1.000000  1.0\n",
       "c__Betaproteobacteria     0.421053  1.000000  1.0\n",
       "c__Chloroplast            1.000000  1.000000  1.0\n",
       "c__Clostridia             0.551265  0.999334  1.0\n",
       "c__Coriobacteriia         0.409091  1.000000  1.0\n",
       "c__Deltaproteobacteria    0.666667  1.000000  1.0\n",
       "c__Elusimicrobia          1.000000  1.000000  1.0\n",
       "c__Epsilonproteobacteria  0.142857  1.000000  1.0\n",
       "c__Erysipelotrichia       0.555556  1.000000  1.0\n",
       "c__Fusobacteriia          0.500000  1.000000  1.0\n",
       "c__Gammaproteobacteria    0.370787  1.000000  1.0\n",
       "c__Methanobacteria        0.000000  1.000000  1.0\n",
       "c__Mollicutes             0.285714  1.000000  1.0\n",
       "c__Opitutae               1.000000  1.000000  1.0\n",
       "c__RF3                    0.666667  1.000000  1.0\n",
       "c__Spirochaetes           0.666667  1.000000  1.0\n",
       "c__Verruco-5              1.000000  1.000000  1.0\n",
       "c__Verrucomicrobiae       0.333333  1.000000  1.0\n",
       "c__[Lentisphaeria]        0.400000  1.000000  1.0"
      ]
     },
     "execution_count": 16,
     "metadata": {},
     "output_type": "execute_result"
    }
   ],
   "source": [
    "class_coverage"
   ]
  },
  {
   "cell_type": "code",
   "execution_count": 17,
   "metadata": {},
   "outputs": [
    {
     "data": {
      "text/plain": [
       "2\n",
       "c__4C0d-2                   0.879\n",
       "c__Actinobacteria           0.740\n",
       "c__Alphaproteobacteria      0.889\n",
       "c__Bacilli                  0.808\n",
       "c__Bacteroidia              0.817\n",
       "c__Betaproteobacteria       0.807\n",
       "c__Chloroplast              1.000\n",
       "c__Clostridia               0.850\n",
       "c__Coriobacteriia           0.803\n",
       "c__Deltaproteobacteria      0.889\n",
       "c__Elusimicrobia            1.000\n",
       "c__Epsilonproteobacteria    0.714\n",
       "c__Erysipelotrichia         0.852\n",
       "c__Fusobacteriia            0.833\n",
       "c__Gammaproteobacteria      0.790\n",
       "c__Methanobacteria          0.667\n",
       "c__Mollicutes               0.762\n",
       "c__Opitutae                 1.000\n",
       "c__RF3                      0.889\n",
       "c__Spirochaetes             0.889\n",
       "c__Verruco-5                1.000\n",
       "c__Verrucomicrobiae         0.778\n",
       "c__[Lentisphaeria]          0.800\n",
       "dtype: float64"
      ]
     },
     "execution_count": 17,
     "metadata": {},
     "output_type": "execute_result"
    }
   ],
   "source": [
    "class_coverage.mean(axis=1).round(3)"
   ]
  },
  {
   "cell_type": "markdown",
   "metadata": {},
   "source": [
    "## Aligned Database (Silva)"
   ]
  },
  {
   "cell_type": "code",
   "execution_count": 18,
   "metadata": {},
   "outputs": [],
   "source": [
    "def load_region(region):\n",
    "    art = Artifact.load(f'data/output/simulation/database/{region}_map.qza')\n",
    "    art = art.view(pd.DataFrame)['kmer-length']\n",
    "    seq_ids = art.index.drop_duplicates()\n",
    "    return pd.Series(np.array([True] * len(seq_ids)), index=seq_ids, name=region)\n",
    "\n",
    "db_coverage = pd.concat(axis=1, objs=[\n",
    "    load_region(region) for region in ['v13', 'v34', 'v68']\n",
    "]).notna()"
   ]
  },
  {
   "cell_type": "code",
   "execution_count": null,
   "metadata": {},
   "outputs": [],
   "source": []
  },
  {
   "cell_type": "code",
   "execution_count": null,
   "metadata": {},
   "outputs": [],
   "source": []
  },
  {
   "cell_type": "code",
   "execution_count": 19,
   "metadata": {},
   "outputs": [],
   "source": [
    "db_taxa = Artifact.load('data/reference/silva-ori/silva-128-99-taxonomy.qza').view(pd.Series)\n",
    "db_taxa = db_taxa.loc[db_coverage.index]"
   ]
  },
  {
   "cell_type": "code",
   "execution_count": null,
   "metadata": {},
   "outputs": [],
   "source": []
  },
  {
   "cell_type": "code",
   "execution_count": 20,
   "metadata": {},
   "outputs": [],
   "source": [
    "db_coverage['kingdom'] =  db_taxa.apply(lambda x: x.split(';')[0])\n",
    "db_coverage['phylum'] = db_taxa.apply(lambda x: x.split(';')[1])\n",
    "db_coverage['class'] = db_taxa.apply(lambda x:x.split(';')[2])\n",
    "db_coverage['family'] = db_taxa.apply(lambda x:x.split(';')[4])"
   ]
  },
  {
   "cell_type": "code",
   "execution_count": 21,
   "metadata": {},
   "outputs": [],
   "source": [
    "class_coverage = db_coverage.groupby('class').sum() / db_coverage.groupby('class').count()\n",
    "class_coverage.drop(columns=['family'], inplace=True)"
   ]
  },
  {
   "cell_type": "code",
   "execution_count": 22,
   "metadata": {},
   "outputs": [],
   "source": [
    "db_coverage = db_coverage.loc[db_coverage['kingdom'].isin(['D_0__Archaea', 'D_0__Bacteria'])]"
   ]
  },
  {
   "cell_type": "code",
   "execution_count": 23,
   "metadata": {},
   "outputs": [],
   "source": [
    "interesting_phyla = ['D_1__Actinobacteria', \n",
    "                     'D_1__Bacteroidetes',\n",
    "                     'D_1__Cyanobacteria',\n",
    "                     'D_1__Elusimicrobia',\n",
    "                     'D_1__Euryarchaeota',\n",
    "                     'D_1__Firmicutes',\n",
    "                     'D_1__Fusobacteria',\n",
    "                     'D_1__Lentisphaerae',\n",
    "                     'D_1__Proteobacteria',\n",
    "                     'D_1__Spirochaetae',\n",
    "                     'D_1__Tenericutes',\n",
    "                     'D_1__Verrucomicrobia'\n",
    "                     ]\n",
    "db_coverage = db_coverage.loc[db_coverage['phylum'].isin(interesting_phyla)]"
   ]
  },
  {
   "cell_type": "code",
   "execution_count": 24,
   "metadata": {},
   "outputs": [],
   "source": [
    "class_match = ['D_2__Actinobacteria',\n",
    "               'D_2__Alphaproteobacteria',\n",
    "               'D_2__Chloroplast',\n",
    "               'D_2__Clostridia',\n",
    "               'D_2__Coriobacteriia',\n",
    "               'D_2__Cyanobacteria',\n",
    "               'D_2__Bacilli',\n",
    "               'D_2__Bacteroidetes BD2-2',\n",
    "               'D_2__Bacteroidetes Incertae Sedis',\n",
    "               'D_2__Bacteroidetes VC2.1 Bac22',\n",
    "               'D_2__Bacteroidetes vadinHA17',\n",
    "               'D_2__Bacteroidia',\n",
    "               'D_2__Betaproteobacteria',\n",
    "               'D_2__Deltaproteobacteria',\n",
    "               'D_2__Elusimicrobia',\n",
    "               'D_2__Epsilonproteobacteria',\n",
    "               'D_2__Erysipelotrichia',\n",
    "               'D_2__Gammaproteobacteria',\n",
    "               'D_2__Methanobacteria',\n",
    "               'D_2__Mollicutes',\n",
    "               'D_2__Spirochaetes',\n",
    "               'D_2__Verrucomicrobiae',\n",
    "               'D_2__Lentisphaeria',\n",
    "              ]\n",
    "db_coverage = db_coverage.loc[db_coverage['class'].isin(class_match)]"
   ]
  },
  {
   "cell_type": "code",
   "execution_count": 25,
   "metadata": {},
   "outputs": [],
   "source": [
    "silva_class = db_coverage.groupby('class').sum() / db_coverage.groupby('class').count()\n",
    "silva_class.dropna(axis=1, inplace=True)"
   ]
  },
  {
   "cell_type": "code",
   "execution_count": 26,
   "metadata": {},
   "outputs": [
    {
     "data": {
      "text/plain": [
       "class\n",
       "D_2__Methanobacteria                 0.340095\n",
       "D_2__Bacteroidetes Incertae Sedis    0.725230\n",
       "D_2__Bacilli                         0.734432\n",
       "D_2__Actinobacteria                  0.742054\n",
       "D_2__Elusimicrobia                   0.769360\n",
       "D_2__Spirochaetes                    0.771386\n",
       "D_2__Bacteroidetes BD2-2             0.777569\n",
       "D_2__Cyanobacteria                   0.777884\n",
       "D_2__Bacteroidetes vadinHA17         0.788671\n",
       "D_2__Mollicutes                      0.790582\n",
       "D_2__Gammaproteobacteria             0.792754\n",
       "D_2__Alphaproteobacteria             0.796972\n",
       "D_2__Betaproteobacteria              0.808499\n",
       "D_2__Verrucomicrobiae                0.819667\n",
       "D_2__Deltaproteobacteria             0.820101\n",
       "D_2__Coriobacteriia                  0.829794\n",
       "D_2__Epsilonproteobacteria           0.830887\n",
       "D_2__Bacteroidia                     0.835486\n",
       "D_2__Chloroplast                     0.837947\n",
       "D_2__Clostridia                      0.843383\n",
       "D_2__Lentisphaeria                   0.844569\n",
       "D_2__Bacteroidetes VC2.1 Bac22       0.862121\n",
       "D_2__Erysipelotrichia                0.862276\n",
       "dtype: float64"
      ]
     },
     "execution_count": 26,
     "metadata": {},
     "output_type": "execute_result"
    }
   ],
   "source": [
    "silva_class.mean(axis=1).sort_values()"
   ]
  },
  {
   "cell_type": "code",
   "execution_count": 27,
   "metadata": {},
   "outputs": [
    {
     "data": {
      "text/html": [
       "<div>\n",
       "<style scoped>\n",
       "    .dataframe tbody tr th:only-of-type {\n",
       "        vertical-align: middle;\n",
       "    }\n",
       "\n",
       "    .dataframe tbody tr th {\n",
       "        vertical-align: top;\n",
       "    }\n",
       "\n",
       "    .dataframe thead th {\n",
       "        text-align: right;\n",
       "    }\n",
       "</style>\n",
       "<table border=\"1\" class=\"dataframe\">\n",
       "  <thead>\n",
       "    <tr style=\"text-align: right;\">\n",
       "      <th></th>\n",
       "      <th>v13</th>\n",
       "      <th>v34</th>\n",
       "      <th>v68</th>\n",
       "    </tr>\n",
       "    <tr>\n",
       "      <th>class</th>\n",
       "      <th></th>\n",
       "      <th></th>\n",
       "      <th></th>\n",
       "    </tr>\n",
       "  </thead>\n",
       "  <tbody>\n",
       "    <tr>\n",
       "      <th>D_2__Actinobacteria</th>\n",
       "      <td>0.247669</td>\n",
       "      <td>0.986600</td>\n",
       "      <td>0.991894</td>\n",
       "    </tr>\n",
       "    <tr>\n",
       "      <th>D_2__Alphaproteobacteria</th>\n",
       "      <td>0.425428</td>\n",
       "      <td>0.988533</td>\n",
       "      <td>0.976955</td>\n",
       "    </tr>\n",
       "    <tr>\n",
       "      <th>D_2__Bacilli</th>\n",
       "      <td>0.242487</td>\n",
       "      <td>0.966732</td>\n",
       "      <td>0.994076</td>\n",
       "    </tr>\n",
       "    <tr>\n",
       "      <th>D_2__Bacteroidetes BD2-2</th>\n",
       "      <td>0.343985</td>\n",
       "      <td>0.992481</td>\n",
       "      <td>0.996241</td>\n",
       "    </tr>\n",
       "    <tr>\n",
       "      <th>D_2__Bacteroidetes Incertae Sedis</th>\n",
       "      <td>0.189990</td>\n",
       "      <td>0.989275</td>\n",
       "      <td>0.996425</td>\n",
       "    </tr>\n",
       "    <tr>\n",
       "      <th>D_2__Bacteroidetes VC2.1 Bac22</th>\n",
       "      <td>0.595455</td>\n",
       "      <td>0.995455</td>\n",
       "      <td>0.995455</td>\n",
       "    </tr>\n",
       "    <tr>\n",
       "      <th>D_2__Bacteroidetes vadinHA17</th>\n",
       "      <td>0.369281</td>\n",
       "      <td>1.000000</td>\n",
       "      <td>0.996732</td>\n",
       "    </tr>\n",
       "    <tr>\n",
       "      <th>D_2__Bacteroidia</th>\n",
       "      <td>0.517037</td>\n",
       "      <td>0.994502</td>\n",
       "      <td>0.994917</td>\n",
       "    </tr>\n",
       "    <tr>\n",
       "      <th>D_2__Betaproteobacteria</th>\n",
       "      <td>0.443728</td>\n",
       "      <td>0.985346</td>\n",
       "      <td>0.996424</td>\n",
       "    </tr>\n",
       "    <tr>\n",
       "      <th>D_2__Chloroplast</th>\n",
       "      <td>0.562675</td>\n",
       "      <td>0.983826</td>\n",
       "      <td>0.967341</td>\n",
       "    </tr>\n",
       "    <tr>\n",
       "      <th>D_2__Clostridia</th>\n",
       "      <td>0.545161</td>\n",
       "      <td>0.995803</td>\n",
       "      <td>0.989184</td>\n",
       "    </tr>\n",
       "    <tr>\n",
       "      <th>D_2__Coriobacteriia</th>\n",
       "      <td>0.522201</td>\n",
       "      <td>0.986486</td>\n",
       "      <td>0.980695</td>\n",
       "    </tr>\n",
       "    <tr>\n",
       "      <th>D_2__Cyanobacteria</th>\n",
       "      <td>0.352703</td>\n",
       "      <td>0.990712</td>\n",
       "      <td>0.990236</td>\n",
       "    </tr>\n",
       "    <tr>\n",
       "      <th>D_2__Deltaproteobacteria</th>\n",
       "      <td>0.473982</td>\n",
       "      <td>0.989761</td>\n",
       "      <td>0.996561</td>\n",
       "    </tr>\n",
       "    <tr>\n",
       "      <th>D_2__Elusimicrobia</th>\n",
       "      <td>0.320707</td>\n",
       "      <td>0.989899</td>\n",
       "      <td>0.997475</td>\n",
       "    </tr>\n",
       "    <tr>\n",
       "      <th>D_2__Epsilonproteobacteria</th>\n",
       "      <td>0.512232</td>\n",
       "      <td>0.993578</td>\n",
       "      <td>0.986850</td>\n",
       "    </tr>\n",
       "    <tr>\n",
       "      <th>D_2__Erysipelotrichia</th>\n",
       "      <td>0.608029</td>\n",
       "      <td>0.987370</td>\n",
       "      <td>0.991430</td>\n",
       "    </tr>\n",
       "    <tr>\n",
       "      <th>D_2__Gammaproteobacteria</th>\n",
       "      <td>0.401852</td>\n",
       "      <td>0.982061</td>\n",
       "      <td>0.994348</td>\n",
       "    </tr>\n",
       "    <tr>\n",
       "      <th>D_2__Lentisphaeria</th>\n",
       "      <td>0.544944</td>\n",
       "      <td>0.994382</td>\n",
       "      <td>0.994382</td>\n",
       "    </tr>\n",
       "    <tr>\n",
       "      <th>D_2__Methanobacteria</th>\n",
       "      <td>0.020285</td>\n",
       "      <td>0.998497</td>\n",
       "      <td>0.001503</td>\n",
       "    </tr>\n",
       "    <tr>\n",
       "      <th>D_2__Mollicutes</th>\n",
       "      <td>0.388210</td>\n",
       "      <td>0.987785</td>\n",
       "      <td>0.995751</td>\n",
       "    </tr>\n",
       "    <tr>\n",
       "      <th>D_2__Spirochaetes</th>\n",
       "      <td>0.330199</td>\n",
       "      <td>0.991427</td>\n",
       "      <td>0.992533</td>\n",
       "    </tr>\n",
       "    <tr>\n",
       "      <th>D_2__Verrucomicrobiae</th>\n",
       "      <td>0.471480</td>\n",
       "      <td>0.994652</td>\n",
       "      <td>0.992870</td>\n",
       "    </tr>\n",
       "  </tbody>\n",
       "</table>\n",
       "</div>"
      ],
      "text/plain": [
       "                                        v13       v34       v68\n",
       "class                                                          \n",
       "D_2__Actinobacteria                0.247669  0.986600  0.991894\n",
       "D_2__Alphaproteobacteria           0.425428  0.988533  0.976955\n",
       "D_2__Bacilli                       0.242487  0.966732  0.994076\n",
       "D_2__Bacteroidetes BD2-2           0.343985  0.992481  0.996241\n",
       "D_2__Bacteroidetes Incertae Sedis  0.189990  0.989275  0.996425\n",
       "D_2__Bacteroidetes VC2.1 Bac22     0.595455  0.995455  0.995455\n",
       "D_2__Bacteroidetes vadinHA17       0.369281  1.000000  0.996732\n",
       "D_2__Bacteroidia                   0.517037  0.994502  0.994917\n",
       "D_2__Betaproteobacteria            0.443728  0.985346  0.996424\n",
       "D_2__Chloroplast                   0.562675  0.983826  0.967341\n",
       "D_2__Clostridia                    0.545161  0.995803  0.989184\n",
       "D_2__Coriobacteriia                0.522201  0.986486  0.980695\n",
       "D_2__Cyanobacteria                 0.352703  0.990712  0.990236\n",
       "D_2__Deltaproteobacteria           0.473982  0.989761  0.996561\n",
       "D_2__Elusimicrobia                 0.320707  0.989899  0.997475\n",
       "D_2__Epsilonproteobacteria         0.512232  0.993578  0.986850\n",
       "D_2__Erysipelotrichia              0.608029  0.987370  0.991430\n",
       "D_2__Gammaproteobacteria           0.401852  0.982061  0.994348\n",
       "D_2__Lentisphaeria                 0.544944  0.994382  0.994382\n",
       "D_2__Methanobacteria               0.020285  0.998497  0.001503\n",
       "D_2__Mollicutes                    0.388210  0.987785  0.995751\n",
       "D_2__Spirochaetes                  0.330199  0.991427  0.992533\n",
       "D_2__Verrucomicrobiae              0.471480  0.994652  0.992870"
      ]
     },
     "execution_count": 27,
     "metadata": {},
     "output_type": "execute_result"
    }
   ],
   "source": [
    "silva_class"
   ]
  },
  {
   "cell_type": "markdown",
   "metadata": {},
   "source": [
    "# Class"
   ]
  },
  {
   "cell_type": "markdown",
   "metadata": {},
   "source": [
    "## Compare to reference"
   ]
  },
  {
   "cell_type": "code",
   "execution_count": 28,
   "metadata": {},
   "outputs": [],
   "source": [
    "class_level_n = {\n",
    "    method: table.copy().norm(axis='sample').collapse(lambda id_, md: md[2], \n",
    "                                  norm=False, axis='observation'\n",
    "                                  ).filter(lambda v, id_, md: v.mean() > 1/1000, axis='observation'\n",
    "                                          ).to_dataframe().T.sort_index()\n",
    "    for method, table in table_with_taxa.items()\n",
    "}\n"
   ]
  },
  {
   "cell_type": "code",
   "execution_count": 29,
   "metadata": {},
   "outputs": [],
   "source": [
    "class_long = pd.concat(axis=1, objs=[\n",
    "    table.reset_index().melt(id_vars='index', var_name='class', value_name=set_).set_index(['index', 'class'])\n",
    "    for set_, table in class_level_n.items()\n",
    "])\n",
    "class_long.index.set_names(['sample-id', 'class'], inplace=True)\n",
    "class_long_diff = (class_long / class_long[['reference'] * 4].values)\n",
    "# class_long_diff = (class_long_diff / \n",
    "#                    np.vstack([class_long.groupby('class')['reference'].mean().loc[\n",
    "#                        class_long_diff.index.to_frame()['class']].values] * 4).T)\n",
    "class_long_diff.dropna(inplace=True)\n",
    "class_long.reset_index(inplace=True)\n",
    "class_long = class_long.melt(id_vars=['sample-id', 'class'],\n",
    "                             var_name='method',\n",
    "                             value_name='abundance')\n",
    "class_long_diff.reset_index(inplace=True)\n",
    "class_long_diff = class_long_diff.melt(id_vars=['sample-id', 'class'],\n",
    "                             var_name='method',\n",
    "                             value_name='abundance')"
   ]
  },
  {
   "cell_type": "code",
   "execution_count": null,
   "metadata": {},
   "outputs": [],
   "source": []
  },
  {
   "cell_type": "code",
   "execution_count": 30,
   "metadata": {},
   "outputs": [],
   "source": [
    "class_long['log-abund'] = np.log10(class_long['abundance'].astype(float).replace({0: np.nan}))\n",
    "class_long['log-abund'] = class_long['log-abund'].fillna(-5)"
   ]
  },
  {
   "cell_type": "code",
   "execution_count": 31,
   "metadata": {},
   "outputs": [
    {
     "data": {
      "text/plain": [
       "12"
      ]
     },
     "execution_count": 31,
     "metadata": {},
     "output_type": "execute_result"
    }
   ],
   "source": [
    "len(class_level_n['reference'].columns)"
   ]
  },
  {
   "cell_type": "code",
   "execution_count": 32,
   "metadata": {},
   "outputs": [],
   "source": [
    "tax_order = ['c__Clostridia', 'c__Bacilli', 'c__Erysipelotrichia',\n",
    "             'c__Bacteroidia',\n",
    "             'c__Actinobacteria', 'c__Coriobacteriia',\n",
    "             'c__Gammaproteobacteria', 'c__Betaproteobacteria', 'c__Deltaproteobacteria', 'c__Epsilonproteobacteria',\n",
    "             'c__Mollicutes',\n",
    "             'c__Verrucomicrobiae',\n",
    "             ]"
   ]
  },
  {
   "cell_type": "code",
   "execution_count": 33,
   "metadata": {},
   "outputs": [],
   "source": [
    "def fit_models(class_, method, class_level=class_level_n):\n",
    "    ref_ = class_level['reference'][class_]\n",
    "#     ref_[ref_ <= 1e-7] = 1e-7\n",
    "#     ref_ = np.log10(ref_)\n",
    "    other_ = class_level[method][class_]\n",
    "#     other_[other_ <= 1e-7] = 1e-7\n",
    "#     other_ = np.log10(other_)\n",
    "    \n",
    "    t_stat, t_p = ttest_rel(ref_, other_)\n",
    "    fit_ = sms.OLS(exog=ref_, endog=other_).fit()\n",
    "    m = fit_.params[0]\n",
    "    [[cil, cih]] = fit_.conf_int().values\n",
    "    \n",
    "    return pd.Series({'method': method,\n",
    "                      't_stat': t_stat,\n",
    "                      't_pval': t_p,\n",
    "                      'ols_r2': fit_.rsquared,\n",
    "                      'slope': m,\n",
    "                      'slope_ci_lo': cil,\n",
    "                      'slope_ci_hi': cih,\n",
    "                      'adult_mean': other_.loc[meta['age'] == 'adult'].mean(),\n",
    "                      'infant_mean': other_.loc[meta['age'] == 'infant'].mean(),\n",
    "                      }, name=class_)"
   ]
  },
  {
   "cell_type": "code",
   "execution_count": 38,
   "metadata": {},
   "outputs": [
    {
     "data": {
      "text/plain": [
       "0.075"
      ]
     },
     "execution_count": 38,
     "metadata": {},
     "output_type": "execute_result"
    }
   ],
   "source": []
  },
  {
   "cell_type": "code",
   "execution_count": 34,
   "metadata": {},
   "outputs": [],
   "source": [
    "class_p_val = pd.concat(axis=1, objs=[\n",
    "        fit_models(class_,method)\n",
    "        for class_, method in it.product(class_level_n['reference'].columns, \n",
    "                                         methods)\n",
    "    ]).T\n",
    "class_p_val['p-adj'] = sms.stats.multipletests(class_p_val['t_pval'], \n",
    "                                               method='bonferroni')[1]\n",
    "class_p_val.index.set_names('class', inplace=True)\n",
    "class_p_val['slope_off'] = np.absolute(class_p_val['slope'] - 1)\n",
    "# class_p_val.loc[]\n",
    "class_p_val.set_index('method', append=True, inplace=True)\n",
    "# class_p_val = pd.concat(axis=1, objs=[class_p_val, ancom_w])\n",
    "# class_p_val.dropna(subset=['adult_mean'], inplace=True)\n"
   ]
  },
  {
   "cell_type": "code",
   "execution_count": 35,
   "metadata": {},
   "outputs": [],
   "source": [
    "class_p_val.to_csv('data/output/tables/table_s2_class_comparison.tsv', sep='\\t')"
   ]
  },
  {
   "cell_type": "code",
   "execution_count": 36,
   "metadata": {},
   "outputs": [],
   "source": [
    "p_labels = ((np.log10(class_p_val['p-adj'].dropna().astype(float)) * \n",
    "             (class_p_val['p-adj'].dropna().astype(float) < 0.05) * \n",
    "             (class_p_val.dropna()['slope_off'].astype(float) > 0.05)\n",
    "             )\n",
    "           ).apply(\n",
    "    lambda x: np.absolute(np.ceil(np.max([-3, x])))).astype(int).unstack()\n",
    "diff_top = class_long_diff.groupby(['class', 'method'])['abundance'].max().unstack()\n"
   ]
  },
  {
   "cell_type": "code",
   "execution_count": null,
   "metadata": {},
   "outputs": [],
   "source": []
  },
  {
   "cell_type": "code",
   "execution_count": null,
   "metadata": {},
   "outputs": [],
   "source": [
    "fig_ = plt.figure(constrained_layout=True, \n",
    "                  dpi=150, \n",
    "                  figsize=(6, 5),\n",
    "                  facecolor='None'\n",
    "                 )\n",
    "gs = fig_.add_gridspec(6, 4)\n",
    "ax = fig_.add_subplot(gs[:, :])\n",
    "sn.boxplot(x='class', \n",
    "             y='abundance', \n",
    "             hue='method',\n",
    "             order=tax_order,\n",
    "             data=class_long_diff, \n",
    "             hue_order=['otus', 'asvs', 'sidle'],\n",
    "             ax=ax,\n",
    "           linewidth=1,\n",
    "#              dodge=True, \n",
    "           palette=['w'],\n",
    "#              palette=['#607381', '#A7B8F8', '#052955'],\n",
    "             fliersize=0, \n",
    "#              edgecolor='None'\n",
    "            )\n",
    "ax.plot(ax.get_xlim(), [1, 1], 'k:', linewidth=0.5)\n",
    "sn.stripplot(x='class', \n",
    "             y='abundance', \n",
    "             hue='method',\n",
    "             order=tax_order,\n",
    "             data=class_long_diff, \n",
    "             hue_order=['otus', 'asvs', 'sidle'],\n",
    "             ax=ax,\n",
    "             palette=['#AE9C45', '#607381', '#052955'],\n",
    "             s=1.5, \n",
    "             dodge=True,\n",
    "             edgecolor='None'\n",
    "            )\n",
    "ax.xaxis.set_tick_params(rotation=90)\n",
    "ax.legend_.set_visible(False)\n",
    "ax.legend(ncol=6)\n",
    "ax.set_xticklabels([c.split(\"__\")[1] for c in tax_order])\n",
    "ax.set_ylabel('$\\\\frac{\\\\mathrm{Reconstructed}}{\\\\mathrm{Reference}}$', size=12)\n",
    "\n",
    "\n",
    "ymin, ymax = ax.get_ylim()\n",
    "ydelta = ymax - ymin\n",
    "ax.set_ylim(ymin, ymin + ydelta * 1.05)\n",
    "\n",
    "for i, class_ in enumerate(tax_order):\n",
    "    ax.text(i - 0.25,\n",
    "            diff_top.loc[class_, 'otus'] + ydelta * 0.04, \n",
    "            s=''.join(['*'] * (p_labels.loc[class_, 'otus'])),\n",
    "            ha='center', va='center', size=9,\n",
    "            )\n",
    "    ax.text(i,\n",
    "            diff_top.loc[class_, 'asvs'] + ydelta * 0.05, \n",
    "            s=''.join(['*'] * (p_labels.loc[class_, 'asvs'])),\n",
    "            ha='center', va='center', size=9,\n",
    "            )\n",
    "    ax.text(i + 0.25,\n",
    "            diff_top.loc[class_, 'sidle'] + ydelta * 0.06, \n",
    "            s=''.join(['*'] * (p_labels.loc[class_, 'sidle'])),\n",
    "            ha='center', va='center', size=9,\n",
    "            )\n",
    "!mkdir -p data/output/figures/figure2/\n",
    "fig_.savefig('data/output/figures/figure2/fig2_class_relative_abund.png', facecolor='None', dpi=1200)\n",
    "fig_.savefig('data/output/figures/figure2/fig2_class_relative_abund.pdf', facecolor='None', dpi=1200)\n"
   ]
  },
  {
   "cell_type": "code",
   "execution_count": null,
   "metadata": {},
   "outputs": [],
   "source": []
  },
  {
   "cell_type": "code",
   "execution_count": null,
   "metadata": {},
   "outputs": [],
   "source": [
    "outliers = class_p_val.index[(class_p_val['p-adj']  <= 0.1) & \n",
    "                             (class_p_val['slope_off'] >= 0.05)].unique()\n",
    "outliers = class_p_val.loc[outliers].copy()\n",
    "outliers.drop(columns=['t_stat', 'ols_r2', 't_pval'], inplace=True)\n",
    "outliers = outliers.astype(float)\n",
    "outliers.index.to_frame()['class'].unique()"
   ]
  },
  {
   "cell_type": "code",
   "execution_count": null,
   "metadata": {},
   "outputs": [],
   "source": [
    "outlier_classes = class_p_val.groupby('class')['p-adj'].min().index[\n",
    "    (class_p_val.groupby('class')['p-adj'].min() <= 0.05) & \n",
    "    (class_p_val.groupby('class')['slope_off'].max() >= 0.075)\n",
    "]"
   ]
  },
  {
   "cell_type": "code",
   "execution_count": null,
   "metadata": {},
   "outputs": [],
   "source": [
    "class_p_val.loc[outlier_classes, ['slope', 'slope_ci_lo', 'slope_ci_hi', 'slope_off', 'p-adj']].astype(float).round(3)"
   ]
  },
  {
   "cell_type": "code",
   "execution_count": null,
   "metadata": {},
   "outputs": [],
   "source": [
    "fig_ = plt.figure(constrained_layout=True, \n",
    "                  facecolor='None', \n",
    "                  figsize=(6, 4),\n",
    "                  dpi=300)\n",
    "class_long2 = class_long.set_index(['class', 'method', 'sample-id']).copy()\n",
    "gs = fig_.add_gridspec(3, 6)\n",
    "for i, class_ in enumerate(outlier_classes):\n",
    "    axr = fig_.add_subplot(gs[int(i - np.floor(i / 3) * 3), 3*int(np.floor(i / 3)):3*(int(np.floor(i / 3)) + 1)], \n",
    "                           facecolor='None')\n",
    "    axr.xaxis.set_tick_params(bottom=False, labelbottom=None, top=False, labeltop=False)\n",
    "    axr.yaxis.set_tick_params(bottom=False, labelbottom=None, top=False, labeltop=False)\n",
    "    sn.despine(ax=axr, top=True, bottom=True, left=True, right=True)\n",
    "    axr.set_title(class_.replace('__', '. '))\n",
    "    if i in {2, 4}:\n",
    "        axr.set_xlabel(\"\\nReference\", size=10)\n",
    "    if i < 3:\n",
    "        axr.set_ylabel('Reconstruction\\n\\n', size=10)\n",
    "    \n",
    "# #     ax0 = fig_.add_subplot(gs[i, 0])\n",
    "# #     sn.stripplot(x='method', \n",
    "# #              y='abundance', \n",
    "# #              data=class_long.loc[class_long['class'] == class_], \n",
    "# #              ax=ax0,\n",
    "# #              dodge=True, \n",
    "# #              palette=['#AE9C45', '#607381', '#A7B8F8', '#052955'],\n",
    "# #              size=1, \n",
    "# #              edgecolor='None'\n",
    "# #             )\n",
    "# #     ax0.set_xticklabels(['R', 'O', 'A', 'S'])\n",
    "   \n",
    "    ax_w = []\n",
    "    for j, (method, color) in enumerate(zip(*(['otus', 'asvs', 'sidle'], ['#607381', '#A7B8F8', '#052955']))):\n",
    "        ax1 = fig_.add_subplot(gs[int(i - np.floor(i / 3) * 3), j + 3*int(np.floor(i / 3))], \n",
    "                               sharey=axr, sharex=axr)\n",
    "        sn.regplot(\n",
    "            class_long2.loc[(class_, 'reference'), 'abundance'],\n",
    "            class_long2.loc[(class_, method), 'abundance'],\n",
    "            scatter=True,\n",
    "            ci=None,\n",
    "            line_kws=dict(linewidth=1, alpha=0.5),\n",
    "            scatter_kws=dict(edgecolor='None', s=2),\n",
    "            color=color,\n",
    "\n",
    "        )\n",
    "        ax1.plot(ax1.get_xlim(), ax1.get_xlim(), 'k:', linewidth=0.5)\n",
    "        ax1.text(x=ax1.get_xlim()[-1], y=ax1.get_ylim()[0], \n",
    "                 s='m={slope:1.2f} '.format(\n",
    "                     **class_p_val.loc[(class_, method)].astype(float).to_dict()\n",
    "                     ),\n",
    "                 size=8,\n",
    "                 ha='right', va='bottom',\n",
    "                 )\n",
    "        ax1.xaxis.set_tick_params(labelsize=8)\n",
    "        ax1.set_ylabel('')\n",
    "        ax1.set_xlabel('')\n",
    "        ax1.yaxis.set_tick_params(labelleft=False, labelsize=8)\n",
    "        if j == 0:\n",
    "            ax1.yaxis.set_tick_params(labelleft=True, labelsize=8)\n",
    "            ax1.set_title('ADBEC'[i], loc='left', size=12)\n",
    "        \n",
    "        ax_w.append(ax1)\n",
    "    for ax, l in zip(*(ax_w, ['OTUs', \"ASVs\", 'Sidle'])):\n",
    "        ax.text(x=np.mean(ax1.get_xlim()), \n",
    "                y=np.max(ax1.get_ylim()) - np.diff(ax1.get_ylim()) * 0.05, \n",
    "                s=l, size=8, va='top', ha='center')\n",
    "        \n",
    "fig_.savefig('data/output/figures/figure2/figure_s2_class_slopes.png', dpi=300, facecolor='None')\n",
    "fig_.savefig('data/output/figures/figure2/figure_s2_class_slopes.pdf', dpi=300, facecolor='None')\n"
   ]
  }
 ],
 "metadata": {
  "kernelspec": {
   "display_name": "Python 3",
   "language": "python",
   "name": "python3"
  },
  "language_info": {
   "codemirror_mode": {
    "name": "ipython",
    "version": 3
   },
   "file_extension": ".py",
   "mimetype": "text/x-python",
   "name": "python",
   "nbconvert_exporter": "python",
   "pygments_lexer": "ipython3",
   "version": "3.6.12"
  }
 },
 "nbformat": 4,
 "nbformat_minor": 4
}

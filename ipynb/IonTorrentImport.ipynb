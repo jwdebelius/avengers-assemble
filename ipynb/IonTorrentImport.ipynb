{
 "cells": [
  {
   "cell_type": "code",
   "execution_count": 2,
   "id": "1fdd12a6-835b-476b-85b9-6915a50c18ab",
   "metadata": {},
   "outputs": [],
   "source": [
    "from functools import partial\n",
    "import os\n",
    "\n",
    "import numpy as np\n",
    "import pandas as pd\n",
    "import skbio\n",
    "import seaborn as sn\n",
    "\n",
    "from qiime2 import Artifact, Metadata, Visualization\n",
    "\n",
    "import qiime2.plugins.alignment.actions as q2_alignment\n",
    "import qiime2.plugins.dada2.actions as q2_dada2\n",
    "import qiime2.plugins.demux.actions as q2_demux\n",
    "import qiime2.plugins.feature_table.actions as q2_feature_table\n",
    "import qiime2.plugins.phylogeny.actions as q2_phylogeny\n",
    "\n",
    "\n",
    "%matplotlib inline"
   ]
  },
  {
   "cell_type": "code",
   "execution_count": 3,
   "id": "6e7dd76d-373f-499f-be43-8bbc3054d820",
   "metadata": {},
   "outputs": [
    {
     "name": "stdout",
     "output_type": "stream",
     "text": [
      "SRR11180057_1.fastq                  SRR2182220_1_batch_170000.fasta.map\n",
      "SRR11180057_2.fastq                  SRR2182220_1_batch_180000.fasta\n",
      "SRR2182220_1.fasta                   SRR2182220_1_batch_180000.fasta.map\n",
      "SRR2182220_1.fastq                   SRR2182220_1_batch_20000.fasta\n",
      "SRR2182220_1_batch_0.fasta           SRR2182220_1_batch_20000.fasta.map\n",
      "SRR2182220_1_batch_0.fasta.map       SRR2182220_1_batch_30000.fasta\n",
      "SRR2182220_1_batch_10000.fasta       SRR2182220_1_batch_30000.fasta.map\n",
      "SRR2182220_1_batch_10000.fasta.map   SRR2182220_1_batch_40000.fasta\n",
      "SRR2182220_1_batch_100000.fasta      SRR2182220_1_batch_40000.fasta.map\n",
      "SRR2182220_1_batch_100000.fasta.map  SRR2182220_1_batch_50000.fasta\n",
      "SRR2182220_1_batch_110000.fasta      SRR2182220_1_batch_50000.fasta.map\n",
      "SRR2182220_1_batch_110000.fasta.map  SRR2182220_1_batch_60000.fasta\n",
      "SRR2182220_1_batch_120000.fasta      SRR2182220_1_batch_60000.fasta.map\n",
      "SRR2182220_1_batch_120000.fasta.map  SRR2182220_1_batch_70000.fasta\n",
      "SRR2182220_1_batch_130000.fasta      SRR2182220_1_batch_70000.fasta.map\n",
      "SRR2182220_1_batch_130000.fasta.map  SRR2182220_1_batch_80000.fasta\n",
      "SRR2182220_1_batch_140000.fasta      SRR2182220_1_batch_80000.fasta.map\n",
      "SRR2182220_1_batch_140000.fasta.map  SRR2182220_1_batch_90000.fasta\n",
      "SRR2182220_1_batch_150000.fasta      SRR2182220_1_batch_90000.fasta.map\n",
      "SRR2182220_1_batch_150000.fasta.map  SRR2182221_1.fastq\n",
      "SRR2182220_1_batch_160000.fasta      SRR2182222_1.fastq\n",
      "SRR2182220_1_batch_160000.fasta.map  manifest.tsv\n",
      "SRR2182220_1_batch_170000.fasta      sequences.qza\n"
     ]
    }
   ],
   "source": [
    "ls data/inputs/mock/"
   ]
  },
  {
   "cell_type": "code",
   "execution_count": 4,
   "id": "930fc522-c4d3-4f3f-a401-780942350952",
   "metadata": {},
   "outputs": [],
   "source": [
    "# seqs_q2 = Artifact.load('data/inputs/mock/sequences.qza')\n",
    "# q2_demux.summarize(seqs_q2).visualization"
   ]
  },
  {
   "cell_type": "code",
   "execution_count": 5,
   "id": "6b3783a3-c11c-4297-93e0-40f9bcadbdf6",
   "metadata": {},
   "outputs": [],
   "source": [
    "def convert_fastq_2_fasta(fastq_filepath, fasta_filepath, phred_offset=33, \n",
    "                          chuck_size=10000):\n",
    "    \"\"\"\n",
    "    A lightweight function to convert fastq files to fastas\n",
    "    \"\"\"\n",
    "    seqs_with_qual = skbio.io.read(fastq_filepath, \n",
    "                                   format='fastq', \n",
    "                                   phred_offset=phred_offset,\n",
    "                                   )\n",
    "    for i, seq in enumerate(seqs_with_qual):\n",
    "        if (i / chuck_size) == np.floor(i / chuck_size):\n",
    "            new_fp = fasta_filepath.replace(\".fasta\", f'_batch_{i}.fasta')\n",
    "            f_ = skbio.io.open(new_fp, 'w')\n",
    "        seq.write(f_)"
   ]
  },
  {
   "cell_type": "code",
   "execution_count": 6,
   "id": "36af3e5c-4974-4fab-ba87-a4aa17dc492a",
   "metadata": {},
   "outputs": [],
   "source": [
    "convert_fastq_2_fasta('data/inputs/mock/SRR2182220_1.fastq',\n",
    "                      'data/inputs/mock/SRR2182220_1.fasta')"
   ]
  },
  {
   "cell_type": "code",
   "execution_count": 7,
   "id": "d7af55f5",
   "metadata": {},
   "outputs": [],
   "source": [
    "seqs_with_qual = skbio.io.read('data/inputs/mock/SRR2182220_1.fastq', \n",
    "                                   format='fastq', \n",
    "                                   phred_offset=33,\n",
    "                                   )\n",
    "seq_lengths = {\n",
    "    seq.metadata['id']: len(seq) \n",
    "    for seq in seqs_with_qual\n",
    "}\n",
    "seq_lengths = pd.Series(seq_lengths)"
   ]
  },
  {
   "cell_type": "code",
   "execution_count": 8,
   "id": "7120c28d-eb27-4f69-a222-eae807e73a6d",
   "metadata": {},
   "outputs": [
    {
     "data": {
      "text/plain": [
       "275.0    55347\n",
       "200.0    51307\n",
       "250.0    44601\n",
       "175.0    13766\n",
       "225.0     4230\n",
       "150.0     2881\n",
       "50.0      2688\n",
       "25.0      2440\n",
       "125.0     2395\n",
       "100.0     2331\n",
       "75.0      2054\n",
       "0.0        670\n",
       "300.0      526\n",
       "325.0       57\n",
       "350.0       43\n",
       "450.0        1\n",
       "375.0        1\n",
       "dtype: int64"
      ]
     },
     "execution_count": 8,
     "metadata": {},
     "output_type": "execute_result"
    }
   ],
   "source": [
    "seq_length_dist = np.floor(seq_lengths / 25).value_counts()\n",
    "seq_length_dist.rename({i: i * 25 for i in seq_length_dist.index})"
   ]
  },
  {
   "cell_type": "code",
   "execution_count": 9,
   "id": "1fd32332-587d-4bef-bb09-27a75e0ddc57",
   "metadata": {},
   "outputs": [
    {
     "data": {
      "text/plain": [
       "0.06786519763890837"
      ]
     },
     "execution_count": 9,
     "metadata": {},
     "output_type": "execute_result"
    }
   ],
   "source": [
    "(seq_lengths < 150).mean()"
   ]
  },
  {
   "cell_type": "code",
   "execution_count": 10,
   "id": "2efd513b-c59c-4f7e-a47d-5d8564770965",
   "metadata": {},
   "outputs": [
    {
     "data": {
      "text/plain": [
       "0.1576848784383127"
      ]
     },
     "execution_count": 10,
     "metadata": {},
     "output_type": "execute_result"
    }
   ],
   "source": [
    "(seq_lengths < 200).mean()"
   ]
  },
  {
   "cell_type": "code",
   "execution_count": null,
   "id": "bfc5ee7a-26b8-4256-b5a0-7a1cc19fe6be",
   "metadata": {
    "tags": []
   },
   "outputs": [],
   "source": [
    "breaks = ["
   ]
  },
  {
   "cell_type": "code",
   "execution_count": null,
   "id": "b0f47224-97e7-48da-87d7-b8806fa1af5e",
   "metadata": {},
   "outputs": [],
   "source": []
  },
  {
   "cell_type": "code",
   "execution_count": 16,
   "id": "5032a643",
   "metadata": {},
   "outputs": [],
   "source": [
    "msa1 = skbio.TabularMSA.read('data/output/mock/build_alignment/gg_88_rep_seq_alignment_0.fasta', \n",
    "                      constructor=partial(skbio.DNA, lowercase=True),\n",
    "                      )\n",
    "msa2 = skbio.TabularMSA.read('data/output/mock/build_alignment/gg_88_rep_seq_alignment_10000.fasta', \n",
    "                      constructor=partial(skbio.DNA, lowercase=True),\n",
    "                      )"
   ]
  },
  {
   "cell_type": "code",
   "execution_count": 17,
   "id": "28082fc8-4bad-44bf-8b73-277717fa08cd",
   "metadata": {},
   "outputs": [],
   "source": [
    "msa_series = pd.Series({seq.metadata['id']: seq for seq in msa1}).astype(str)\n",
    "aligned_seqs = msa_series.loc[[i for i in msa_series.index if (\"SR\" in i)]]\n",
    "msa_df = aligned_seqs.apply(lambda x: pd.Series(list(x)))"
   ]
  },
  {
   "cell_type": "code",
   "execution_count": null,
   "id": "02f844ed-30f3-477b-ae6f-17ac7e09fa16",
   "metadata": {},
   "outputs": [],
   "source": [
    "msa_df_na = msa_df.replace({\"-\": np.nan})"
   ]
  },
  {
   "cell_type": "code",
   "execution_count": null,
   "id": "766d7535-f60a-4c36-9705-486e97cc38f1",
   "metadata": {},
   "outputs": [],
   "source": [
    "align_coords = msa_df_na.apply(lambda x: np.array(x.index[x.notna()].values), axis=1)"
   ]
  },
  {
   "cell_type": "code",
   "execution_count": null,
   "id": "179be081-30bf-46b5-8629-781b89b80339",
   "metadata": {},
   "outputs": [],
   "source": [
    "# msa_df.notna().sum(axis=0).sort_values(ascending=False)"
   ]
  },
  {
   "cell_type": "code",
   "execution_count": null,
   "id": "b817959c-9c34-42db-926d-c6c38170c4ba",
   "metadata": {},
   "outputs": [],
   "source": [
    "align_coord_first = align_coords.apply(lambda x: x.min())"
   ]
  },
  {
   "cell_type": "code",
   "execution_count": null,
   "id": "b604d2eb-dae2-43de-ac6c-0b8ea7cad109",
   "metadata": {},
   "outputs": [],
   "source": [
    "align_coord_first.value_counts()"
   ]
  },
  {
   "cell_type": "code",
   "execution_count": null,
   "id": "8862c815-1e81-4a01-873e-929e56c422a8",
   "metadata": {},
   "outputs": [],
   "source": [
    "align_coord_first.loc[align_coord_first == 1842].index[:10]"
   ]
  },
  {
   "cell_type": "code",
   "execution_count": null,
   "id": "f2050d9a-274f-49f1-a1ec-82b4bd4a8e9b",
   "metadata": {},
   "outputs": [],
   "source": [
    "test1 = msa_df_na.loc[align_coord_first.loc[align_coord_first == 1842].index].dropna(axis=1, how='all')\n",
    "test1[test1.columns[:15]].isna().sum(axis=1).value_counts()"
   ]
  },
  {
   "cell_type": "code",
   "execution_count": null,
   "id": "fc943f39-9729-4719-9ddd-f16cf1599a7e",
   "metadata": {},
   "outputs": [],
   "source": [
    "test1.loc[test1[test1.columns[:15]].isna().sum(axis=1) > 0, test1.columns[:30]]"
   ]
  },
  {
   "cell_type": "code",
   "execution_count": null,
   "id": "ef1c63fd-ae00-46f9-bc3f-e7ddaac6ac82",
   "metadata": {},
   "outputs": [],
   "source": [
    "!mafft \\\n",
    " --add data/inputs/mock/SRR2182220_1.fasta \\\n",
    " --mapout data/reference/gg_13_8_88/gg_88_otus_aligned.fasta \\\n",
    " > data/output/mock/build_alignment/gg_88_rep_seq_alignment.fasta"
   ]
  },
  {
   "cell_type": "code",
   "execution_count": 140,
   "id": "f4981309-9701-49da-be4e-6dc5a34ac092",
   "metadata": {},
   "outputs": [
    {
     "data": {
      "text/plain": [
       "True"
      ]
     },
     "execution_count": 140,
     "metadata": {},
     "output_type": "execute_result"
    }
   ],
   "source": [
    "seq = skbio.DNA.read('data/inputs/mock/SRR2182220_1.fastq', phred_offset=phred_offset)\n",
    "seq."
   ]
  },
  {
   "cell_type": "code",
   "execution_count": 3,
   "id": "70905065-f402-4a22-a350-7af01c2b4398",
   "metadata": {},
   "outputs": [
    {
     "name": "stdout",
     "output_type": "stream",
     "text": [
      "\u001b[32mImported data/inputs/mock/manifest.tsv as SingleEndFastqManifestPhred33V2 to data/inputs/mock/sequences.qza\u001b[0m\n"
     ]
    }
   ],
   "source": [
    "!qiime tools import \\\n",
    " --type 'SampleData[SequencesWithQuality]' \\\n",
    " --input-path data/inputs/mock/manifest.tsv \\\n",
    " --output-path data/inputs/mock/sequences.qza \\\n",
    "  --input-format SingleEndFastqManifestPhred33V2"
   ]
  },
  {
   "cell_type": "code",
   "execution_count": 4,
   "id": "3219cd02-fcfa-45f2-924d-273b67b2d2dd",
   "metadata": {},
   "outputs": [],
   "source": [
    "seqs_with_quality = Artifact.load('data/inputs/mock/sequences.qza')"
   ]
  },
  {
   "cell_type": "code",
   "execution_count": 5,
   "id": "033c2b72-a143-4264-9629-e0f0d35d1fa7",
   "metadata": {},
   "outputs": [],
   "source": [
    "# q2_demux.summarize(seqs_with_quality).visualization"
   ]
  },
  {
   "cell_type": "code",
   "execution_count": 6,
   "id": "4bbac15c-b1a5-4910-890f-396206cb55ba",
   "metadata": {},
   "outputs": [
    {
     "name": "stdout",
     "output_type": "stream",
     "text": [
      "Running external command line application(s). This may print messages to stdout and/or stderr.\n",
      "The command(s) being run are below. These commands cannot be manually re-run as they will depend on temporary files that no longer exist.\n",
      "\n",
      "Command: run_dada_single.R /var/folders/bw/q064ds0d2795_6mxnrssf0l1gkw0rj/T/qiime2-archive-p9syluwl/aaded3cb-ad94-411a-81e5-b83aa41bf122/data /var/folders/bw/q064ds0d2795_6mxnrssf0l1gkw0rj/T/tmpod116mj5/output.tsv.biom /var/folders/bw/q064ds0d2795_6mxnrssf0l1gkw0rj/T/tmpod116mj5/track.tsv /var/folders/bw/q064ds0d2795_6mxnrssf0l1gkw0rj/T/tmpod116mj5 200 0 2.0 2 Inf independent none 1.0 1 250000 -1 32\n",
      "\n"
     ]
    }
   ],
   "source": [
    "all_table, all_rep_seqs, all_stats = q2_dada2.denoise_pyro(\n",
    "    demultiplexed_seqs=seqs_with_quality,\n",
    "    trunc_len=200,\n",
    "    chimera_method='none',\n",
    ")"
   ]
  },
  {
   "cell_type": "code",
   "execution_count": 7,
   "id": "2aa59bb1-f250-42a7-b5f8-08a8f54a0615",
   "metadata": {},
   "outputs": [
    {
     "data": {
      "text/plain": [
       "<artifact: FeatureData[Sequence] uuid: 472da9be-831c-465e-8a5b-69cdc88e0f43>"
      ]
     },
     "execution_count": 7,
     "metadata": {},
     "output_type": "execute_result"
    }
   ],
   "source": [
    "all_rep_seqs"
   ]
  },
  {
   "cell_type": "code",
   "execution_count": 8,
   "id": "22b1e9a6-b037-4641-aff0-809d9d97cf0d",
   "metadata": {},
   "outputs": [],
   "source": [
    "all_rep_seqs.view(pd.Series)\n",
    "!mkdir -p data/output/mock/build_alignment/\n",
    "with skbio.io.open('data/output/mock/build_alignment/rep_seqs.fasta', 'w') as f_:\n",
    "    for seq in all_rep_seqs.view(pd.Series).values:\n",
    "        seq.write(f_)"
   ]
  },
  {
   "cell_type": "code",
   "execution_count": 11,
   "id": "d8a107e4-30bf-4f09-a049-28ae283633c3",
   "metadata": {},
   "outputs": [],
   "source": [
    "with skbio.io.open('data/output/mock/build_alignment/rep_seqs-rev.fasta', 'w') as f_:\n",
    "    for seq in all_rep_seqs.view(pd.Series).values:\n",
    "        seq.reverse_complement().write(f_)"
   ]
  },
  {
   "cell_type": "code",
   "execution_count": null,
   "id": "10c11f43-0300-44e9-8ae0-d38ab68af3a8",
   "metadata": {},
   "outputs": [],
   "source": []
  },
  {
   "cell_type": "code",
   "execution_count": 145,
   "id": "32cdc3bb-5b48-4081-9509-5f3012fb0148",
   "metadata": {
    "tags": []
   },
   "outputs": [
    {
     "name": "stdout",
     "output_type": "stream",
     "text": [
      "nadd = 185338\n",
      "nthread = 0\n",
      "nthreadpair = 0\n",
      "nthreadtb = 0\n",
      "ppenalty_ex = 0\n",
      "stacksize: 8192 kb->38258 kb\n",
      "generating a scoring matrix for nucleotide (dist=200) ... done\n",
      "Gap Penalty = -1.53, +0.00, +0.00\n",
      "\n",
      "\n",
      "\n",
      "Making a distance matrix ..\n",
      "\n",
      "There are 4202 ambiguous characters.\n",
      " 93201 / 195882/Users/jusdeb/miniconda3/envs/qiime2-2021.8-dev/bin/mafft: line 2747: 28734 Killed: 9               \"$prefix/disttbfast\" -q $npickup -E $cycledisttbfast -V \"-\"$gopdist -s $unalignlevel $legacygapopt $mergearg -W $tuplesize $termgapopt $outnum $addarg $add2ndhalfarg -C $numthreads-$numthreadstb $memopt $weightopt $treeinopt $treeoutopt $distoutopt $seqtype $model -g $gexp -f \"-\"$gop -Q $spfactor -h $aof $param_fft $algopt $treealg $scoreoutarg $anchoropt -x $maxanchorseparation $oneiterationopt < infile > pre 2>> \"$progressfile\"\n"
     ]
    }
   ],
   "source": [
    "!mafft \\\n",
    " --add data/inputs/mock/SRR2182220_1.fasta \\\n",
    " --mapout data/reference/gg_13_8_88/gg_88_otus_aligned.fasta \\\n",
    " > data/output/mock/build_alignment/gg_88_rep_seq_alignment.fasta"
   ]
  },
  {
   "cell_type": "code",
   "execution_count": 12,
   "id": "75826ffb-567e-4bbe-984c-107f5ba8ca9b",
   "metadata": {
    "collapsed": true,
    "jupyter": {
     "outputs_hidden": true
    },
    "tags": []
   },
   "outputs": [
    {
     "name": "stdout",
     "output_type": "stream",
     "text": [
      "nadd = 326\n",
      "nthread = 0\n",
      "nthreadpair = 0\n",
      "nthreadtb = 0\n",
      "ppenalty_ex = 0\n",
      "stacksize: 8192 kb\n",
      "generating a scoring matrix for nucleotide (dist=200) ... done\n",
      "Gap Penalty = -1.53, +0.00, +0.00\n",
      "\n",
      "\n",
      "\n",
      "Making a distance matrix ..\n",
      "\n",
      "There are 4202 ambiguous characters.\n",
      " 10801 / 10870\n",
      "done.\n",
      "\n",
      "Constructing a UPGMA tree (efffree=0) ... \n",
      " 10860 / 10870\n",
      "done.\n",
      "\n",
      "Progressive alignment 1/2... \n",
      "STEP  3001 / 10869 \n",
      "done.\n",
      "\n",
      "Making a distance matrix from msa.. \n",
      " 10800 / 10870\n",
      "done.\n",
      "\n",
      "Constructing a UPGMA tree (efffree=1) ... \n",
      " 10860 / 10870\n",
      "done.\n",
      "\n",
      "Progressive alignment 2/2... \n",
      "STEP  8801 / 10869 \n",
      "done.\n",
      "\n",
      "disttbfast (nuc) Version 7.480\n",
      "alg=A, model=DNA200 (2), 1.53 (4.59), -0.00 (-0.00), noshift, amax=0.0\n",
      "0 thread(s)\n",
      "\n",
      "\n",
      "To keep the alignment length, 303 letters were DELETED.\n",
      "The deleted letters are shown in the (filename).map file.\n",
      "\n",
      "Strategy:\n",
      " FFT-NS-2 (Fast but rough)\n",
      " Progressive method (guide trees were built 2 times.)\n",
      "\n",
      "If unsure which option to use, try 'mafft --auto input > output'.\n",
      "For more information, see 'mafft --help', 'mafft --man' and the mafft page.\n",
      "\n",
      "The default gap scoring scheme has been changed in version 7.110 (2013 Oct).\n",
      "It tends to insert more gaps into gap-rich regions than previous versions.\n",
      "To disable this change, add the --leavegappyregion option.\n",
      "\n"
     ]
    }
   ],
   "source": [
    "!mafft \\\n",
    " --add data/output/mock/build_alignment/rep_seqs-rev.fasta \\\n",
    " --mapout data/reference/gg_13_8_88/gg_88_otus_aligned.fasta \\\n",
    " > data/output/mock/build_alignment/gg_88_rep_seq_alignment-rev.fasta"
   ]
  },
  {
   "cell_type": "code",
   "execution_count": 16,
   "id": "a0f9879b-c78d-4fbc-9c3a-8b056624d8ea",
   "metadata": {},
   "outputs": [],
   "source": [
    "fwd_gg138_88_align = skbio.TabularMSA.read(\n",
    "    'data/output/mock/build_alignment/gg_88_rep_seq_alignment.fasta',\n",
    "    constructor=partial(skbio.DNA, lowercase=True)\n",
    ")"
   ]
  },
  {
   "cell_type": "code",
   "execution_count": 46,
   "id": "37fc82ee-3699-49b0-9149-2b9587f25081",
   "metadata": {},
   "outputs": [],
   "source": [
    "rev_gg138_88_align = skbio.TabularMSA.read(\n",
    "    'data/output/mock/build_alignment/gg_88_rep_seq_alignment-rev.fasta',\n",
    "    constructor=partial(skbio.DNA, lowercase=True)\n",
    ")"
   ]
  },
  {
   "cell_type": "code",
   "execution_count": 47,
   "id": "df48c291-ee77-444a-b597-54c7db186380",
   "metadata": {},
   "outputs": [],
   "source": [
    "fwd_seq_position = pd.Series({seq_.metadata['id']: i \n",
    "                              for i, seq_ in enumerate(fwd_gg138_88_align)})\n",
    "rev_seq_position = pd.Series({seq_.metadata['id']: i \n",
    "                              for i, seq_ in enumerate(rev_gg138_88_align)})"
   ]
  },
  {
   "cell_type": "code",
   "execution_count": 48,
   "id": "b9c9d358-3eea-4f52-b4b0-51f54c911acc",
   "metadata": {},
   "outputs": [],
   "source": [
    "asv_fwd_pos = fwd_seq_position.loc[all_rep_seqs.view(pd.Series).index]\n",
    "asv_fwd_rev = rev_seq_position.loc[all_rep_seqs.view(pd.Series).index]"
   ]
  },
  {
   "cell_type": "code",
   "execution_count": null,
   "id": "482c81bf-8259-4b8d-b65e-c8c3bd7f1007",
   "metadata": {},
   "outputs": [],
   "source": []
  },
  {
   "cell_type": "code",
   "execution_count": 49,
   "id": "a585d603-611d-410a-bdde-ff34e936e279",
   "metadata": {},
   "outputs": [],
   "source": [
    "aligned_fwd = fwd_gg138_88_align.loc[asv_fwd_pos]\n",
    "aligned_rev = rev_gg138_88_align.loc[asv_fwd_rev]"
   ]
  },
  {
   "cell_type": "code",
   "execution_count": 50,
   "id": "fefef221-cdf7-4200-b5b1-a341acc97f52",
   "metadata": {},
   "outputs": [],
   "source": [
    "fwd_seqs = pd.Series({'{id}_fwd'.format(**seq.metadata): seq \n",
    "                      for seq in aligned_fwd.to_dict().values()})\n",
    "rev_seqs = pd.Series({'{id}_rev'.format(**seq.metadata): seq \n",
    "                      for seq in aligned_fwd.to_dict().values()})"
   ]
  },
  {
   "cell_type": "code",
   "execution_count": 58,
   "id": "6e701650-28cf-4441-b4ac-4bab7b8ba92e",
   "metadata": {},
   "outputs": [],
   "source": [
    "all_seqs_aligned = pd.concat(axis=0, objs=[fwd_seqs, rev_seqs])\n",
    "all_seqs_aligned = \\\n",
    "    all_seqs_aligned.astype(str).apply(lambda x: pd.Series(list(x)))\n",
    "all_seqs_aligned.replace({\"-\": np.nan}, inplace=True)"
   ]
  },
  {
   "cell_type": "code",
   "execution_count": 69,
   "id": "c4cd5380-2b0d-4dff-bf5f-f02977ed7532",
   "metadata": {},
   "outputs": [],
   "source": [
    "aligned_seq_pos = all_seqs_aligned.apply(lambda x: x.dropna().index.values, axis=1)"
   ]
  },
  {
   "cell_type": "code",
   "execution_count": 82,
   "id": "3932a245-6a27-43a3-962f-e02fe416bc79",
   "metadata": {},
   "outputs": [],
   "source": [
    "aligned_seq_pos_summary = pd.DataFrame({\n",
    "    'first': aligned_seq_pos.apply(lambda x: x[0]), \n",
    "    'last': aligned_seq_pos.apply(lambda x: x[-1]), \n",
    "    'mean': aligned_seq_pos.apply(lambda x: np.mean(x)), \n",
    "})"
   ]
  },
  {
   "cell_type": "code",
   "execution_count": 88,
   "id": "dafe94a7-8a3b-4afd-a01b-a8be5b288c91",
   "metadata": {},
   "outputs": [],
   "source": [
    "first_grouped = \\\n",
    "    aligned_seq_pos_summary.groupby('first').apply(lambda x: x.index.values)"
   ]
  },
  {
   "cell_type": "code",
   "execution_count": 93,
   "id": "9fe56ff1-8f36-4b1f-be15-862907b24614",
   "metadata": {},
   "outputs": [
    {
     "data": {
      "text/plain": [
       "first\n",
       "446     [e280f676bc9164faa188ce13ca0fcd23_fwd, b4c3a60...\n",
       "1842    [221282155f99e7c5c1db27bb52739487_fwd, da0ed08...\n",
       "1924    [3191d0e21ab539a36fd3f6ec731c656e_fwd, 529ada5...\n",
       "2232    [2c2fda0f43a5ac2086b5db6cc074804e_fwd, 70529bc...\n",
       "2239    [3911dcc2d8b9756a2955b45844bcdb34_fwd, 3911dcc...\n",
       "2246    [5896ae641a1e09789dea1ac234c3a772_fwd, feec1d0...\n",
       "2329    [63b007da33f2565a72a6d9fde54798b9_fwd, 63b007d...\n",
       "4049    [bf0eb2226e664f68e62490a1e5be17c0_fwd, f97fd74...\n",
       "4052    [57bfc062e18f9cc0dd6f2340a315edd4_fwd, 7da1470...\n",
       "4570    [6fb16ad6b32d348d8fc7c3b81c51ff7b_fwd, a671fe2...\n",
       "4641    [06e51bf729b20aa80e4269edd1602cf2_fwd, 1dc294c...\n",
       "4652    [c020ca7117d5403cddf965118bafe6dd_fwd, c020ca7...\n",
       "4947    [75c7a4f8dea15251e58c717bff25d147_fwd, b33a384...\n",
       "5009    [a4970fdc6b01daa1369a9eddbd7f2cb8_fwd, a4970fd...\n",
       "5012    [1437c319929123f1239776e9fbf9fd0c_fwd, 1854b3c...\n",
       "5028    [1ce53f7d397950c427d7a581e788b2f8_fwd, 1ce53f7...\n",
       "5073    [e1a369640ff6854d47d2956f4896aa32_fwd, e1a3696...\n",
       "5076    [3004cbcfafbc418c658c6db1ed4e31b4_fwd, 3004cbc...\n",
       "5871    [cdb6d1c6c7969599ffe561e48ffe53f1_fwd, cdb6d1c...\n",
       "5876    [f46efe6faabcfa607daa4d17c1bd4038_fwd, f46efe6...\n",
       "6165    [605079670c3c9f2a68b309852b5b1d0b_fwd, f6b4f88...\n",
       "dtype: object"
      ]
     },
     "execution_count": 93,
     "metadata": {},
     "output_type": "execute_result"
    }
   ],
   "source": [
    "first_grouped"
   ]
  },
  {
   "cell_type": "code",
   "execution_count": null,
   "id": "c42b9ab5-d394-46d3-aca0-930af99720c9",
   "metadata": {},
   "outputs": [],
   "source": []
  },
  {
   "cell_type": "code",
   "execution_count": null,
   "id": "f29b8a07-843f-45be-bee3-3d357a757113",
   "metadata": {},
   "outputs": [],
   "source": []
  },
  {
   "cell_type": "code",
   "execution_count": null,
   "id": "63a85d05-9572-42ff-aeed-b310e9c31948",
   "metadata": {},
   "outputs": [],
   "source": []
  }
 ],
 "metadata": {
  "kernelspec": {
   "display_name": "Python 3",
   "language": "python",
   "name": "python3"
  },
  "language_info": {
   "codemirror_mode": {
    "name": "ipython",
    "version": 3
   },
   "file_extension": ".py",
   "mimetype": "text/x-python",
   "name": "python",
   "nbconvert_exporter": "python",
   "pygments_lexer": "ipython3",
   "version": "3.8.10"
  }
 },
 "nbformat": 4,
 "nbformat_minor": 5
}
